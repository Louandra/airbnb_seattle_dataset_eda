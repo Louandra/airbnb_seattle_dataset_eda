{
 "cells": [
  {
   "cell_type": "code",
   "execution_count": 1,
   "metadata": {
    "ExecuteTime": {
     "end_time": "2024-06-01T11:27:43.575497Z",
     "start_time": "2024-06-01T11:27:43.081951Z"
    }
   },
   "outputs": [],
   "source": [
    "import numpy as np\n",
    "import pandas as pd\n",
    "import matplotlib.pyplot as plt\n",
    "import seaborn as sns\n",
    "%matplotlib inline\n",
    "pd.set_option('display.max_columns', None)\n",
    "pd.set_option('display.max_colwidth', None)\n",
    "pd.set_option('display.max_rows', 100)"
   ]
  },
  {
   "cell_type": "markdown",
   "metadata": {},
   "source": [
    "# Read in datasets"
   ]
  },
  {
   "cell_type": "markdown",
   "metadata": {},
   "source": [
    "## Reviews"
   ]
  },
  {
   "cell_type": "code",
   "execution_count": 2,
   "metadata": {
    "ExecuteTime": {
     "end_time": "2024-06-01T11:27:43.980757Z",
     "start_time": "2024-06-01T11:27:43.620298Z"
    }
   },
   "outputs": [
    {
     "data": {
      "text/html": [
       "<div>\n",
       "<style scoped>\n",
       "    .dataframe tbody tr th:only-of-type {\n",
       "        vertical-align: middle;\n",
       "    }\n",
       "\n",
       "    .dataframe tbody tr th {\n",
       "        vertical-align: top;\n",
       "    }\n",
       "\n",
       "    .dataframe thead th {\n",
       "        text-align: right;\n",
       "    }\n",
       "</style>\n",
       "<table border=\"1\" class=\"dataframe\">\n",
       "  <thead>\n",
       "    <tr style=\"text-align: right;\">\n",
       "      <th></th>\n",
       "      <th>listing_id</th>\n",
       "      <th>id</th>\n",
       "      <th>date</th>\n",
       "      <th>reviewer_id</th>\n",
       "      <th>reviewer_name</th>\n",
       "      <th>comments</th>\n",
       "    </tr>\n",
       "  </thead>\n",
       "  <tbody>\n",
       "    <tr>\n",
       "      <th>0</th>\n",
       "      <td>7202016</td>\n",
       "      <td>38917982</td>\n",
       "      <td>2015-07-19</td>\n",
       "      <td>28943674</td>\n",
       "      <td>Bianca</td>\n",
       "      <td>Cute and cozy place. Perfect location to everything!</td>\n",
       "    </tr>\n",
       "    <tr>\n",
       "      <th>1</th>\n",
       "      <td>7202016</td>\n",
       "      <td>39087409</td>\n",
       "      <td>2015-07-20</td>\n",
       "      <td>32440555</td>\n",
       "      <td>Frank</td>\n",
       "      <td>Kelly has a great room in a very central location. \\r\\nBeautiful building , architecture and a style that we really like. \\r\\nWe felt guite at home here and wish we had spent more time.\\r\\nWent for a walk and found Seattle Center with a major food festival in progress. What a treat.\\r\\nVisited the Space Needle and the Chihuly Glass exhibit. Then Pikes Place Market. WOW.  Thanks for a great stay.</td>\n",
       "    </tr>\n",
       "    <tr>\n",
       "      <th>2</th>\n",
       "      <td>7202016</td>\n",
       "      <td>39820030</td>\n",
       "      <td>2015-07-26</td>\n",
       "      <td>37722850</td>\n",
       "      <td>Ian</td>\n",
       "      <td>Very spacious apartment, and in a great neighborhood.  This is the kind of apartment I wish I had!\\r\\n\\r\\nDidn't really get to meet Kelly until I was on my out, but she was always readily available by phone. \\r\\n\\r\\nI believe the only \"issue\" (if you want to call it that) was finding a place to park, but I sincerely doubt its easy to park anywhere in a residential area after 5 pm on a Friday</td>\n",
       "    </tr>\n",
       "    <tr>\n",
       "      <th>3</th>\n",
       "      <td>7202016</td>\n",
       "      <td>40813543</td>\n",
       "      <td>2015-08-02</td>\n",
       "      <td>33671805</td>\n",
       "      <td>George</td>\n",
       "      <td>Close to Seattle Center and all it has to offer - ballet, theater, museum, Space Needle, restaurants of all ilk just blocks away, and the Metropolitan (probably the coolest grocer you'll ever find). Easy to find and Kelly was warm, welcoming, and really interesting to talk to.</td>\n",
       "    </tr>\n",
       "    <tr>\n",
       "      <th>4</th>\n",
       "      <td>7202016</td>\n",
       "      <td>41986501</td>\n",
       "      <td>2015-08-10</td>\n",
       "      <td>34959538</td>\n",
       "      <td>Ming</td>\n",
       "      <td>Kelly was a great host and very accommodating in a great neighborhood. She has some great coffee and while I wasn't around much during my stay the time I spent interacting with her was very pleasant. \\r\\n\\r\\nThe apartment is in a great location and very close to the Seattle Center. The neighborhood itself has a lot of good food as well!</td>\n",
       "    </tr>\n",
       "  </tbody>\n",
       "</table>\n",
       "</div>"
      ],
      "text/plain": [
       "   listing_id        id        date  reviewer_id reviewer_name  \\\n",
       "0     7202016  38917982  2015-07-19     28943674        Bianca   \n",
       "1     7202016  39087409  2015-07-20     32440555         Frank   \n",
       "2     7202016  39820030  2015-07-26     37722850           Ian   \n",
       "3     7202016  40813543  2015-08-02     33671805        George   \n",
       "4     7202016  41986501  2015-08-10     34959538          Ming   \n",
       "\n",
       "                                                                                                                                                                                                                                                                                                                                                                                                         comments  \n",
       "0                                                                                                                                                                                                                                                                                                                                                           Cute and cozy place. Perfect location to everything!   \n",
       "1  Kelly has a great room in a very central location. \\r\\nBeautiful building , architecture and a style that we really like. \\r\\nWe felt guite at home here and wish we had spent more time.\\r\\nWent for a walk and found Seattle Center with a major food festival in progress. What a treat.\\r\\nVisited the Space Needle and the Chihuly Glass exhibit. Then Pikes Place Market. WOW.  Thanks for a great stay.  \n",
       "2      Very spacious apartment, and in a great neighborhood.  This is the kind of apartment I wish I had!\\r\\n\\r\\nDidn't really get to meet Kelly until I was on my out, but she was always readily available by phone. \\r\\n\\r\\nI believe the only \"issue\" (if you want to call it that) was finding a place to park, but I sincerely doubt its easy to park anywhere in a residential area after 5 pm on a Friday  \n",
       "3                                                                                                                          Close to Seattle Center and all it has to offer - ballet, theater, museum, Space Needle, restaurants of all ilk just blocks away, and the Metropolitan (probably the coolest grocer you'll ever find). Easy to find and Kelly was warm, welcoming, and really interesting to talk to.   \n",
       "4                                                              Kelly was a great host and very accommodating in a great neighborhood. She has some great coffee and while I wasn't around much during my stay the time I spent interacting with her was very pleasant. \\r\\n\\r\\nThe apartment is in a great location and very close to the Seattle Center. The neighborhood itself has a lot of good food as well!  "
      ]
     },
     "execution_count": 2,
     "metadata": {},
     "output_type": "execute_result"
    }
   ],
   "source": [
    "reviews_df = pd.read_csv('./reviews.csv')\n",
    "reviews_df.head()"
   ]
  },
  {
   "cell_type": "code",
   "execution_count": 3,
   "metadata": {},
   "outputs": [
    {
     "data": {
      "text/plain": [
       "(84849, 6)"
      ]
     },
     "execution_count": 3,
     "metadata": {},
     "output_type": "execute_result"
    }
   ],
   "source": [
    "reviews_df.shape"
   ]
  },
  {
   "cell_type": "code",
   "execution_count": 4,
   "metadata": {
    "ExecuteTime": {
     "end_time": "2024-06-01T11:27:44.003496Z",
     "start_time": "2024-06-01T11:27:43.982461Z"
    }
   },
   "outputs": [
    {
     "data": {
      "text/plain": [
       "listing_id        0\n",
       "id                0\n",
       "date              0\n",
       "reviewer_id       0\n",
       "reviewer_name     0\n",
       "comments         18\n",
       "dtype: int64"
      ]
     },
     "execution_count": 4,
     "metadata": {},
     "output_type": "execute_result"
    }
   ],
   "source": [
    "reviews_df.isna().sum()"
   ]
  },
  {
   "cell_type": "markdown",
   "metadata": {},
   "source": [
    "## Calendar"
   ]
  },
  {
   "cell_type": "code",
   "execution_count": 5,
   "metadata": {
    "ExecuteTime": {
     "end_time": "2024-06-01T11:27:44.605959Z",
     "start_time": "2024-06-01T11:27:44.168878Z"
    }
   },
   "outputs": [
    {
     "data": {
      "text/html": [
       "<div>\n",
       "<style scoped>\n",
       "    .dataframe tbody tr th:only-of-type {\n",
       "        vertical-align: middle;\n",
       "    }\n",
       "\n",
       "    .dataframe tbody tr th {\n",
       "        vertical-align: top;\n",
       "    }\n",
       "\n",
       "    .dataframe thead th {\n",
       "        text-align: right;\n",
       "    }\n",
       "</style>\n",
       "<table border=\"1\" class=\"dataframe\">\n",
       "  <thead>\n",
       "    <tr style=\"text-align: right;\">\n",
       "      <th></th>\n",
       "      <th>listing_id</th>\n",
       "      <th>date</th>\n",
       "      <th>available</th>\n",
       "      <th>price</th>\n",
       "    </tr>\n",
       "  </thead>\n",
       "  <tbody>\n",
       "    <tr>\n",
       "      <th>0</th>\n",
       "      <td>241032</td>\n",
       "      <td>2016-01-04</td>\n",
       "      <td>t</td>\n",
       "      <td>$85.00</td>\n",
       "    </tr>\n",
       "    <tr>\n",
       "      <th>1</th>\n",
       "      <td>241032</td>\n",
       "      <td>2016-01-05</td>\n",
       "      <td>t</td>\n",
       "      <td>$85.00</td>\n",
       "    </tr>\n",
       "    <tr>\n",
       "      <th>2</th>\n",
       "      <td>241032</td>\n",
       "      <td>2016-01-06</td>\n",
       "      <td>f</td>\n",
       "      <td>NaN</td>\n",
       "    </tr>\n",
       "    <tr>\n",
       "      <th>3</th>\n",
       "      <td>241032</td>\n",
       "      <td>2016-01-07</td>\n",
       "      <td>f</td>\n",
       "      <td>NaN</td>\n",
       "    </tr>\n",
       "    <tr>\n",
       "      <th>4</th>\n",
       "      <td>241032</td>\n",
       "      <td>2016-01-08</td>\n",
       "      <td>f</td>\n",
       "      <td>NaN</td>\n",
       "    </tr>\n",
       "  </tbody>\n",
       "</table>\n",
       "</div>"
      ],
      "text/plain": [
       "   listing_id        date available   price\n",
       "0      241032  2016-01-04         t  $85.00\n",
       "1      241032  2016-01-05         t  $85.00\n",
       "2      241032  2016-01-06         f     NaN\n",
       "3      241032  2016-01-07         f     NaN\n",
       "4      241032  2016-01-08         f     NaN"
      ]
     },
     "execution_count": 5,
     "metadata": {},
     "output_type": "execute_result"
    }
   ],
   "source": [
    "calendar_df = pd.read_csv('./calendar.csv')\n",
    "calendar_df.head()"
   ]
  },
  {
   "cell_type": "code",
   "execution_count": 6,
   "metadata": {
    "ExecuteTime": {
     "end_time": "2024-06-01T11:27:44.611000Z",
     "start_time": "2024-06-01T11:27:44.607753Z"
    }
   },
   "outputs": [
    {
     "data": {
      "text/plain": [
       "(1393570, 4)"
      ]
     },
     "execution_count": 6,
     "metadata": {},
     "output_type": "execute_result"
    }
   ],
   "source": [
    "calendar_df.shape"
   ]
  },
  {
   "cell_type": "code",
   "execution_count": 7,
   "metadata": {
    "ExecuteTime": {
     "end_time": "2024-06-01T11:27:45.039905Z",
     "start_time": "2024-06-01T11:27:44.902311Z"
    }
   },
   "outputs": [
    {
     "data": {
      "text/plain": [
       "listing_id         0\n",
       "date               0\n",
       "available          0\n",
       "price         459028\n",
       "dtype: int64"
      ]
     },
     "execution_count": 7,
     "metadata": {},
     "output_type": "execute_result"
    }
   ],
   "source": [
    "calendar_df.isna().sum()"
   ]
  },
  {
   "cell_type": "code",
   "execution_count": 8,
   "metadata": {},
   "outputs": [
    {
     "data": {
      "text/plain": [
       "listing_id    3818\n",
       "date           365\n",
       "available        2\n",
       "price          669\n",
       "dtype: int64"
      ]
     },
     "execution_count": 8,
     "metadata": {},
     "output_type": "execute_result"
    }
   ],
   "source": [
    "calendar_df.nunique()"
   ]
  },
  {
   "cell_type": "markdown",
   "metadata": {},
   "source": [
    "## Listings"
   ]
  },
  {
   "cell_type": "code",
   "execution_count": 9,
   "metadata": {
    "ExecuteTime": {
     "end_time": "2024-06-01T11:27:45.683248Z",
     "start_time": "2024-06-01T11:27:45.441861Z"
    },
    "scrolled": true
   },
   "outputs": [
    {
     "data": {
      "text/html": [
       "<div>\n",
       "<style scoped>\n",
       "    .dataframe tbody tr th:only-of-type {\n",
       "        vertical-align: middle;\n",
       "    }\n",
       "\n",
       "    .dataframe tbody tr th {\n",
       "        vertical-align: top;\n",
       "    }\n",
       "\n",
       "    .dataframe thead th {\n",
       "        text-align: right;\n",
       "    }\n",
       "</style>\n",
       "<table border=\"1\" class=\"dataframe\">\n",
       "  <thead>\n",
       "    <tr style=\"text-align: right;\">\n",
       "      <th></th>\n",
       "      <th>id</th>\n",
       "      <th>listing_url</th>\n",
       "      <th>scrape_id</th>\n",
       "      <th>last_scraped</th>\n",
       "      <th>name</th>\n",
       "      <th>summary</th>\n",
       "      <th>space</th>\n",
       "      <th>description</th>\n",
       "      <th>experiences_offered</th>\n",
       "      <th>neighborhood_overview</th>\n",
       "      <th>notes</th>\n",
       "      <th>transit</th>\n",
       "      <th>thumbnail_url</th>\n",
       "      <th>medium_url</th>\n",
       "      <th>picture_url</th>\n",
       "      <th>xl_picture_url</th>\n",
       "      <th>host_id</th>\n",
       "      <th>host_url</th>\n",
       "      <th>host_name</th>\n",
       "      <th>host_since</th>\n",
       "      <th>host_location</th>\n",
       "      <th>host_about</th>\n",
       "      <th>host_response_time</th>\n",
       "      <th>host_response_rate</th>\n",
       "      <th>host_acceptance_rate</th>\n",
       "      <th>host_is_superhost</th>\n",
       "      <th>host_thumbnail_url</th>\n",
       "      <th>host_picture_url</th>\n",
       "      <th>host_neighbourhood</th>\n",
       "      <th>host_listings_count</th>\n",
       "      <th>host_total_listings_count</th>\n",
       "      <th>host_verifications</th>\n",
       "      <th>host_has_profile_pic</th>\n",
       "      <th>host_identity_verified</th>\n",
       "      <th>street</th>\n",
       "      <th>neighbourhood</th>\n",
       "      <th>neighbourhood_cleansed</th>\n",
       "      <th>neighbourhood_group_cleansed</th>\n",
       "      <th>city</th>\n",
       "      <th>state</th>\n",
       "      <th>zipcode</th>\n",
       "      <th>market</th>\n",
       "      <th>smart_location</th>\n",
       "      <th>country_code</th>\n",
       "      <th>country</th>\n",
       "      <th>latitude</th>\n",
       "      <th>longitude</th>\n",
       "      <th>is_location_exact</th>\n",
       "      <th>property_type</th>\n",
       "      <th>room_type</th>\n",
       "      <th>accommodates</th>\n",
       "      <th>bathrooms</th>\n",
       "      <th>bedrooms</th>\n",
       "      <th>beds</th>\n",
       "      <th>bed_type</th>\n",
       "      <th>amenities</th>\n",
       "      <th>square_feet</th>\n",
       "      <th>price</th>\n",
       "      <th>weekly_price</th>\n",
       "      <th>monthly_price</th>\n",
       "      <th>security_deposit</th>\n",
       "      <th>cleaning_fee</th>\n",
       "      <th>guests_included</th>\n",
       "      <th>extra_people</th>\n",
       "      <th>minimum_nights</th>\n",
       "      <th>maximum_nights</th>\n",
       "      <th>calendar_updated</th>\n",
       "      <th>has_availability</th>\n",
       "      <th>availability_30</th>\n",
       "      <th>availability_60</th>\n",
       "      <th>availability_90</th>\n",
       "      <th>availability_365</th>\n",
       "      <th>calendar_last_scraped</th>\n",
       "      <th>number_of_reviews</th>\n",
       "      <th>first_review</th>\n",
       "      <th>last_review</th>\n",
       "      <th>review_scores_rating</th>\n",
       "      <th>review_scores_accuracy</th>\n",
       "      <th>review_scores_cleanliness</th>\n",
       "      <th>review_scores_checkin</th>\n",
       "      <th>review_scores_communication</th>\n",
       "      <th>review_scores_location</th>\n",
       "      <th>review_scores_value</th>\n",
       "      <th>requires_license</th>\n",
       "      <th>license</th>\n",
       "      <th>jurisdiction_names</th>\n",
       "      <th>instant_bookable</th>\n",
       "      <th>cancellation_policy</th>\n",
       "      <th>require_guest_profile_picture</th>\n",
       "      <th>require_guest_phone_verification</th>\n",
       "      <th>calculated_host_listings_count</th>\n",
       "      <th>reviews_per_month</th>\n",
       "    </tr>\n",
       "  </thead>\n",
       "  <tbody>\n",
       "    <tr>\n",
       "      <th>0</th>\n",
       "      <td>241032</td>\n",
       "      <td>https://www.airbnb.com/rooms/241032</td>\n",
       "      <td>20160104002432</td>\n",
       "      <td>2016-01-04</td>\n",
       "      <td>Stylish Queen Anne Apartment</td>\n",
       "      <td>NaN</td>\n",
       "      <td>Make your self at home in this charming one-bedroom apartment, centrally-located on the west side of Queen Anne hill.   This elegantly-decorated, completely private apartment (bottom unit of a duplex) has an open floor plan, bamboo floors, a fully equipped kitchen, a TV,  DVD player, basic cable, and a very cozy bedroom with a queen-size bed. The unit sleeps up to four (two in the bedroom and two on the very comfortable fold out couch, linens included) and includes free WiFi and laundry. The apartment opens onto a private deck, complete with it's own BBQ, overlooking a garden and a forest of black bamboo.    The Apartment is perfectly-located just one block from the bus lines where you can catch a bus and be downtown Seattle in fifteen minutes or historic Ballard in ten or a quick five-minute walk will bring you to Whole Foods and Peet's Coffee or take a fifteen minute walk to the top of Queen Anne Hill where you will find a variety of eclectic shops, bars, and restaurants. There is no</td>\n",
       "      <td>Make your self at home in this charming one-bedroom apartment, centrally-located on the west side of Queen Anne hill.   This elegantly-decorated, completely private apartment (bottom unit of a duplex) has an open floor plan, bamboo floors, a fully equipped kitchen, a TV,  DVD player, basic cable, and a very cozy bedroom with a queen-size bed. The unit sleeps up to four (two in the bedroom and two on the very comfortable fold out couch, linens included) and includes free WiFi and laundry. The apartment opens onto a private deck, complete with it's own BBQ, overlooking a garden and a forest of black bamboo.    The Apartment is perfectly-located just one block from the bus lines where you can catch a bus and be downtown Seattle in fifteen minutes or historic Ballard in ten or a quick five-minute walk will bring you to Whole Foods and Peet's Coffee or take a fifteen minute walk to the top of Queen Anne Hill where you will find a variety of eclectic shops, bars, and restaurants. There is no</td>\n",
       "      <td>none</td>\n",
       "      <td>NaN</td>\n",
       "      <td>NaN</td>\n",
       "      <td>NaN</td>\n",
       "      <td>NaN</td>\n",
       "      <td>NaN</td>\n",
       "      <td>https://a1.muscache.com/ac/pictures/67560560/cfe47d69_original.jpg?interpolation=lanczos-none&amp;size=large_cover&amp;output-format=jpg&amp;output-quality=70</td>\n",
       "      <td>NaN</td>\n",
       "      <td>956883</td>\n",
       "      <td>https://www.airbnb.com/users/show/956883</td>\n",
       "      <td>Maija</td>\n",
       "      <td>2011-08-11</td>\n",
       "      <td>Seattle, Washington, United States</td>\n",
       "      <td>I am an artist, interior designer, and run a small landscape business. My life revolves around beauty wherever I find it or create it. I grew up in Seattle and love this city for the people, it's natural beauty and don't know anywhere else I would rather call home. I love to travel and try to do so as much as possible and am excited to be a part of the airbnb community!</td>\n",
       "      <td>within a few hours</td>\n",
       "      <td>96%</td>\n",
       "      <td>100%</td>\n",
       "      <td>f</td>\n",
       "      <td>https://a0.muscache.com/ac/users/956883/profile_pic/1318103129/original.jpg?interpolation=lanczos-none&amp;crop=w:w;*,*&amp;crop=h:h;*,*&amp;resize=50:*&amp;output-format=jpg&amp;output-quality=70</td>\n",
       "      <td>https://a0.muscache.com/ac/users/956883/profile_pic/1318103129/original.jpg?interpolation=lanczos-none&amp;crop=w:w;*,*&amp;crop=h:h;*,*&amp;resize=225:*&amp;output-format=jpg&amp;output-quality=70</td>\n",
       "      <td>Queen Anne</td>\n",
       "      <td>3.0</td>\n",
       "      <td>3.0</td>\n",
       "      <td>['email', 'phone', 'reviews', 'kba']</td>\n",
       "      <td>t</td>\n",
       "      <td>t</td>\n",
       "      <td>Gilman Dr W, Seattle, WA 98119, United States</td>\n",
       "      <td>Queen Anne</td>\n",
       "      <td>West Queen Anne</td>\n",
       "      <td>Queen Anne</td>\n",
       "      <td>Seattle</td>\n",
       "      <td>WA</td>\n",
       "      <td>98119</td>\n",
       "      <td>Seattle</td>\n",
       "      <td>Seattle, WA</td>\n",
       "      <td>US</td>\n",
       "      <td>United States</td>\n",
       "      <td>47.636289</td>\n",
       "      <td>-122.371025</td>\n",
       "      <td>t</td>\n",
       "      <td>Apartment</td>\n",
       "      <td>Entire home/apt</td>\n",
       "      <td>4</td>\n",
       "      <td>1.0</td>\n",
       "      <td>1.0</td>\n",
       "      <td>1.0</td>\n",
       "      <td>Real Bed</td>\n",
       "      <td>{TV,\"Cable TV\",Internet,\"Wireless Internet\",\"Air Conditioning\",Kitchen,Heating,\"Family/Kid Friendly\",Washer,Dryer}</td>\n",
       "      <td>NaN</td>\n",
       "      <td>$85.00</td>\n",
       "      <td>NaN</td>\n",
       "      <td>NaN</td>\n",
       "      <td>NaN</td>\n",
       "      <td>NaN</td>\n",
       "      <td>2</td>\n",
       "      <td>$5.00</td>\n",
       "      <td>1</td>\n",
       "      <td>365</td>\n",
       "      <td>4 weeks ago</td>\n",
       "      <td>t</td>\n",
       "      <td>14</td>\n",
       "      <td>41</td>\n",
       "      <td>71</td>\n",
       "      <td>346</td>\n",
       "      <td>2016-01-04</td>\n",
       "      <td>207</td>\n",
       "      <td>2011-11-01</td>\n",
       "      <td>2016-01-02</td>\n",
       "      <td>95.0</td>\n",
       "      <td>10.0</td>\n",
       "      <td>10.0</td>\n",
       "      <td>10.0</td>\n",
       "      <td>10.0</td>\n",
       "      <td>9.0</td>\n",
       "      <td>10.0</td>\n",
       "      <td>f</td>\n",
       "      <td>NaN</td>\n",
       "      <td>WASHINGTON</td>\n",
       "      <td>f</td>\n",
       "      <td>moderate</td>\n",
       "      <td>f</td>\n",
       "      <td>f</td>\n",
       "      <td>2</td>\n",
       "      <td>4.07</td>\n",
       "    </tr>\n",
       "  </tbody>\n",
       "</table>\n",
       "</div>"
      ],
      "text/plain": [
       "       id                          listing_url       scrape_id last_scraped  \\\n",
       "0  241032  https://www.airbnb.com/rooms/241032  20160104002432   2016-01-04   \n",
       "\n",
       "                           name summary  \\\n",
       "0  Stylish Queen Anne Apartment     NaN   \n",
       "\n",
       "                                                                                                                                                                                                                                                                                                                                                                                                                                                                                                                                                                                                                                                                                                                                                                                                                                                                                                                                                                                                                                      space  \\\n",
       "0  Make your self at home in this charming one-bedroom apartment, centrally-located on the west side of Queen Anne hill.   This elegantly-decorated, completely private apartment (bottom unit of a duplex) has an open floor plan, bamboo floors, a fully equipped kitchen, a TV,  DVD player, basic cable, and a very cozy bedroom with a queen-size bed. The unit sleeps up to four (two in the bedroom and two on the very comfortable fold out couch, linens included) and includes free WiFi and laundry. The apartment opens onto a private deck, complete with it's own BBQ, overlooking a garden and a forest of black bamboo.    The Apartment is perfectly-located just one block from the bus lines where you can catch a bus and be downtown Seattle in fifteen minutes or historic Ballard in ten or a quick five-minute walk will bring you to Whole Foods and Peet's Coffee or take a fifteen minute walk to the top of Queen Anne Hill where you will find a variety of eclectic shops, bars, and restaurants. There is no   \n",
       "\n",
       "                                                                                                                                                                                                                                                                                                                                                                                                                                                                                                                                                                                                                                                                                                                                                                                                                                                                                                                                                                                                                                description  \\\n",
       "0  Make your self at home in this charming one-bedroom apartment, centrally-located on the west side of Queen Anne hill.   This elegantly-decorated, completely private apartment (bottom unit of a duplex) has an open floor plan, bamboo floors, a fully equipped kitchen, a TV,  DVD player, basic cable, and a very cozy bedroom with a queen-size bed. The unit sleeps up to four (two in the bedroom and two on the very comfortable fold out couch, linens included) and includes free WiFi and laundry. The apartment opens onto a private deck, complete with it's own BBQ, overlooking a garden and a forest of black bamboo.    The Apartment is perfectly-located just one block from the bus lines where you can catch a bus and be downtown Seattle in fifteen minutes or historic Ballard in ten or a quick five-minute walk will bring you to Whole Foods and Peet's Coffee or take a fifteen minute walk to the top of Queen Anne Hill where you will find a variety of eclectic shops, bars, and restaurants. There is no   \n",
       "\n",
       "  experiences_offered neighborhood_overview notes transit thumbnail_url  \\\n",
       "0                none                   NaN   NaN     NaN           NaN   \n",
       "\n",
       "  medium_url  \\\n",
       "0        NaN   \n",
       "\n",
       "                                                                                                                                          picture_url  \\\n",
       "0  https://a1.muscache.com/ac/pictures/67560560/cfe47d69_original.jpg?interpolation=lanczos-none&size=large_cover&output-format=jpg&output-quality=70   \n",
       "\n",
       "  xl_picture_url  host_id                                  host_url host_name  \\\n",
       "0            NaN   956883  https://www.airbnb.com/users/show/956883     Maija   \n",
       "\n",
       "   host_since                       host_location  \\\n",
       "0  2011-08-11  Seattle, Washington, United States   \n",
       "\n",
       "                                                                                                                                                                                                                                                                                                                                                                             host_about  \\\n",
       "0  I am an artist, interior designer, and run a small landscape business. My life revolves around beauty wherever I find it or create it. I grew up in Seattle and love this city for the people, it's natural beauty and don't know anywhere else I would rather call home. I love to travel and try to do so as much as possible and am excited to be a part of the airbnb community!   \n",
       "\n",
       "   host_response_time host_response_rate host_acceptance_rate  \\\n",
       "0  within a few hours                96%                 100%   \n",
       "\n",
       "  host_is_superhost  \\\n",
       "0                 f   \n",
       "\n",
       "                                                                                                                                                                 host_thumbnail_url  \\\n",
       "0  https://a0.muscache.com/ac/users/956883/profile_pic/1318103129/original.jpg?interpolation=lanczos-none&crop=w:w;*,*&crop=h:h;*,*&resize=50:*&output-format=jpg&output-quality=70   \n",
       "\n",
       "                                                                                                                                                                    host_picture_url  \\\n",
       "0  https://a0.muscache.com/ac/users/956883/profile_pic/1318103129/original.jpg?interpolation=lanczos-none&crop=w:w;*,*&crop=h:h;*,*&resize=225:*&output-format=jpg&output-quality=70   \n",
       "\n",
       "  host_neighbourhood  host_listings_count  host_total_listings_count  \\\n",
       "0         Queen Anne                  3.0                        3.0   \n",
       "\n",
       "                     host_verifications host_has_profile_pic  \\\n",
       "0  ['email', 'phone', 'reviews', 'kba']                    t   \n",
       "\n",
       "  host_identity_verified                                         street  \\\n",
       "0                      t  Gilman Dr W, Seattle, WA 98119, United States   \n",
       "\n",
       "  neighbourhood neighbourhood_cleansed neighbourhood_group_cleansed     city  \\\n",
       "0    Queen Anne        West Queen Anne                   Queen Anne  Seattle   \n",
       "\n",
       "  state zipcode   market smart_location country_code        country  \\\n",
       "0    WA   98119  Seattle    Seattle, WA           US  United States   \n",
       "\n",
       "    latitude   longitude is_location_exact property_type        room_type  \\\n",
       "0  47.636289 -122.371025                 t     Apartment  Entire home/apt   \n",
       "\n",
       "   accommodates  bathrooms  bedrooms  beds  bed_type  \\\n",
       "0             4        1.0       1.0   1.0  Real Bed   \n",
       "\n",
       "                                                                                                            amenities  \\\n",
       "0  {TV,\"Cable TV\",Internet,\"Wireless Internet\",\"Air Conditioning\",Kitchen,Heating,\"Family/Kid Friendly\",Washer,Dryer}   \n",
       "\n",
       "   square_feet   price weekly_price monthly_price security_deposit  \\\n",
       "0          NaN  $85.00          NaN           NaN              NaN   \n",
       "\n",
       "  cleaning_fee  guests_included extra_people  minimum_nights  maximum_nights  \\\n",
       "0          NaN                2        $5.00               1             365   \n",
       "\n",
       "  calendar_updated has_availability  availability_30  availability_60  \\\n",
       "0      4 weeks ago                t               14               41   \n",
       "\n",
       "   availability_90  availability_365 calendar_last_scraped  number_of_reviews  \\\n",
       "0               71               346            2016-01-04                207   \n",
       "\n",
       "  first_review last_review  review_scores_rating  review_scores_accuracy  \\\n",
       "0   2011-11-01  2016-01-02                  95.0                    10.0   \n",
       "\n",
       "   review_scores_cleanliness  review_scores_checkin  \\\n",
       "0                       10.0                   10.0   \n",
       "\n",
       "   review_scores_communication  review_scores_location  review_scores_value  \\\n",
       "0                         10.0                     9.0                 10.0   \n",
       "\n",
       "  requires_license  license jurisdiction_names instant_bookable  \\\n",
       "0                f      NaN         WASHINGTON                f   \n",
       "\n",
       "  cancellation_policy require_guest_profile_picture  \\\n",
       "0            moderate                             f   \n",
       "\n",
       "  require_guest_phone_verification  calculated_host_listings_count  \\\n",
       "0                                f                               2   \n",
       "\n",
       "   reviews_per_month  \n",
       "0               4.07  "
      ]
     },
     "execution_count": 9,
     "metadata": {},
     "output_type": "execute_result"
    }
   ],
   "source": [
    "listings_df = pd.read_csv('./listings.csv')\n",
    "listings_df.head(1)"
   ]
  },
  {
   "cell_type": "code",
   "execution_count": 10,
   "metadata": {
    "ExecuteTime": {
     "end_time": "2024-06-01T11:27:45.860887Z",
     "start_time": "2024-06-01T11:27:45.856794Z"
    }
   },
   "outputs": [
    {
     "data": {
      "text/plain": [
       "(3818, 92)"
      ]
     },
     "execution_count": 10,
     "metadata": {},
     "output_type": "execute_result"
    }
   ],
   "source": [
    "listings_df.shape"
   ]
  },
  {
   "cell_type": "code",
   "execution_count": 11,
   "metadata": {
    "scrolled": true
   },
   "outputs": [
    {
     "data": {
      "text/plain": [
       "id                                  3818\n",
       "listing_url                         3818\n",
       "scrape_id                              1\n",
       "last_scraped                           1\n",
       "name                                3792\n",
       "summary                             3478\n",
       "space                               3119\n",
       "description                         3742\n",
       "experiences_offered                    1\n",
       "neighborhood_overview               2506\n",
       "notes                               1999\n",
       "transit                             2574\n",
       "thumbnail_url                       3498\n",
       "medium_url                          3498\n",
       "picture_url                         3818\n",
       "xl_picture_url                      3498\n",
       "host_id                             2751\n",
       "host_url                            2751\n",
       "host_name                           1466\n",
       "host_since                          1380\n",
       "host_location                        120\n",
       "host_about                          2011\n",
       "host_response_time                     4\n",
       "host_response_rate                    45\n",
       "host_acceptance_rate                   2\n",
       "host_is_superhost                      2\n",
       "host_thumbnail_url                  2743\n",
       "host_picture_url                    2743\n",
       "host_neighbourhood                   102\n",
       "host_listings_count                   27\n",
       "host_total_listings_count             27\n",
       "host_verifications                   116\n",
       "host_has_profile_pic                   2\n",
       "host_identity_verified                 2\n",
       "street                              1442\n",
       "neighbourhood                         81\n",
       "neighbourhood_cleansed                87\n",
       "neighbourhood_group_cleansed          17\n",
       "city                                   7\n",
       "state                                  2\n",
       "zipcode                               28\n",
       "market                                 1\n",
       "smart_location                         7\n",
       "country_code                           1\n",
       "country                                1\n",
       "latitude                            3818\n",
       "longitude                           3818\n",
       "is_location_exact                      2\n",
       "property_type                         16\n",
       "room_type                              3\n",
       "accommodates                          15\n",
       "bathrooms                             12\n",
       "bedrooms                               8\n",
       "beds                                  11\n",
       "bed_type                               5\n",
       "amenities                           3284\n",
       "square_feet                           47\n",
       "price                                273\n",
       "weekly_price                         395\n",
       "monthly_price                        356\n",
       "security_deposit                      46\n",
       "cleaning_fee                         118\n",
       "guests_included                       15\n",
       "extra_people                          45\n",
       "minimum_nights                        22\n",
       "maximum_nights                        68\n",
       "calendar_updated                      34\n",
       "has_availability                       1\n",
       "availability_30                       31\n",
       "availability_60                       61\n",
       "availability_90                       91\n",
       "availability_365                     363\n",
       "calendar_last_scraped                  1\n",
       "number_of_reviews                    195\n",
       "first_review                         984\n",
       "last_review                          321\n",
       "review_scores_rating                  42\n",
       "review_scores_accuracy                 7\n",
       "review_scores_cleanliness              8\n",
       "review_scores_checkin                  8\n",
       "review_scores_communication            8\n",
       "review_scores_location                 6\n",
       "review_scores_value                    8\n",
       "requires_license                       1\n",
       "license                                0\n",
       "jurisdiction_names                     1\n",
       "instant_bookable                       2\n",
       "cancellation_policy                    3\n",
       "require_guest_profile_picture          2\n",
       "require_guest_phone_verification       2\n",
       "calculated_host_listings_count        18\n",
       "reviews_per_month                    654\n",
       "dtype: int64"
      ]
     },
     "execution_count": 11,
     "metadata": {},
     "output_type": "execute_result"
    }
   ],
   "source": [
    "listings_df.nunique()"
   ]
  },
  {
   "cell_type": "markdown",
   "metadata": {},
   "source": [
    "# Summary"
   ]
  },
  {
   "cell_type": "code",
   "execution_count": 12,
   "metadata": {
    "ExecuteTime": {
     "end_time": "2024-06-01T11:27:46.726747Z",
     "start_time": "2024-06-01T11:27:46.722983Z"
    }
   },
   "outputs": [
    {
     "data": {
      "text/html": [
       "<div>\n",
       "<style scoped>\n",
       "    .dataframe tbody tr th:only-of-type {\n",
       "        vertical-align: middle;\n",
       "    }\n",
       "\n",
       "    .dataframe tbody tr th {\n",
       "        vertical-align: top;\n",
       "    }\n",
       "\n",
       "    .dataframe thead th {\n",
       "        text-align: right;\n",
       "    }\n",
       "</style>\n",
       "<table border=\"1\" class=\"dataframe\">\n",
       "  <thead>\n",
       "    <tr style=\"text-align: right;\">\n",
       "      <th></th>\n",
       "      <th>id</th>\n",
       "      <th>scrape_id</th>\n",
       "      <th>host_id</th>\n",
       "      <th>host_listings_count</th>\n",
       "      <th>host_total_listings_count</th>\n",
       "      <th>latitude</th>\n",
       "      <th>longitude</th>\n",
       "      <th>accommodates</th>\n",
       "      <th>bathrooms</th>\n",
       "      <th>bedrooms</th>\n",
       "      <th>beds</th>\n",
       "      <th>square_feet</th>\n",
       "      <th>guests_included</th>\n",
       "      <th>minimum_nights</th>\n",
       "      <th>maximum_nights</th>\n",
       "      <th>availability_30</th>\n",
       "      <th>availability_60</th>\n",
       "      <th>availability_90</th>\n",
       "      <th>availability_365</th>\n",
       "      <th>number_of_reviews</th>\n",
       "      <th>review_scores_rating</th>\n",
       "      <th>review_scores_accuracy</th>\n",
       "      <th>review_scores_cleanliness</th>\n",
       "      <th>review_scores_checkin</th>\n",
       "      <th>review_scores_communication</th>\n",
       "      <th>review_scores_location</th>\n",
       "      <th>review_scores_value</th>\n",
       "      <th>license</th>\n",
       "      <th>calculated_host_listings_count</th>\n",
       "      <th>reviews_per_month</th>\n",
       "    </tr>\n",
       "  </thead>\n",
       "  <tbody>\n",
       "    <tr>\n",
       "      <th>count</th>\n",
       "      <td>3.818000e+03</td>\n",
       "      <td>3.818000e+03</td>\n",
       "      <td>3.818000e+03</td>\n",
       "      <td>3816.000000</td>\n",
       "      <td>3816.000000</td>\n",
       "      <td>3818.000000</td>\n",
       "      <td>3818.000000</td>\n",
       "      <td>3818.000000</td>\n",
       "      <td>3802.000000</td>\n",
       "      <td>3812.000000</td>\n",
       "      <td>3817.000000</td>\n",
       "      <td>97.000000</td>\n",
       "      <td>3818.000000</td>\n",
       "      <td>3818.000000</td>\n",
       "      <td>3818.000000</td>\n",
       "      <td>3818.000000</td>\n",
       "      <td>3818.000000</td>\n",
       "      <td>3818.000000</td>\n",
       "      <td>3818.000000</td>\n",
       "      <td>3818.000000</td>\n",
       "      <td>3171.000000</td>\n",
       "      <td>3160.000000</td>\n",
       "      <td>3165.000000</td>\n",
       "      <td>3160.000000</td>\n",
       "      <td>3167.000000</td>\n",
       "      <td>3163.000000</td>\n",
       "      <td>3162.000000</td>\n",
       "      <td>0.0</td>\n",
       "      <td>3818.000000</td>\n",
       "      <td>3191.000000</td>\n",
       "    </tr>\n",
       "    <tr>\n",
       "      <th>mean</th>\n",
       "      <td>5.550111e+06</td>\n",
       "      <td>2.016010e+13</td>\n",
       "      <td>1.578556e+07</td>\n",
       "      <td>7.157757</td>\n",
       "      <td>7.157757</td>\n",
       "      <td>47.628961</td>\n",
       "      <td>-122.333103</td>\n",
       "      <td>3.349398</td>\n",
       "      <td>1.259469</td>\n",
       "      <td>1.307712</td>\n",
       "      <td>1.735394</td>\n",
       "      <td>854.618557</td>\n",
       "      <td>1.672603</td>\n",
       "      <td>2.369303</td>\n",
       "      <td>780.447617</td>\n",
       "      <td>16.786276</td>\n",
       "      <td>36.814825</td>\n",
       "      <td>58.082504</td>\n",
       "      <td>244.772656</td>\n",
       "      <td>22.223415</td>\n",
       "      <td>94.539262</td>\n",
       "      <td>9.636392</td>\n",
       "      <td>9.556398</td>\n",
       "      <td>9.786709</td>\n",
       "      <td>9.809599</td>\n",
       "      <td>9.608916</td>\n",
       "      <td>9.452245</td>\n",
       "      <td>NaN</td>\n",
       "      <td>2.946307</td>\n",
       "      <td>2.078919</td>\n",
       "    </tr>\n",
       "    <tr>\n",
       "      <th>std</th>\n",
       "      <td>2.962660e+06</td>\n",
       "      <td>0.000000e+00</td>\n",
       "      <td>1.458382e+07</td>\n",
       "      <td>28.628149</td>\n",
       "      <td>28.628149</td>\n",
       "      <td>0.043052</td>\n",
       "      <td>0.031745</td>\n",
       "      <td>1.977599</td>\n",
       "      <td>0.590369</td>\n",
       "      <td>0.883395</td>\n",
       "      <td>1.139480</td>\n",
       "      <td>671.404893</td>\n",
       "      <td>1.311040</td>\n",
       "      <td>16.305902</td>\n",
       "      <td>1683.589007</td>\n",
       "      <td>12.173637</td>\n",
       "      <td>23.337541</td>\n",
       "      <td>34.063845</td>\n",
       "      <td>126.772526</td>\n",
       "      <td>37.730892</td>\n",
       "      <td>6.606083</td>\n",
       "      <td>0.698031</td>\n",
       "      <td>0.797274</td>\n",
       "      <td>0.595499</td>\n",
       "      <td>0.568211</td>\n",
       "      <td>0.629053</td>\n",
       "      <td>0.750259</td>\n",
       "      <td>NaN</td>\n",
       "      <td>5.893029</td>\n",
       "      <td>1.822348</td>\n",
       "    </tr>\n",
       "    <tr>\n",
       "      <th>min</th>\n",
       "      <td>3.335000e+03</td>\n",
       "      <td>2.016010e+13</td>\n",
       "      <td>4.193000e+03</td>\n",
       "      <td>1.000000</td>\n",
       "      <td>1.000000</td>\n",
       "      <td>47.505088</td>\n",
       "      <td>-122.417219</td>\n",
       "      <td>1.000000</td>\n",
       "      <td>0.000000</td>\n",
       "      <td>0.000000</td>\n",
       "      <td>1.000000</td>\n",
       "      <td>0.000000</td>\n",
       "      <td>0.000000</td>\n",
       "      <td>1.000000</td>\n",
       "      <td>1.000000</td>\n",
       "      <td>0.000000</td>\n",
       "      <td>0.000000</td>\n",
       "      <td>0.000000</td>\n",
       "      <td>0.000000</td>\n",
       "      <td>0.000000</td>\n",
       "      <td>20.000000</td>\n",
       "      <td>2.000000</td>\n",
       "      <td>3.000000</td>\n",
       "      <td>2.000000</td>\n",
       "      <td>2.000000</td>\n",
       "      <td>4.000000</td>\n",
       "      <td>2.000000</td>\n",
       "      <td>NaN</td>\n",
       "      <td>1.000000</td>\n",
       "      <td>0.020000</td>\n",
       "    </tr>\n",
       "    <tr>\n",
       "      <th>25%</th>\n",
       "      <td>3.258256e+06</td>\n",
       "      <td>2.016010e+13</td>\n",
       "      <td>3.275204e+06</td>\n",
       "      <td>1.000000</td>\n",
       "      <td>1.000000</td>\n",
       "      <td>47.609418</td>\n",
       "      <td>-122.354320</td>\n",
       "      <td>2.000000</td>\n",
       "      <td>1.000000</td>\n",
       "      <td>1.000000</td>\n",
       "      <td>1.000000</td>\n",
       "      <td>420.000000</td>\n",
       "      <td>1.000000</td>\n",
       "      <td>1.000000</td>\n",
       "      <td>60.000000</td>\n",
       "      <td>2.000000</td>\n",
       "      <td>13.000000</td>\n",
       "      <td>28.000000</td>\n",
       "      <td>124.000000</td>\n",
       "      <td>2.000000</td>\n",
       "      <td>93.000000</td>\n",
       "      <td>9.000000</td>\n",
       "      <td>9.000000</td>\n",
       "      <td>10.000000</td>\n",
       "      <td>10.000000</td>\n",
       "      <td>9.000000</td>\n",
       "      <td>9.000000</td>\n",
       "      <td>NaN</td>\n",
       "      <td>1.000000</td>\n",
       "      <td>0.695000</td>\n",
       "    </tr>\n",
       "    <tr>\n",
       "      <th>50%</th>\n",
       "      <td>6.118244e+06</td>\n",
       "      <td>2.016010e+13</td>\n",
       "      <td>1.055814e+07</td>\n",
       "      <td>1.000000</td>\n",
       "      <td>1.000000</td>\n",
       "      <td>47.623601</td>\n",
       "      <td>-122.328874</td>\n",
       "      <td>3.000000</td>\n",
       "      <td>1.000000</td>\n",
       "      <td>1.000000</td>\n",
       "      <td>1.000000</td>\n",
       "      <td>750.000000</td>\n",
       "      <td>1.000000</td>\n",
       "      <td>2.000000</td>\n",
       "      <td>1125.000000</td>\n",
       "      <td>20.000000</td>\n",
       "      <td>46.000000</td>\n",
       "      <td>73.000000</td>\n",
       "      <td>308.000000</td>\n",
       "      <td>9.000000</td>\n",
       "      <td>96.000000</td>\n",
       "      <td>10.000000</td>\n",
       "      <td>10.000000</td>\n",
       "      <td>10.000000</td>\n",
       "      <td>10.000000</td>\n",
       "      <td>10.000000</td>\n",
       "      <td>10.000000</td>\n",
       "      <td>NaN</td>\n",
       "      <td>1.000000</td>\n",
       "      <td>1.540000</td>\n",
       "    </tr>\n",
       "    <tr>\n",
       "      <th>75%</th>\n",
       "      <td>8.035127e+06</td>\n",
       "      <td>2.016010e+13</td>\n",
       "      <td>2.590309e+07</td>\n",
       "      <td>3.000000</td>\n",
       "      <td>3.000000</td>\n",
       "      <td>47.662694</td>\n",
       "      <td>-122.310800</td>\n",
       "      <td>4.000000</td>\n",
       "      <td>1.000000</td>\n",
       "      <td>2.000000</td>\n",
       "      <td>2.000000</td>\n",
       "      <td>1200.000000</td>\n",
       "      <td>2.000000</td>\n",
       "      <td>2.000000</td>\n",
       "      <td>1125.000000</td>\n",
       "      <td>30.000000</td>\n",
       "      <td>59.000000</td>\n",
       "      <td>89.000000</td>\n",
       "      <td>360.000000</td>\n",
       "      <td>26.000000</td>\n",
       "      <td>99.000000</td>\n",
       "      <td>10.000000</td>\n",
       "      <td>10.000000</td>\n",
       "      <td>10.000000</td>\n",
       "      <td>10.000000</td>\n",
       "      <td>10.000000</td>\n",
       "      <td>10.000000</td>\n",
       "      <td>NaN</td>\n",
       "      <td>2.000000</td>\n",
       "      <td>3.000000</td>\n",
       "    </tr>\n",
       "    <tr>\n",
       "      <th>max</th>\n",
       "      <td>1.034016e+07</td>\n",
       "      <td>2.016010e+13</td>\n",
       "      <td>5.320861e+07</td>\n",
       "      <td>502.000000</td>\n",
       "      <td>502.000000</td>\n",
       "      <td>47.733358</td>\n",
       "      <td>-122.240607</td>\n",
       "      <td>16.000000</td>\n",
       "      <td>8.000000</td>\n",
       "      <td>7.000000</td>\n",
       "      <td>15.000000</td>\n",
       "      <td>3000.000000</td>\n",
       "      <td>15.000000</td>\n",
       "      <td>1000.000000</td>\n",
       "      <td>100000.000000</td>\n",
       "      <td>30.000000</td>\n",
       "      <td>60.000000</td>\n",
       "      <td>90.000000</td>\n",
       "      <td>365.000000</td>\n",
       "      <td>474.000000</td>\n",
       "      <td>100.000000</td>\n",
       "      <td>10.000000</td>\n",
       "      <td>10.000000</td>\n",
       "      <td>10.000000</td>\n",
       "      <td>10.000000</td>\n",
       "      <td>10.000000</td>\n",
       "      <td>10.000000</td>\n",
       "      <td>NaN</td>\n",
       "      <td>37.000000</td>\n",
       "      <td>12.150000</td>\n",
       "    </tr>\n",
       "  </tbody>\n",
       "</table>\n",
       "</div>"
      ],
      "text/plain": [
       "                 id     scrape_id       host_id  host_listings_count  \\\n",
       "count  3.818000e+03  3.818000e+03  3.818000e+03          3816.000000   \n",
       "mean   5.550111e+06  2.016010e+13  1.578556e+07             7.157757   \n",
       "std    2.962660e+06  0.000000e+00  1.458382e+07            28.628149   \n",
       "min    3.335000e+03  2.016010e+13  4.193000e+03             1.000000   \n",
       "25%    3.258256e+06  2.016010e+13  3.275204e+06             1.000000   \n",
       "50%    6.118244e+06  2.016010e+13  1.055814e+07             1.000000   \n",
       "75%    8.035127e+06  2.016010e+13  2.590309e+07             3.000000   \n",
       "max    1.034016e+07  2.016010e+13  5.320861e+07           502.000000   \n",
       "\n",
       "       host_total_listings_count     latitude    longitude  accommodates  \\\n",
       "count                3816.000000  3818.000000  3818.000000   3818.000000   \n",
       "mean                    7.157757    47.628961  -122.333103      3.349398   \n",
       "std                    28.628149     0.043052     0.031745      1.977599   \n",
       "min                     1.000000    47.505088  -122.417219      1.000000   \n",
       "25%                     1.000000    47.609418  -122.354320      2.000000   \n",
       "50%                     1.000000    47.623601  -122.328874      3.000000   \n",
       "75%                     3.000000    47.662694  -122.310800      4.000000   \n",
       "max                   502.000000    47.733358  -122.240607     16.000000   \n",
       "\n",
       "         bathrooms     bedrooms         beds  square_feet  guests_included  \\\n",
       "count  3802.000000  3812.000000  3817.000000    97.000000      3818.000000   \n",
       "mean      1.259469     1.307712     1.735394   854.618557         1.672603   \n",
       "std       0.590369     0.883395     1.139480   671.404893         1.311040   \n",
       "min       0.000000     0.000000     1.000000     0.000000         0.000000   \n",
       "25%       1.000000     1.000000     1.000000   420.000000         1.000000   \n",
       "50%       1.000000     1.000000     1.000000   750.000000         1.000000   \n",
       "75%       1.000000     2.000000     2.000000  1200.000000         2.000000   \n",
       "max       8.000000     7.000000    15.000000  3000.000000        15.000000   \n",
       "\n",
       "       minimum_nights  maximum_nights  availability_30  availability_60  \\\n",
       "count     3818.000000     3818.000000      3818.000000      3818.000000   \n",
       "mean         2.369303      780.447617        16.786276        36.814825   \n",
       "std         16.305902     1683.589007        12.173637        23.337541   \n",
       "min          1.000000        1.000000         0.000000         0.000000   \n",
       "25%          1.000000       60.000000         2.000000        13.000000   \n",
       "50%          2.000000     1125.000000        20.000000        46.000000   \n",
       "75%          2.000000     1125.000000        30.000000        59.000000   \n",
       "max       1000.000000   100000.000000        30.000000        60.000000   \n",
       "\n",
       "       availability_90  availability_365  number_of_reviews  \\\n",
       "count      3818.000000       3818.000000        3818.000000   \n",
       "mean         58.082504        244.772656          22.223415   \n",
       "std          34.063845        126.772526          37.730892   \n",
       "min           0.000000          0.000000           0.000000   \n",
       "25%          28.000000        124.000000           2.000000   \n",
       "50%          73.000000        308.000000           9.000000   \n",
       "75%          89.000000        360.000000          26.000000   \n",
       "max          90.000000        365.000000         474.000000   \n",
       "\n",
       "       review_scores_rating  review_scores_accuracy  \\\n",
       "count           3171.000000             3160.000000   \n",
       "mean              94.539262                9.636392   \n",
       "std                6.606083                0.698031   \n",
       "min               20.000000                2.000000   \n",
       "25%               93.000000                9.000000   \n",
       "50%               96.000000               10.000000   \n",
       "75%               99.000000               10.000000   \n",
       "max              100.000000               10.000000   \n",
       "\n",
       "       review_scores_cleanliness  review_scores_checkin  \\\n",
       "count                3165.000000            3160.000000   \n",
       "mean                    9.556398               9.786709   \n",
       "std                     0.797274               0.595499   \n",
       "min                     3.000000               2.000000   \n",
       "25%                     9.000000              10.000000   \n",
       "50%                    10.000000              10.000000   \n",
       "75%                    10.000000              10.000000   \n",
       "max                    10.000000              10.000000   \n",
       "\n",
       "       review_scores_communication  review_scores_location  \\\n",
       "count                  3167.000000             3163.000000   \n",
       "mean                      9.809599                9.608916   \n",
       "std                       0.568211                0.629053   \n",
       "min                       2.000000                4.000000   \n",
       "25%                      10.000000                9.000000   \n",
       "50%                      10.000000               10.000000   \n",
       "75%                      10.000000               10.000000   \n",
       "max                      10.000000               10.000000   \n",
       "\n",
       "       review_scores_value  license  calculated_host_listings_count  \\\n",
       "count          3162.000000      0.0                     3818.000000   \n",
       "mean              9.452245      NaN                        2.946307   \n",
       "std               0.750259      NaN                        5.893029   \n",
       "min               2.000000      NaN                        1.000000   \n",
       "25%               9.000000      NaN                        1.000000   \n",
       "50%              10.000000      NaN                        1.000000   \n",
       "75%              10.000000      NaN                        2.000000   \n",
       "max              10.000000      NaN                       37.000000   \n",
       "\n",
       "       reviews_per_month  \n",
       "count        3191.000000  \n",
       "mean            2.078919  \n",
       "std             1.822348  \n",
       "min             0.020000  \n",
       "25%             0.695000  \n",
       "50%             1.540000  \n",
       "75%             3.000000  \n",
       "max            12.150000  "
      ]
     },
     "execution_count": 12,
     "metadata": {},
     "output_type": "execute_result"
    }
   ],
   "source": [
    "listings_df.describe()"
   ]
  },
  {
   "cell_type": "code",
   "execution_count": 13,
   "metadata": {
    "ExecuteTime": {
     "end_time": "2024-06-01T11:27:47.252319Z",
     "start_time": "2024-06-01T11:27:47.244052Z"
    },
    "scrolled": true
   },
   "outputs": [
    {
     "data": {
      "text/plain": [
       "neighbourhood_cleansed\n",
       "Broadway                     397\n",
       "Belltown                     234\n",
       "Wallingford                  167\n",
       "Fremont                      158\n",
       "Minor                        135\n",
       "University District          122\n",
       "Stevens                      119\n",
       "First Hill                   108\n",
       "Central Business District    103\n",
       "Lower Queen Anne              94\n",
       "Greenwood                     89\n",
       "East Queen Anne               82\n",
       "North Beacon Hill             78\n",
       "Phinney Ridge                 73\n",
       "Adams                         70\n",
       "Mann                          67\n",
       "Ravenna                       67\n",
       "West Queen Anne               65\n",
       "West Woodland                 64\n",
       "Columbia City                 58\n",
       "Green Lake                    54\n",
       "North Queen Anne              54\n",
       "Leschi                        53\n",
       "Atlantic                      53\n",
       "Loyal Heights                 52\n",
       "Mount Baker                   50\n",
       "North Admiral                 49\n",
       "Madrona                       47\n",
       "Eastlake                      45\n",
       "Seward Park                   44\n",
       "Alki                          42\n",
       "Maple Leaf                    42\n",
       "Genesee                       34\n",
       "North Delridge                32\n",
       "Mid-Beacon Hill               30\n",
       "Lawton Park                   30\n",
       "Roosevelt                     30\n",
       "Bryant                        29\n",
       "Fairmount Park                29\n",
       "Pike-Market                   28\n",
       "South Lake Union              27\n",
       "Whittier Heights              26\n",
       "Pioneer Square                23\n",
       "Gatewood                      22\n",
       "Crown Hill                    21\n",
       "Dunlap                        20\n",
       "Montlake                      19\n",
       "Matthews Beach                19\n",
       "North College Park            19\n",
       "Rainier Beach                 18\n",
       "Madison Park                  18\n",
       "Wedgwood                      18\n",
       "Sunset Hill                   18\n",
       "Southeast Magnolia            17\n",
       "Westlake                      17\n",
       "Broadview                     17\n",
       "Yesler Terrace                17\n",
       "International District        17\n",
       "Olympic Hills                 16\n",
       "Haller Lake                   15\n",
       "Victory Heights               15\n",
       "North Beach/Blue Ridge        14\n",
       "Briarcliff                    14\n",
       "Portage Bay                   14\n",
       "Harrison/Denny-Blaine         14\n",
       "High Point                    14\n",
       "Bitter Lake                   13\n",
       "Brighton                      13\n",
       "South Delridge                12\n",
       "Seaview                       12\n",
       "Interbay                      11\n",
       "Highland Park                 11\n",
       "Fauntleroy                    10\n",
       "Windermere                    10\n",
       "Laurelhurst                   10\n",
       "Meadowbrook                    9\n",
       "Georgetown                     8\n",
       "Cedar Park                     8\n",
       "Riverview                      8\n",
       "View Ridge                     7\n",
       "Holly Park                     6\n",
       "Industrial District            6\n",
       "Arbor Heights                  5\n",
       "South Beacon Hill              4\n",
       "Pinehurst                      4\n",
       "South Park                     3\n",
       "Roxhill                        2\n",
       "Name: id, dtype: int64"
      ]
     },
     "execution_count": 13,
     "metadata": {},
     "output_type": "execute_result"
    }
   ],
   "source": [
    "# neighborhoods with the most listings\n",
    "listings_df.groupby('neighbourhood_cleansed')['id'].count().sort_values(ascending = False)"
   ]
  },
  {
   "cell_type": "code",
   "execution_count": 14,
   "metadata": {
    "ExecuteTime": {
     "end_time": "2024-06-01T11:27:47.827279Z",
     "start_time": "2024-06-01T11:27:47.822610Z"
    }
   },
   "outputs": [],
   "source": [
    "# top 10 neighbourhoods with the most listings\n",
    "nh_most_listings_top10 = listings_df.groupby('neighbourhood_cleansed')['id'].count().\\\n",
    "                              sort_values(ascending = False).head(10)"
   ]
  },
  {
   "cell_type": "code",
   "execution_count": 15,
   "metadata": {},
   "outputs": [
    {
     "data": {
      "text/plain": [
       "neighbourhood_cleansed\n",
       "Broadway                     397\n",
       "Belltown                     234\n",
       "Wallingford                  167\n",
       "Fremont                      158\n",
       "Minor                        135\n",
       "University District          122\n",
       "Stevens                      119\n",
       "First Hill                   108\n",
       "Central Business District    103\n",
       "Lower Queen Anne              94\n",
       "Name: id, dtype: int64"
      ]
     },
     "execution_count": 15,
     "metadata": {},
     "output_type": "execute_result"
    }
   ],
   "source": [
    "nh_most_listings_top10"
   ]
  },
  {
   "cell_type": "markdown",
   "metadata": {
    "heading_collapsed": true
   },
   "source": [
    "# 1 Distribution of ratings across all listings"
   ]
  },
  {
   "cell_type": "code",
   "execution_count": 16,
   "metadata": {
    "ExecuteTime": {
     "end_time": "2024-05-31T21:40:33.700909Z",
     "start_time": "2024-05-31T21:40:33.671678Z"
    },
    "hidden": true
   },
   "outputs": [
    {
     "data": {
      "text/html": [
       "<div>\n",
       "<style scoped>\n",
       "    .dataframe tbody tr th:only-of-type {\n",
       "        vertical-align: middle;\n",
       "    }\n",
       "\n",
       "    .dataframe tbody tr th {\n",
       "        vertical-align: top;\n",
       "    }\n",
       "\n",
       "    .dataframe thead th {\n",
       "        text-align: right;\n",
       "    }\n",
       "</style>\n",
       "<table border=\"1\" class=\"dataframe\">\n",
       "  <thead>\n",
       "    <tr style=\"text-align: right;\">\n",
       "      <th></th>\n",
       "      <th>rating</th>\n",
       "      <th>review_count</th>\n",
       "      <th>pct_of_total_reviews</th>\n",
       "    </tr>\n",
       "  </thead>\n",
       "  <tbody>\n",
       "    <tr>\n",
       "      <th>0</th>\n",
       "      <td>100</td>\n",
       "      <td>781</td>\n",
       "      <td>24.6</td>\n",
       "    </tr>\n",
       "    <tr>\n",
       "      <th>7</th>\n",
       "      <td>99</td>\n",
       "      <td>146</td>\n",
       "      <td>4.6</td>\n",
       "    </tr>\n",
       "    <tr>\n",
       "      <th>1</th>\n",
       "      <td>98</td>\n",
       "      <td>292</td>\n",
       "      <td>9.2</td>\n",
       "    </tr>\n",
       "    <tr>\n",
       "      <th>3</th>\n",
       "      <td>97</td>\n",
       "      <td>266</td>\n",
       "      <td>8.4</td>\n",
       "    </tr>\n",
       "    <tr>\n",
       "      <th>2</th>\n",
       "      <td>96</td>\n",
       "      <td>278</td>\n",
       "      <td>8.8</td>\n",
       "    </tr>\n",
       "    <tr>\n",
       "      <th>4</th>\n",
       "      <td>95</td>\n",
       "      <td>260</td>\n",
       "      <td>8.2</td>\n",
       "    </tr>\n",
       "    <tr>\n",
       "      <th>5</th>\n",
       "      <td>94</td>\n",
       "      <td>198</td>\n",
       "      <td>6.2</td>\n",
       "    </tr>\n",
       "    <tr>\n",
       "      <th>6</th>\n",
       "      <td>93</td>\n",
       "      <td>184</td>\n",
       "      <td>5.8</td>\n",
       "    </tr>\n",
       "    <tr>\n",
       "      <th>10</th>\n",
       "      <td>92</td>\n",
       "      <td>105</td>\n",
       "      <td>3.3</td>\n",
       "    </tr>\n",
       "    <tr>\n",
       "      <th>11</th>\n",
       "      <td>91</td>\n",
       "      <td>97</td>\n",
       "      <td>3.1</td>\n",
       "    </tr>\n",
       "    <tr>\n",
       "      <th>8</th>\n",
       "      <td>90</td>\n",
       "      <td>138</td>\n",
       "      <td>4.4</td>\n",
       "    </tr>\n",
       "    <tr>\n",
       "      <th>13</th>\n",
       "      <td>89</td>\n",
       "      <td>53</td>\n",
       "      <td>1.7</td>\n",
       "    </tr>\n",
       "    <tr>\n",
       "      <th>14</th>\n",
       "      <td>88</td>\n",
       "      <td>47</td>\n",
       "      <td>1.5</td>\n",
       "    </tr>\n",
       "    <tr>\n",
       "      <th>12</th>\n",
       "      <td>87</td>\n",
       "      <td>55</td>\n",
       "      <td>1.7</td>\n",
       "    </tr>\n",
       "    <tr>\n",
       "      <th>17</th>\n",
       "      <td>86</td>\n",
       "      <td>17</td>\n",
       "      <td>0.5</td>\n",
       "    </tr>\n",
       "    <tr>\n",
       "      <th>15</th>\n",
       "      <td>85</td>\n",
       "      <td>24</td>\n",
       "      <td>0.8</td>\n",
       "    </tr>\n",
       "    <tr>\n",
       "      <th>16</th>\n",
       "      <td>84</td>\n",
       "      <td>23</td>\n",
       "      <td>0.7</td>\n",
       "    </tr>\n",
       "    <tr>\n",
       "      <th>18</th>\n",
       "      <td>83</td>\n",
       "      <td>13</td>\n",
       "      <td>0.4</td>\n",
       "    </tr>\n",
       "    <tr>\n",
       "      <th>20</th>\n",
       "      <td>82</td>\n",
       "      <td>10</td>\n",
       "      <td>0.3</td>\n",
       "    </tr>\n",
       "    <tr>\n",
       "      <th>30</th>\n",
       "      <td>81</td>\n",
       "      <td>3</td>\n",
       "      <td>0.1</td>\n",
       "    </tr>\n",
       "    <tr>\n",
       "      <th>9</th>\n",
       "      <td>80</td>\n",
       "      <td>111</td>\n",
       "      <td>3.5</td>\n",
       "    </tr>\n",
       "    <tr>\n",
       "      <th>34</th>\n",
       "      <td>79</td>\n",
       "      <td>2</td>\n",
       "      <td>0.1</td>\n",
       "    </tr>\n",
       "    <tr>\n",
       "      <th>25</th>\n",
       "      <td>78</td>\n",
       "      <td>4</td>\n",
       "      <td>0.1</td>\n",
       "    </tr>\n",
       "    <tr>\n",
       "      <th>26</th>\n",
       "      <td>77</td>\n",
       "      <td>4</td>\n",
       "      <td>0.1</td>\n",
       "    </tr>\n",
       "    <tr>\n",
       "      <th>23</th>\n",
       "      <td>76</td>\n",
       "      <td>5</td>\n",
       "      <td>0.2</td>\n",
       "    </tr>\n",
       "    <tr>\n",
       "      <th>28</th>\n",
       "      <td>75</td>\n",
       "      <td>3</td>\n",
       "      <td>0.1</td>\n",
       "    </tr>\n",
       "    <tr>\n",
       "      <th>32</th>\n",
       "      <td>74</td>\n",
       "      <td>2</td>\n",
       "      <td>0.1</td>\n",
       "    </tr>\n",
       "    <tr>\n",
       "      <th>22</th>\n",
       "      <td>73</td>\n",
       "      <td>7</td>\n",
       "      <td>0.2</td>\n",
       "    </tr>\n",
       "    <tr>\n",
       "      <th>24</th>\n",
       "      <td>72</td>\n",
       "      <td>4</td>\n",
       "      <td>0.1</td>\n",
       "    </tr>\n",
       "    <tr>\n",
       "      <th>29</th>\n",
       "      <td>71</td>\n",
       "      <td>3</td>\n",
       "      <td>0.1</td>\n",
       "    </tr>\n",
       "    <tr>\n",
       "      <th>21</th>\n",
       "      <td>70</td>\n",
       "      <td>8</td>\n",
       "      <td>0.3</td>\n",
       "    </tr>\n",
       "    <tr>\n",
       "      <th>31</th>\n",
       "      <td>68</td>\n",
       "      <td>2</td>\n",
       "      <td>0.1</td>\n",
       "    </tr>\n",
       "    <tr>\n",
       "      <th>33</th>\n",
       "      <td>67</td>\n",
       "      <td>2</td>\n",
       "      <td>0.1</td>\n",
       "    </tr>\n",
       "    <tr>\n",
       "      <th>35</th>\n",
       "      <td>66</td>\n",
       "      <td>2</td>\n",
       "      <td>0.1</td>\n",
       "    </tr>\n",
       "    <tr>\n",
       "      <th>39</th>\n",
       "      <td>65</td>\n",
       "      <td>1</td>\n",
       "      <td>0.0</td>\n",
       "    </tr>\n",
       "    <tr>\n",
       "      <th>36</th>\n",
       "      <td>64</td>\n",
       "      <td>1</td>\n",
       "      <td>0.0</td>\n",
       "    </tr>\n",
       "    <tr>\n",
       "      <th>19</th>\n",
       "      <td>60</td>\n",
       "      <td>12</td>\n",
       "      <td>0.4</td>\n",
       "    </tr>\n",
       "    <tr>\n",
       "      <th>41</th>\n",
       "      <td>57</td>\n",
       "      <td>1</td>\n",
       "      <td>0.0</td>\n",
       "    </tr>\n",
       "    <tr>\n",
       "      <th>40</th>\n",
       "      <td>55</td>\n",
       "      <td>1</td>\n",
       "      <td>0.0</td>\n",
       "    </tr>\n",
       "    <tr>\n",
       "      <th>38</th>\n",
       "      <td>53</td>\n",
       "      <td>1</td>\n",
       "      <td>0.0</td>\n",
       "    </tr>\n",
       "    <tr>\n",
       "      <th>27</th>\n",
       "      <td>40</td>\n",
       "      <td>4</td>\n",
       "      <td>0.1</td>\n",
       "    </tr>\n",
       "    <tr>\n",
       "      <th>37</th>\n",
       "      <td>20</td>\n",
       "      <td>1</td>\n",
       "      <td>0.0</td>\n",
       "    </tr>\n",
       "  </tbody>\n",
       "</table>\n",
       "</div>"
      ],
      "text/plain": [
       "    rating  review_count  pct_of_total_reviews\n",
       "0      100           781                  24.6\n",
       "7       99           146                   4.6\n",
       "1       98           292                   9.2\n",
       "3       97           266                   8.4\n",
       "2       96           278                   8.8\n",
       "4       95           260                   8.2\n",
       "5       94           198                   6.2\n",
       "6       93           184                   5.8\n",
       "10      92           105                   3.3\n",
       "11      91            97                   3.1\n",
       "8       90           138                   4.4\n",
       "13      89            53                   1.7\n",
       "14      88            47                   1.5\n",
       "12      87            55                   1.7\n",
       "17      86            17                   0.5\n",
       "15      85            24                   0.8\n",
       "16      84            23                   0.7\n",
       "18      83            13                   0.4\n",
       "20      82            10                   0.3\n",
       "30      81             3                   0.1\n",
       "9       80           111                   3.5\n",
       "34      79             2                   0.1\n",
       "25      78             4                   0.1\n",
       "26      77             4                   0.1\n",
       "23      76             5                   0.2\n",
       "28      75             3                   0.1\n",
       "32      74             2                   0.1\n",
       "22      73             7                   0.2\n",
       "24      72             4                   0.1\n",
       "29      71             3                   0.1\n",
       "21      70             8                   0.3\n",
       "31      68             2                   0.1\n",
       "33      67             2                   0.1\n",
       "35      66             2                   0.1\n",
       "39      65             1                   0.0\n",
       "36      64             1                   0.0\n",
       "19      60            12                   0.4\n",
       "41      57             1                   0.0\n",
       "40      55             1                   0.0\n",
       "38      53             1                   0.0\n",
       "27      40             4                   0.1\n",
       "37      20             1                   0.0"
      ]
     },
     "execution_count": 16,
     "metadata": {},
     "output_type": "execute_result"
    }
   ],
   "source": [
    "#  create dataframe with scores\n",
    "ratings_df = pd.DataFrame(listings_df['review_scores_rating'].value_counts()).reset_index().\\\n",
    "    rename(columns = {'index':'rating', 'review_scores_rating':'review_count'})\n",
    "# calculate percentage of total ratings with each score\n",
    "ratings_df['pct_of_total_reviews'] = ((ratings_df['review_count']/ratings_df['review_count'].sum())*100).round(1)\n",
    "ratings_df['rating'] = ratings_df['rating'].astype(int)\n",
    "ratings_df.sort_values('rating', ascending = False)"
   ]
  },
  {
   "cell_type": "markdown",
   "metadata": {},
   "source": [
    "Exploring the distribution of scores across different rating categories"
   ]
  },
  {
   "cell_type": "code",
   "execution_count": 17,
   "metadata": {
    "ExecuteTime": {
     "end_time": "2024-05-31T21:40:34.892876Z",
     "start_time": "2024-05-31T21:40:34.136320Z"
    },
    "hidden": true
   },
   "outputs": [
    {
     "data": {
      "image/png": "[encoded data removed]",
      "text/plain": [
       "<Figure size 1296x864 with 6 Axes>"
      ]
     },
     "metadata": {
      "needs_background": "light"
     },
     "output_type": "display_data"
    }
   ],
   "source": [
    "fig, ax = plt.subplots(nrows = 3, ncols = 2, figsize = (18, 12));\n",
    "sns.histplot(data = listings_df, x = 'review_scores_accuracy', bins = range(1, 10, 1), ax = ax[0,0])\n",
    "sns.histplot(data = listings_df, x = 'review_scores_cleanliness', bins = range(1, 10, 1), ax = ax[0,1])\n",
    "sns.histplot(data = listings_df, x = 'review_scores_checkin', bins = range(1, 10, 1), ax = ax[1,0])\n",
    "sns.histplot(data = listings_df, x = 'review_scores_communication', bins = range(1, 10, 1), ax = ax[1,1])\n",
    "sns.histplot(data = listings_df, x = 'review_scores_location', bins = range(1, 10, 1), ax = ax[2,0])\n",
    "sns.histplot(data = listings_df, x = 'review_scores_value', bins = range(1, 10, 1), ax = ax[2,1]);"
   ]
  },
  {
   "cell_type": "code",
   "execution_count": 18,
   "metadata": {
    "ExecuteTime": {
     "end_time": "2024-05-31T21:40:35.288284Z",
     "start_time": "2024-05-31T21:40:34.894527Z"
    },
    "hidden": true
   },
   "outputs": [
    {
     "data": {
      "image/png": "[encoded data removed]",
      "text/plain": [
       "<Figure size 1296x432 with 1 Axes>"
      ]
     },
     "metadata": {
      "needs_background": "light"
     },
     "output_type": "display_data"
    }
   ],
   "source": [
    "# distibution of review scores ratings over all listings\n",
    "fig, ax = plt.subplots(nrows = 1, ncols = 1, figsize = (18, 6))\n",
    "sns.barplot(data = ratings_df, x = 'rating', y = 'pct_of_total_reviews', ax = ax, color = 'b');"
   ]
  },
  {
   "cell_type": "markdown",
   "metadata": {},
   "source": [
    "# 1 Superhost analysis"
   ]
  },
  {
   "cell_type": "markdown",
   "metadata": {},
   "source": [
    "Split of listings hosted by regular hosts and superhosts"
   ]
  },
  {
   "cell_type": "code",
   "execution_count": 19,
   "metadata": {
    "ExecuteTime": {
     "end_time": "2024-06-01T11:27:51.716818Z",
     "start_time": "2024-06-01T11:27:51.710348Z"
    }
   },
   "outputs": [
    {
     "data": {
      "text/plain": [
       "f    0.795705\n",
       "t    0.203772\n",
       "Name: host_is_superhost, dtype: float64"
      ]
     },
     "execution_count": 19,
     "metadata": {},
     "output_type": "execute_result"
    }
   ],
   "source": [
    "listings_df['host_is_superhost'].value_counts()/listings_df.shape[0]"
   ]
  },
  {
   "cell_type": "code",
   "execution_count": 20,
   "metadata": {
    "ExecuteTime": {
     "end_time": "2024-06-01T11:27:57.468948Z",
     "start_time": "2024-06-01T11:27:57.462326Z"
    }
   },
   "outputs": [
    {
     "data": {
      "text/plain": [
       "f    3038\n",
       "t     778\n",
       "Name: host_is_superhost, dtype: int64"
      ]
     },
     "execution_count": 20,
     "metadata": {},
     "output_type": "execute_result"
    }
   ],
   "source": [
    "listings_df['host_is_superhost'].value_counts()"
   ]
  },
  {
   "cell_type": "markdown",
   "metadata": {},
   "source": [
    "## 1.1 Do superhosts receive higher ratings than non superhosts?"
   ]
  },
  {
   "cell_type": "code",
   "execution_count": 21,
   "metadata": {
    "ExecuteTime": {
     "end_time": "2024-06-01T11:28:50.523505Z",
     "start_time": "2024-06-01T11:28:49.925941Z"
    },
    "scrolled": true
   },
   "outputs": [
    {
     "data": {
      "image/png": "[encoded data removed]",
      "text/plain": [
       "<Figure size 1440x432 with 1 Axes>"
      ]
     },
     "metadata": {
      "needs_background": "light"
     },
     "output_type": "display_data"
    }
   ],
   "source": [
    "import seaborn as sns\n",
    "from matplotlib import * \n",
    "fig, ax = plt.subplots(nrows = 1, ncols = 1, figsize = (20,6))\n",
    "sns.histplot(data = listings_df, x = 'review_scores_rating', bins = range(0, 101, 1), \\\n",
    "                 ax = ax, hue = 'host_is_superhost');\n",
    "plt.xlim([0, 101])\n",
    "plt.xticks(range(0, 101, 10))\n",
    "plt.title(\n",
    "    \"Distribution of review ratings among superhosts and regular hosts\",  # Main title text\n",
    "    fontsize=14,\n",
    "    color=\"black\",\n",
    "    x=0.51,\n",
    "    y=1.01, \n",
    ");\n",
    "plt.ylabel(\"ratings_count\");"
   ]
  },
  {
   "cell_type": "markdown",
   "metadata": {},
   "source": [
    "Plot the percentage of reviews that fall within each rating category to get a clearer view"
   ]
  },
  {
   "cell_type": "code",
   "execution_count": 22,
   "metadata": {},
   "outputs": [],
   "source": [
    "ratings_combined = listings_df.groupby(['host_is_superhost', 'review_scores_rating'], as_index = False)['id'].count()\n",
    "rating_counts = listings_df.groupby('host_is_superhost')['review_scores_rating'].count()\n",
    "sh_ratings = ratings_combined[ratings_combined.host_is_superhost == 't'].copy()\n",
    "sh_ratings['pct_ratings'] = (sh_ratings['id']/rating_counts['t'])*100\n",
    "rh_ratings = ratings_combined[ratings_combined.host_is_superhost == 'f'].copy()\n",
    "rh_ratings['pct_ratings'] = (rh_ratings['id']/rating_counts['f'])*100"
   ]
  },
  {
   "cell_type": "code",
   "execution_count": 23,
   "metadata": {},
   "outputs": [
    {
     "data": {
      "text/plain": [
       "99.33422103861518"
      ]
     },
     "execution_count": 23,
     "metadata": {},
     "output_type": "execute_result"
    }
   ],
   "source": [
    "# percentage of the superhost listing base that have ratings over 90\n",
    "sh_ratings[sh_ratings.review_scores_rating >= 90]['pct_ratings'].sum()"
   ]
  },
  {
   "cell_type": "code",
   "execution_count": 24,
   "metadata": {},
   "outputs": [
    {
     "data": {
      "text/plain": [
       "82.60330578512398"
      ]
     },
     "execution_count": 24,
     "metadata": {},
     "output_type": "execute_result"
    }
   ],
   "source": [
    "# percentage of the regular host listing base that have ratings over 90\n",
    "rh_ratings[rh_ratings.review_scores_rating >= 90]['pct_ratings'].sum()"
   ]
  },
  {
   "cell_type": "code",
   "execution_count": 25,
   "metadata": {},
   "outputs": [],
   "source": [
    "# join the super and regular host score datasets\n",
    "ratings_pct_combined = pd.concat([sh_ratings, rh_ratings])\n",
    "ratings_pct_combined['review_scores_rating'] = ratings_pct_combined['review_scores_rating'].astype(int)"
   ]
  },
  {
   "cell_type": "code",
   "execution_count": 26,
   "metadata": {},
   "outputs": [
    {
     "data": {
      "image/png": "[encoded data removed]",
      "text/plain": [
       "<Figure size 1296x576 with 1 Axes>"
      ]
     },
     "metadata": {
      "needs_background": "light"
     },
     "output_type": "display_data"
    }
   ],
   "source": [
    "# plot the comparison between superhost and regular host ratings\n",
    "fig, ax = plt.subplots(nrows = 1, ncols = 1, figsize = (18, 8))\n",
    "sns.barplot(data = ratings_pct_combined, x = 'review_scores_rating', y = 'pct_ratings', hue = 'host_is_superhost')\n",
    "plt.title(\n",
    "    \"Distribution of review ratings among superhosts and regular hosts\",  # Main title text\n",
    "    fontsize=14,\n",
    "    color=\"black\",\n",
    "    x=0.51,\n",
    "    y=1.01, \n",
    ");\n",
    "plt.ylabel(\"Percentage of total ratings\", fontsize = 14);\n",
    "plt.xlabel(\"Rating\", fontsize = 14);\n",
    "ax.set_yticks(np.arange(0, 40, 5));"
   ]
  },
  {
   "cell_type": "markdown",
   "metadata": {},
   "source": [
    "## 1.2 Do listings by superhosts cost more on average than non-superhosts?"
   ]
  },
  {
   "cell_type": "code",
   "execution_count": 27,
   "metadata": {
    "ExecuteTime": {
     "end_time": "2024-06-01T01:26:46.197683Z",
     "start_time": "2024-06-01T01:26:46.194075Z"
    }
   },
   "outputs": [],
   "source": [
    "def plot_compound_bar(pdf, melt_col, var_name, val_name, ax):\n",
    "    \"\"\"\n",
    "    Melts a Pandas dataframe and plots a compound bar graph\n",
    "    Vars:\n",
    "    pdf: Pandas dataframe with variables to plot\n",
    "    melt_col: column to melt the dataframe on\n",
    "    var_name: name for the variable column in the resultant dataframe\n",
    "    val_name: name for the value column in the resultant dataframe\n",
    "    ax: axis to plot on\n",
    "    \"\"\"\n",
    "    melted_df =  pdf.melt(melt_col, var_name = var_name, value_name = val_name )\n",
    "    sns.barplot(data = melted_df, x = melt_col, y = val_name, hue= var_name, ax = ax)\n",
    "    plt.xticks(rotation=90);"
   ]
  },
  {
   "cell_type": "code",
   "execution_count": 28,
   "metadata": {
    "ExecuteTime": {
     "end_time": "2024-06-01T01:26:47.935479Z",
     "start_time": "2024-06-01T01:26:46.426647Z"
    }
   },
   "outputs": [],
   "source": [
    "bookings = pd.merge(calendar_df.rename(columns = {'listing_id':'id'}), \\\n",
    "        listings_df[['id', 'host_is_superhost', 'neighbourhood_cleansed',  'property_type','bedrooms', 'bathrooms' , \\\n",
    "                     'guests_included',\\\n",
    "       'neighbourhood_group_cleansed', 'city']], on='id', how = 'inner').drop_duplicates()"
   ]
  },
  {
   "cell_type": "code",
   "execution_count": 29,
   "metadata": {
    "ExecuteTime": {
     "end_time": "2024-06-01T01:26:47.941305Z",
     "start_time": "2024-06-01T01:26:47.937644Z"
    }
   },
   "outputs": [
    {
     "data": {
      "text/plain": [
       "Index(['id', 'date', 'available', 'price', 'host_is_superhost',\n",
       "       'neighbourhood_cleansed', 'property_type', 'bedrooms', 'bathrooms',\n",
       "       'guests_included', 'neighbourhood_group_cleansed', 'city'],\n",
       "      dtype='object')"
      ]
     },
     "execution_count": 29,
     "metadata": {},
     "output_type": "execute_result"
    }
   ],
   "source": [
    "bookings.columns"
   ]
  },
  {
   "cell_type": "code",
   "execution_count": 30,
   "metadata": {
    "ExecuteTime": {
     "end_time": "2024-06-01T01:26:47.958646Z",
     "start_time": "2024-06-01T01:26:47.943476Z"
    }
   },
   "outputs": [
    {
     "data": {
      "text/plain": [
       "1.0    1051930\n",
       "2.0     136145\n",
       "1.5      90520\n",
       "2.5      45260\n",
       "3.0      23360\n",
       "3.5      20805\n",
       "0.5      11315\n",
       "4.0       2920\n",
       "0.0       2920\n",
       "4.5       1095\n",
       "8.0        730\n",
       "5.0        730\n",
       "Name: bathrooms, dtype: int64"
      ]
     },
     "execution_count": 30,
     "metadata": {},
     "output_type": "execute_result"
    }
   ],
   "source": [
    "bookings['bathrooms'].value_counts()"
   ]
  },
  {
   "cell_type": "code",
   "execution_count": 31,
   "metadata": {
    "ExecuteTime": {
     "end_time": "2024-06-01T01:26:48.048995Z",
     "start_time": "2024-06-01T01:26:47.960227Z"
    }
   },
   "outputs": [
    {
     "data": {
      "text/plain": [
       "Other neighborhoods    289810\n",
       "Capitol Hill           206955\n",
       "Downtown               193450\n",
       "Central Area           134685\n",
       "Queen Anne             107675\n",
       "Ballard                 83950\n",
       "West Seattle            74095\n",
       "Rainier Valley          58035\n",
       "University District     44530\n",
       "Beacon Hill             43070\n",
       "Cascade                 32485\n",
       "Northgate               29200\n",
       "Delridge                28835\n",
       "Lake City               24455\n",
       "Magnolia                22265\n",
       "Seward Park             16060\n",
       "Interbay                 4015\n",
       "Name: neighbourhood_group_cleansed, dtype: int64"
      ]
     },
     "execution_count": 31,
     "metadata": {},
     "output_type": "execute_result"
    }
   ],
   "source": [
    "bookings['neighbourhood_group_cleansed'].value_counts()"
   ]
  },
  {
   "cell_type": "code",
   "execution_count": 32,
   "metadata": {
    "ExecuteTime": {
     "end_time": "2024-06-01T01:26:48.066679Z",
     "start_time": "2024-06-01T01:26:48.050773Z"
    }
   },
   "outputs": [
    {
     "data": {
      "text/plain": [
       "1.0    882205\n",
       "2.0    233600\n",
       "0.0    135780\n",
       "3.0    103295\n",
       "4.0     25185\n",
       "5.0      8760\n",
       "6.0      2190\n",
       "7.0       365\n",
       "Name: bedrooms, dtype: int64"
      ]
     },
     "execution_count": 32,
     "metadata": {},
     "output_type": "execute_result"
    }
   ],
   "source": [
    "bookings['bedrooms'].value_counts()"
   ]
  },
  {
   "cell_type": "code",
   "execution_count": 33,
   "metadata": {
    "ExecuteTime": {
     "end_time": "2024-06-01T01:26:48.176494Z",
     "start_time": "2024-06-01T01:26:48.088276Z"
    }
   },
   "outputs": [
    {
     "data": {
      "text/plain": [
       "House              632545\n",
       "Apartment          623420\n",
       "Townhouse           43070\n",
       "Condominium         33215\n",
       "Loft                14600\n",
       "Bed & Breakfast     13505\n",
       "Other                8030\n",
       "Cabin                7665\n",
       "Camper/RV            4745\n",
       "Bungalow             4745\n",
       "Boat                 2920\n",
       "Tent                 1825\n",
       "Treehouse            1095\n",
       "Dorm                  730\n",
       "Chalet                730\n",
       "Yurt                  365\n",
       "Name: property_type, dtype: int64"
      ]
     },
     "execution_count": 33,
     "metadata": {},
     "output_type": "execute_result"
    }
   ],
   "source": [
    "bookings['property_type'].value_counts()"
   ]
  },
  {
   "cell_type": "code",
   "execution_count": 34,
   "metadata": {
    "ExecuteTime": {
     "end_time": "2024-06-01T01:26:49.878746Z",
     "start_time": "2024-06-01T01:26:48.374308Z"
    }
   },
   "outputs": [],
   "source": [
    "# convert the price column to float\n",
    "bookings['price_clean'] = bookings['price'].fillna(0).str.replace('$','').\\\n",
    "     str.replace(',', '').\\\n",
    "    str.replace(' ', '').astype(float).fillna(0)"
   ]
  },
  {
   "cell_type": "code",
   "execution_count": 35,
   "metadata": {
    "ExecuteTime": {
     "end_time": "2024-06-01T01:26:49.886722Z",
     "start_time": "2024-06-01T01:26:49.881344Z"
    }
   },
   "outputs": [
    {
     "data": {
      "text/plain": [
       "0    85.0\n",
       "1    85.0\n",
       "2     0.0\n",
       "3     0.0\n",
       "4     0.0\n",
       "Name: price_clean, dtype: float64"
      ]
     },
     "execution_count": 35,
     "metadata": {},
     "output_type": "execute_result"
    }
   ],
   "source": [
    "bookings['price_clean'].head()"
   ]
  },
  {
   "cell_type": "code",
   "execution_count": 36,
   "metadata": {
    "ExecuteTime": {
     "end_time": "2024-06-01T01:26:50.194762Z",
     "start_time": "2024-06-01T01:26:49.894594Z"
    }
   },
   "outputs": [],
   "source": [
    "# calculate the average price per unit type\n",
    "grouped_type_list_prices = bookings.groupby(['host_is_superhost', 'neighbourhood_group_cleansed',\\\n",
    "        'property_type'], as_index=False).\\\n",
    "        agg({'price_clean':'mean', 'id':'nunique'})"
   ]
  },
  {
   "cell_type": "code",
   "execution_count": 37,
   "metadata": {
    "ExecuteTime": {
     "end_time": "2024-06-01T01:41:12.524961Z",
     "start_time": "2024-06-01T01:41:12.415600Z"
    }
   },
   "outputs": [
    {
     "data": {
      "text/html": [
       "<div>\n",
       "<style scoped>\n",
       "    .dataframe tbody tr th:only-of-type {\n",
       "        vertical-align: middle;\n",
       "    }\n",
       "\n",
       "    .dataframe tbody tr th {\n",
       "        vertical-align: top;\n",
       "    }\n",
       "\n",
       "    .dataframe thead th {\n",
       "        text-align: right;\n",
       "    }\n",
       "</style>\n",
       "<table border=\"1\" class=\"dataframe\">\n",
       "  <thead>\n",
       "    <tr style=\"text-align: right;\">\n",
       "      <th></th>\n",
       "      <th>host_is_superhost</th>\n",
       "      <th>price_clean</th>\n",
       "      <th>id</th>\n",
       "    </tr>\n",
       "  </thead>\n",
       "  <tbody>\n",
       "    <tr>\n",
       "      <th>0</th>\n",
       "      <td>f</td>\n",
       "      <td>91.403067</td>\n",
       "      <td>3038</td>\n",
       "    </tr>\n",
       "    <tr>\n",
       "      <th>1</th>\n",
       "      <td>t</td>\n",
       "      <td>97.022076</td>\n",
       "      <td>778</td>\n",
       "    </tr>\n",
       "  </tbody>\n",
       "</table>\n",
       "</div>"
      ],
      "text/plain": [
       "  host_is_superhost  price_clean    id\n",
       "0                 f    91.403067  3038\n",
       "1                 t    97.022076   778"
      ]
     },
     "execution_count": 37,
     "metadata": {},
     "output_type": "execute_result"
    }
   ],
   "source": [
    "# calculate the average price host type\n",
    "bookings.groupby(['host_is_superhost'], as_index=False).\\\n",
    "        agg({'price_clean':'mean', 'id':'nunique'})"
   ]
  },
  {
   "cell_type": "code",
   "execution_count": 38,
   "metadata": {
    "ExecuteTime": {
     "end_time": "2024-06-01T01:26:50.225494Z",
     "start_time": "2024-06-01T01:26:50.196566Z"
    },
    "scrolled": true
   },
   "outputs": [
    {
     "data": {
      "text/html": [
       "<div>\n",
       "<style scoped>\n",
       "    .dataframe tbody tr th:only-of-type {\n",
       "        vertical-align: middle;\n",
       "    }\n",
       "\n",
       "    .dataframe tbody tr th {\n",
       "        vertical-align: top;\n",
       "    }\n",
       "\n",
       "    .dataframe thead th {\n",
       "        text-align: right;\n",
       "    }\n",
       "</style>\n",
       "<table border=\"1\" class=\"dataframe\">\n",
       "  <thead>\n",
       "    <tr style=\"text-align: right;\">\n",
       "      <th></th>\n",
       "      <th>host_is_superhost</th>\n",
       "      <th>neighbourhood_group_cleansed</th>\n",
       "      <th>property_type</th>\n",
       "      <th>price_clean</th>\n",
       "      <th>id</th>\n",
       "    </tr>\n",
       "  </thead>\n",
       "  <tbody>\n",
       "    <tr>\n",
       "      <th>0</th>\n",
       "      <td>f</td>\n",
       "      <td>Ballard</td>\n",
       "      <td>Apartment</td>\n",
       "      <td>66.187606</td>\n",
       "      <td>42</td>\n",
       "    </tr>\n",
       "    <tr>\n",
       "      <th>1</th>\n",
       "      <td>f</td>\n",
       "      <td>Ballard</td>\n",
       "      <td>Boat</td>\n",
       "      <td>6.575342</td>\n",
       "      <td>1</td>\n",
       "    </tr>\n",
       "    <tr>\n",
       "      <th>2</th>\n",
       "      <td>f</td>\n",
       "      <td>Ballard</td>\n",
       "      <td>Bungalow</td>\n",
       "      <td>31.816438</td>\n",
       "      <td>2</td>\n",
       "    </tr>\n",
       "    <tr>\n",
       "      <th>3</th>\n",
       "      <td>f</td>\n",
       "      <td>Ballard</td>\n",
       "      <td>Camper/RV</td>\n",
       "      <td>46.315068</td>\n",
       "      <td>2</td>\n",
       "    </tr>\n",
       "    <tr>\n",
       "      <th>4</th>\n",
       "      <td>f</td>\n",
       "      <td>Ballard</td>\n",
       "      <td>Condominium</td>\n",
       "      <td>52.312329</td>\n",
       "      <td>2</td>\n",
       "    </tr>\n",
       "    <tr>\n",
       "      <th>5</th>\n",
       "      <td>f</td>\n",
       "      <td>Ballard</td>\n",
       "      <td>House</td>\n",
       "      <td>99.440842</td>\n",
       "      <td>108</td>\n",
       "    </tr>\n",
       "    <tr>\n",
       "      <th>6</th>\n",
       "      <td>f</td>\n",
       "      <td>Ballard</td>\n",
       "      <td>Loft</td>\n",
       "      <td>44.257534</td>\n",
       "      <td>1</td>\n",
       "    </tr>\n",
       "    <tr>\n",
       "      <th>7</th>\n",
       "      <td>f</td>\n",
       "      <td>Ballard</td>\n",
       "      <td>Townhouse</td>\n",
       "      <td>74.183313</td>\n",
       "      <td>11</td>\n",
       "    </tr>\n",
       "    <tr>\n",
       "      <th>8</th>\n",
       "      <td>f</td>\n",
       "      <td>Beacon Hill</td>\n",
       "      <td>Apartment</td>\n",
       "      <td>53.672386</td>\n",
       "      <td>19</td>\n",
       "    </tr>\n",
       "    <tr>\n",
       "      <th>9</th>\n",
       "      <td>f</td>\n",
       "      <td>Beacon Hill</td>\n",
       "      <td>Bed &amp; Breakfast</td>\n",
       "      <td>1.463014</td>\n",
       "      <td>1</td>\n",
       "    </tr>\n",
       "    <tr>\n",
       "      <th>10</th>\n",
       "      <td>f</td>\n",
       "      <td>Beacon Hill</td>\n",
       "      <td>Bungalow</td>\n",
       "      <td>104.742466</td>\n",
       "      <td>1</td>\n",
       "    </tr>\n",
       "    <tr>\n",
       "      <th>11</th>\n",
       "      <td>f</td>\n",
       "      <td>Beacon Hill</td>\n",
       "      <td>Cabin</td>\n",
       "      <td>90.093151</td>\n",
       "      <td>2</td>\n",
       "    </tr>\n",
       "    <tr>\n",
       "      <th>12</th>\n",
       "      <td>f</td>\n",
       "      <td>Beacon Hill</td>\n",
       "      <td>Camper/RV</td>\n",
       "      <td>375.000000</td>\n",
       "      <td>1</td>\n",
       "    </tr>\n",
       "    <tr>\n",
       "      <th>13</th>\n",
       "      <td>f</td>\n",
       "      <td>Beacon Hill</td>\n",
       "      <td>House</td>\n",
       "      <td>72.284426</td>\n",
       "      <td>65</td>\n",
       "    </tr>\n",
       "    <tr>\n",
       "      <th>14</th>\n",
       "      <td>f</td>\n",
       "      <td>Beacon Hill</td>\n",
       "      <td>Loft</td>\n",
       "      <td>106.019178</td>\n",
       "      <td>1</td>\n",
       "    </tr>\n",
       "    <tr>\n",
       "      <th>15</th>\n",
       "      <td>f</td>\n",
       "      <td>Beacon Hill</td>\n",
       "      <td>Other</td>\n",
       "      <td>52.424658</td>\n",
       "      <td>1</td>\n",
       "    </tr>\n",
       "    <tr>\n",
       "      <th>16</th>\n",
       "      <td>f</td>\n",
       "      <td>Beacon Hill</td>\n",
       "      <td>Tent</td>\n",
       "      <td>42.205479</td>\n",
       "      <td>3</td>\n",
       "    </tr>\n",
       "    <tr>\n",
       "      <th>17</th>\n",
       "      <td>f</td>\n",
       "      <td>Beacon Hill</td>\n",
       "      <td>Townhouse</td>\n",
       "      <td>124.849315</td>\n",
       "      <td>6</td>\n",
       "    </tr>\n",
       "    <tr>\n",
       "      <th>18</th>\n",
       "      <td>f</td>\n",
       "      <td>Capitol Hill</td>\n",
       "      <td>Apartment</td>\n",
       "      <td>81.727113</td>\n",
       "      <td>308</td>\n",
       "    </tr>\n",
       "    <tr>\n",
       "      <th>19</th>\n",
       "      <td>f</td>\n",
       "      <td>Capitol Hill</td>\n",
       "      <td>Bed &amp; Breakfast</td>\n",
       "      <td>122.826180</td>\n",
       "      <td>9</td>\n",
       "    </tr>\n",
       "  </tbody>\n",
       "</table>\n",
       "</div>"
      ],
      "text/plain": [
       "   host_is_superhost neighbourhood_group_cleansed    property_type  \\\n",
       "0                  f                      Ballard        Apartment   \n",
       "1                  f                      Ballard             Boat   \n",
       "2                  f                      Ballard         Bungalow   \n",
       "3                  f                      Ballard        Camper/RV   \n",
       "4                  f                      Ballard      Condominium   \n",
       "5                  f                      Ballard            House   \n",
       "6                  f                      Ballard             Loft   \n",
       "7                  f                      Ballard        Townhouse   \n",
       "8                  f                  Beacon Hill        Apartment   \n",
       "9                  f                  Beacon Hill  Bed & Breakfast   \n",
       "10                 f                  Beacon Hill         Bungalow   \n",
       "11                 f                  Beacon Hill            Cabin   \n",
       "12                 f                  Beacon Hill        Camper/RV   \n",
       "13                 f                  Beacon Hill            House   \n",
       "14                 f                  Beacon Hill             Loft   \n",
       "15                 f                  Beacon Hill            Other   \n",
       "16                 f                  Beacon Hill             Tent   \n",
       "17                 f                  Beacon Hill        Townhouse   \n",
       "18                 f                 Capitol Hill        Apartment   \n",
       "19                 f                 Capitol Hill  Bed & Breakfast   \n",
       "\n",
       "    price_clean   id  \n",
       "0     66.187606   42  \n",
       "1      6.575342    1  \n",
       "2     31.816438    2  \n",
       "3     46.315068    2  \n",
       "4     52.312329    2  \n",
       "5     99.440842  108  \n",
       "6     44.257534    1  \n",
       "7     74.183313   11  \n",
       "8     53.672386   19  \n",
       "9      1.463014    1  \n",
       "10   104.742466    1  \n",
       "11    90.093151    2  \n",
       "12   375.000000    1  \n",
       "13    72.284426   65  \n",
       "14   106.019178    1  \n",
       "15    52.424658    1  \n",
       "16    42.205479    3  \n",
       "17   124.849315    6  \n",
       "18    81.727113  308  \n",
       "19   122.826180    9  "
      ]
     },
     "execution_count": 38,
     "metadata": {},
     "output_type": "execute_result"
    }
   ],
   "source": [
    "pd.set_option('display.max_rows', 1000)\n",
    "grouped_type_list_prices.head(20)"
   ]
  },
  {
   "cell_type": "code",
   "execution_count": 39,
   "metadata": {
    "ExecuteTime": {
     "end_time": "2024-06-01T01:26:50.235094Z",
     "start_time": "2024-06-01T01:26:50.227333Z"
    }
   },
   "outputs": [],
   "source": [
    "# average list price for airbnbs hosted by superhosts\n",
    "superhost_type_list_prices = grouped_type_list_prices[grouped_type_list_prices.host_is_superhost=='t'].\\\n",
    "    rename(columns = {'price_clean':'sh_price', 'id':'sh_listing_count'}).drop(columns = ['host_is_superhost'])\n",
    "reghost_type_list_prices = grouped_type_list_prices[grouped_type_list_prices.host_is_superhost=='f'].\\\n",
    "    rename(columns = {'price_clean':'rh_price', 'id':'rh_listing_count'}).drop(columns = ['host_is_superhost'])"
   ]
  },
  {
   "cell_type": "code",
   "execution_count": 40,
   "metadata": {
    "ExecuteTime": {
     "end_time": "2024-06-01T01:26:50.602407Z",
     "start_time": "2024-06-01T01:26:50.594617Z"
    }
   },
   "outputs": [],
   "source": [
    "# join dataframes so that only the common categories are present\n",
    "joined_host_type_listings = pd.merge(superhost_type_list_prices, reghost_type_list_prices,  \\\n",
    "     how='inner', left_on=['neighbourhood_group_cleansed', 'property_type'], \\\n",
    "                right_on = ['neighbourhood_group_cleansed', 'property_type'])"
   ]
  },
  {
   "cell_type": "code",
   "execution_count": 41,
   "metadata": {
    "ExecuteTime": {
     "end_time": "2024-06-01T01:26:50.830877Z",
     "start_time": "2024-06-01T01:26:50.826411Z"
    }
   },
   "outputs": [
    {
     "data": {
      "text/plain": [
       "Index(['neighbourhood_group_cleansed', 'property_type', 'sh_price',\n",
       "       'sh_listing_count', 'rh_price', 'rh_listing_count'],\n",
       "      dtype='object')"
      ]
     },
     "execution_count": 41,
     "metadata": {},
     "output_type": "execute_result"
    }
   ],
   "source": [
    "joined_host_type_listings.columns"
   ]
  },
  {
   "cell_type": "code",
   "execution_count": 42,
   "metadata": {},
   "outputs": [
    {
     "data": {
      "text/html": [
       "<div>\n",
       "<style scoped>\n",
       "    .dataframe tbody tr th:only-of-type {\n",
       "        vertical-align: middle;\n",
       "    }\n",
       "\n",
       "    .dataframe tbody tr th {\n",
       "        vertical-align: top;\n",
       "    }\n",
       "\n",
       "    .dataframe thead th {\n",
       "        text-align: right;\n",
       "    }\n",
       "</style>\n",
       "<table border=\"1\" class=\"dataframe\">\n",
       "  <thead>\n",
       "    <tr style=\"text-align: right;\">\n",
       "      <th></th>\n",
       "      <th>neighbourhood_group_cleansed</th>\n",
       "      <th>property_type</th>\n",
       "      <th>sh_price</th>\n",
       "      <th>sh_listing_count</th>\n",
       "      <th>rh_price</th>\n",
       "      <th>rh_listing_count</th>\n",
       "    </tr>\n",
       "  </thead>\n",
       "  <tbody>\n",
       "    <tr>\n",
       "      <th>0</th>\n",
       "      <td>Ballard</td>\n",
       "      <td>Apartment</td>\n",
       "      <td>88.873364</td>\n",
       "      <td>18</td>\n",
       "      <td>66.187606</td>\n",
       "      <td>42</td>\n",
       "    </tr>\n",
       "    <tr>\n",
       "      <th>1</th>\n",
       "      <td>Ballard</td>\n",
       "      <td>Condominium</td>\n",
       "      <td>37.131507</td>\n",
       "      <td>1</td>\n",
       "      <td>52.312329</td>\n",
       "      <td>2</td>\n",
       "    </tr>\n",
       "    <tr>\n",
       "      <th>2</th>\n",
       "      <td>Ballard</td>\n",
       "      <td>House</td>\n",
       "      <td>91.999423</td>\n",
       "      <td>38</td>\n",
       "      <td>99.440842</td>\n",
       "      <td>108</td>\n",
       "    </tr>\n",
       "    <tr>\n",
       "      <th>3</th>\n",
       "      <td>Ballard</td>\n",
       "      <td>Loft</td>\n",
       "      <td>48.991781</td>\n",
       "      <td>1</td>\n",
       "      <td>44.257534</td>\n",
       "      <td>1</td>\n",
       "    </tr>\n",
       "    <tr>\n",
       "      <th>4</th>\n",
       "      <td>Beacon Hill</td>\n",
       "      <td>Apartment</td>\n",
       "      <td>22.010959</td>\n",
       "      <td>4</td>\n",
       "      <td>53.672386</td>\n",
       "      <td>19</td>\n",
       "    </tr>\n",
       "  </tbody>\n",
       "</table>\n",
       "</div>"
      ],
      "text/plain": [
       "  neighbourhood_group_cleansed property_type   sh_price  sh_listing_count  \\\n",
       "0                      Ballard     Apartment  88.873364                18   \n",
       "1                      Ballard   Condominium  37.131507                 1   \n",
       "2                      Ballard         House  91.999423                38   \n",
       "3                      Ballard          Loft  48.991781                 1   \n",
       "4                  Beacon Hill     Apartment  22.010959                 4   \n",
       "\n",
       "    rh_price  rh_listing_count  \n",
       "0  66.187606                42  \n",
       "1  52.312329                 2  \n",
       "2  99.440842               108  \n",
       "3  44.257534                 1  \n",
       "4  53.672386                19  "
      ]
     },
     "execution_count": 42,
     "metadata": {},
     "output_type": "execute_result"
    }
   ],
   "source": [
    "joined_host_type_listings.head()"
   ]
  },
  {
   "cell_type": "code",
   "execution_count": 43,
   "metadata": {
    "ExecuteTime": {
     "end_time": "2024-06-01T01:26:51.873119Z",
     "start_time": "2024-06-01T01:26:51.342777Z"
    }
   },
   "outputs": [
    {
     "data": {
      "image/png": "[encoded data removed]",
      "text/plain": [
       "<Figure size 1296x432 with 1 Axes>"
      ]
     },
     "metadata": {
      "needs_background": "light"
     },
     "output_type": "display_data"
    }
   ],
   "source": [
    "# plot average price over different property types\n",
    "fig, ax = plt.subplots(nrows = 1, ncols = 1, figsize = (18, 6), sharex = True)\n",
    "plot_compound_bar(joined_host_type_listings[['property_type','sh_price', 'rh_price' ]], 'property_type', 'host_type', 'avg_price', ax)\n",
    "plt.xticks(rotation=90);\n",
    "plt.title(\n",
    "    \"Average list prices per property type across neighbourhood groups\",\n",
    "    fontsize=14,\n",
    "    color=\"black\",\n",
    "    x=0.51,\n",
    "    y=1.01, \n",
    ");\n",
    "plt.ylabel(\"Average list price\", fontsize = 14);\n",
    "plt.xlabel(\"Property type\", fontsize = 14);\n",
    "ax.set_yticks(np.arange(0, 40, 5));"
   ]
  },
  {
   "cell_type": "markdown",
   "metadata": {},
   "source": [
    "## Drill down to a specific property type"
   ]
  },
  {
   "cell_type": "code",
   "execution_count": 44,
   "metadata": {
    "ExecuteTime": {
     "end_time": "2024-06-01T01:26:54.586027Z",
     "start_time": "2024-06-01T01:26:54.302777Z"
    }
   },
   "outputs": [],
   "source": [
    "# calculate the average price per unit type\n",
    "grouped_list_prices = bookings.groupby(['host_is_superhost', 'neighbourhood_group_cleansed',\\\n",
    "        'bedrooms', 'bathrooms', 'guests_included'], as_index=False).\\\n",
    "        agg({'price_clean':'mean', 'id':'nunique'})"
   ]
  },
  {
   "cell_type": "code",
   "execution_count": 45,
   "metadata": {
    "ExecuteTime": {
     "end_time": "2024-06-01T01:26:55.990782Z",
     "start_time": "2024-06-01T01:26:55.983404Z"
    }
   },
   "outputs": [],
   "source": [
    "# average list price for airbnbs hosted by superhosts\n",
    "superhost_list_prices = grouped_list_prices[grouped_list_prices.host_is_superhost=='t'].\\\n",
    "    rename(columns = {'price_clean':'sh_price', 'id':'sh_listing_count'}).drop(columns = ['host_is_superhost'])"
   ]
  },
  {
   "cell_type": "code",
   "execution_count": 46,
   "metadata": {
    "ExecuteTime": {
     "end_time": "2024-06-01T01:26:56.258250Z",
     "start_time": "2024-06-01T01:26:56.214693Z"
    },
    "scrolled": true
   },
   "outputs": [
    {
     "data": {
      "text/html": [
       "<div>\n",
       "<style scoped>\n",
       "    .dataframe tbody tr th:only-of-type {\n",
       "        vertical-align: middle;\n",
       "    }\n",
       "\n",
       "    .dataframe tbody tr th {\n",
       "        vertical-align: top;\n",
       "    }\n",
       "\n",
       "    .dataframe thead th {\n",
       "        text-align: right;\n",
       "    }\n",
       "</style>\n",
       "<table border=\"1\" class=\"dataframe\">\n",
       "  <thead>\n",
       "    <tr style=\"text-align: right;\">\n",
       "      <th></th>\n",
       "      <th>neighbourhood_group_cleansed</th>\n",
       "      <th>bedrooms</th>\n",
       "      <th>bathrooms</th>\n",
       "      <th>guests_included</th>\n",
       "      <th>sh_price</th>\n",
       "      <th>sh_listing_count</th>\n",
       "    </tr>\n",
       "  </thead>\n",
       "  <tbody>\n",
       "    <tr>\n",
       "      <th>540</th>\n",
       "      <td>Ballard</td>\n",
       "      <td>1.0</td>\n",
       "      <td>1.0</td>\n",
       "      <td>1</td>\n",
       "      <td>71.856164</td>\n",
       "      <td>20</td>\n",
       "    </tr>\n",
       "    <tr>\n",
       "      <th>541</th>\n",
       "      <td>Ballard</td>\n",
       "      <td>1.0</td>\n",
       "      <td>1.0</td>\n",
       "      <td>2</td>\n",
       "      <td>73.658662</td>\n",
       "      <td>17</td>\n",
       "    </tr>\n",
       "    <tr>\n",
       "      <th>537</th>\n",
       "      <td>Ballard</td>\n",
       "      <td>0.0</td>\n",
       "      <td>1.0</td>\n",
       "      <td>1</td>\n",
       "      <td>76.465753</td>\n",
       "      <td>2</td>\n",
       "    </tr>\n",
       "    <tr>\n",
       "      <th>538</th>\n",
       "      <td>Ballard</td>\n",
       "      <td>0.0</td>\n",
       "      <td>1.0</td>\n",
       "      <td>2</td>\n",
       "      <td>84.301370</td>\n",
       "      <td>2</td>\n",
       "    </tr>\n",
       "    <tr>\n",
       "      <th>542</th>\n",
       "      <td>Ballard</td>\n",
       "      <td>1.0</td>\n",
       "      <td>1.0</td>\n",
       "      <td>4</td>\n",
       "      <td>73.375342</td>\n",
       "      <td>2</td>\n",
       "    </tr>\n",
       "    <tr>\n",
       "      <th>543</th>\n",
       "      <td>Ballard</td>\n",
       "      <td>1.0</td>\n",
       "      <td>1.5</td>\n",
       "      <td>0</td>\n",
       "      <td>97.808219</td>\n",
       "      <td>2</td>\n",
       "    </tr>\n",
       "    <tr>\n",
       "      <th>544</th>\n",
       "      <td>Ballard</td>\n",
       "      <td>1.0</td>\n",
       "      <td>1.5</td>\n",
       "      <td>2</td>\n",
       "      <td>85.691781</td>\n",
       "      <td>2</td>\n",
       "    </tr>\n",
       "    <tr>\n",
       "      <th>545</th>\n",
       "      <td>Ballard</td>\n",
       "      <td>2.0</td>\n",
       "      <td>1.0</td>\n",
       "      <td>1</td>\n",
       "      <td>86.452055</td>\n",
       "      <td>2</td>\n",
       "    </tr>\n",
       "    <tr>\n",
       "      <th>539</th>\n",
       "      <td>Ballard</td>\n",
       "      <td>1.0</td>\n",
       "      <td>1.0</td>\n",
       "      <td>0</td>\n",
       "      <td>59.863014</td>\n",
       "      <td>1</td>\n",
       "    </tr>\n",
       "    <tr>\n",
       "      <th>546</th>\n",
       "      <td>Ballard</td>\n",
       "      <td>2.0</td>\n",
       "      <td>1.0</td>\n",
       "      <td>2</td>\n",
       "      <td>49.915068</td>\n",
       "      <td>1</td>\n",
       "    </tr>\n",
       "    <tr>\n",
       "      <th>547</th>\n",
       "      <td>Ballard</td>\n",
       "      <td>2.0</td>\n",
       "      <td>1.0</td>\n",
       "      <td>3</td>\n",
       "      <td>108.123288</td>\n",
       "      <td>1</td>\n",
       "    </tr>\n",
       "    <tr>\n",
       "      <th>548</th>\n",
       "      <td>Ballard</td>\n",
       "      <td>2.0</td>\n",
       "      <td>1.5</td>\n",
       "      <td>2</td>\n",
       "      <td>6.821918</td>\n",
       "      <td>1</td>\n",
       "    </tr>\n",
       "    <tr>\n",
       "      <th>549</th>\n",
       "      <td>Ballard</td>\n",
       "      <td>2.0</td>\n",
       "      <td>2.0</td>\n",
       "      <td>1</td>\n",
       "      <td>110.082192</td>\n",
       "      <td>1</td>\n",
       "    </tr>\n",
       "    <tr>\n",
       "      <th>550</th>\n",
       "      <td>Ballard</td>\n",
       "      <td>2.0</td>\n",
       "      <td>3.0</td>\n",
       "      <td>1</td>\n",
       "      <td>268.558904</td>\n",
       "      <td>1</td>\n",
       "    </tr>\n",
       "    <tr>\n",
       "      <th>551</th>\n",
       "      <td>Ballard</td>\n",
       "      <td>3.0</td>\n",
       "      <td>1.0</td>\n",
       "      <td>5</td>\n",
       "      <td>129.589041</td>\n",
       "      <td>1</td>\n",
       "    </tr>\n",
       "    <tr>\n",
       "      <th>552</th>\n",
       "      <td>Ballard</td>\n",
       "      <td>3.0</td>\n",
       "      <td>2.0</td>\n",
       "      <td>1</td>\n",
       "      <td>2.465753</td>\n",
       "      <td>1</td>\n",
       "    </tr>\n",
       "    <tr>\n",
       "      <th>553</th>\n",
       "      <td>Ballard</td>\n",
       "      <td>3.0</td>\n",
       "      <td>2.5</td>\n",
       "      <td>6</td>\n",
       "      <td>318.246575</td>\n",
       "      <td>1</td>\n",
       "    </tr>\n",
       "    <tr>\n",
       "      <th>554</th>\n",
       "      <td>Ballard</td>\n",
       "      <td>4.0</td>\n",
       "      <td>1.0</td>\n",
       "      <td>5</td>\n",
       "      <td>250.641096</td>\n",
       "      <td>1</td>\n",
       "    </tr>\n",
       "    <tr>\n",
       "      <th>555</th>\n",
       "      <td>Ballard</td>\n",
       "      <td>4.0</td>\n",
       "      <td>2.5</td>\n",
       "      <td>6</td>\n",
       "      <td>140.424658</td>\n",
       "      <td>1</td>\n",
       "    </tr>\n",
       "    <tr>\n",
       "      <th>556</th>\n",
       "      <td>Ballard</td>\n",
       "      <td>5.0</td>\n",
       "      <td>3.5</td>\n",
       "      <td>1</td>\n",
       "      <td>257.178082</td>\n",
       "      <td>1</td>\n",
       "    </tr>\n",
       "  </tbody>\n",
       "</table>\n",
       "</div>"
      ],
      "text/plain": [
       "    neighbourhood_group_cleansed  bedrooms  bathrooms  guests_included  \\\n",
       "540                      Ballard       1.0        1.0                1   \n",
       "541                      Ballard       1.0        1.0                2   \n",
       "537                      Ballard       0.0        1.0                1   \n",
       "538                      Ballard       0.0        1.0                2   \n",
       "542                      Ballard       1.0        1.0                4   \n",
       "543                      Ballard       1.0        1.5                0   \n",
       "544                      Ballard       1.0        1.5                2   \n",
       "545                      Ballard       2.0        1.0                1   \n",
       "539                      Ballard       1.0        1.0                0   \n",
       "546                      Ballard       2.0        1.0                2   \n",
       "547                      Ballard       2.0        1.0                3   \n",
       "548                      Ballard       2.0        1.5                2   \n",
       "549                      Ballard       2.0        2.0                1   \n",
       "550                      Ballard       2.0        3.0                1   \n",
       "551                      Ballard       3.0        1.0                5   \n",
       "552                      Ballard       3.0        2.0                1   \n",
       "553                      Ballard       3.0        2.5                6   \n",
       "554                      Ballard       4.0        1.0                5   \n",
       "555                      Ballard       4.0        2.5                6   \n",
       "556                      Ballard       5.0        3.5                1   \n",
       "\n",
       "       sh_price  sh_listing_count  \n",
       "540   71.856164                20  \n",
       "541   73.658662                17  \n",
       "537   76.465753                 2  \n",
       "538   84.301370                 2  \n",
       "542   73.375342                 2  \n",
       "543   97.808219                 2  \n",
       "544   85.691781                 2  \n",
       "545   86.452055                 2  \n",
       "539   59.863014                 1  \n",
       "546   49.915068                 1  \n",
       "547  108.123288                 1  \n",
       "548    6.821918                 1  \n",
       "549  110.082192                 1  \n",
       "550  268.558904                 1  \n",
       "551  129.589041                 1  \n",
       "552    2.465753                 1  \n",
       "553  318.246575                 1  \n",
       "554  250.641096                 1  \n",
       "555  140.424658                 1  \n",
       "556  257.178082                 1  "
      ]
     },
     "execution_count": 46,
     "metadata": {},
     "output_type": "execute_result"
    }
   ],
   "source": [
    "# what is the most listed type of unit?\n",
    "superhost_list_prices.sort_values(['neighbourhood_group_cleansed', 'sh_listing_count'], ascending = [True, False]).head(20)"
   ]
  },
  {
   "cell_type": "code",
   "execution_count": 47,
   "metadata": {
    "ExecuteTime": {
     "end_time": "2024-06-01T01:26:56.720931Z",
     "start_time": "2024-06-01T01:26:56.714722Z"
    }
   },
   "outputs": [],
   "source": [
    "# average list price for airbnbs not hosted by superhosts\n",
    "reg_host_list_prices = grouped_list_prices[grouped_list_prices.host_is_superhost=='f'].\\\n",
    "    rename(columns = {'price_clean':'rh_price', 'id':'rh_listing_count'}).drop(columns = ['host_is_superhost'])"
   ]
  },
  {
   "cell_type": "code",
   "execution_count": 48,
   "metadata": {
    "ExecuteTime": {
     "end_time": "2024-06-01T01:26:57.190461Z",
     "start_time": "2024-06-01T01:26:57.186281Z"
    }
   },
   "outputs": [
    {
     "data": {
      "text/plain": [
       "Index(['neighbourhood_group_cleansed', 'bedrooms', 'bathrooms',\n",
       "       'guests_included', 'rh_price', 'rh_listing_count'],\n",
       "      dtype='object')"
      ]
     },
     "execution_count": 48,
     "metadata": {},
     "output_type": "execute_result"
    }
   ],
   "source": [
    "reg_host_list_prices.columns"
   ]
  },
  {
   "cell_type": "code",
   "execution_count": 49,
   "metadata": {
    "ExecuteTime": {
     "end_time": "2024-06-01T01:26:57.684622Z",
     "start_time": "2024-06-01T01:26:57.674778Z"
    }
   },
   "outputs": [],
   "source": [
    "# join dataframes so that only the common categories are present\n",
    "joined_host_listings = pd.merge(superhost_list_prices, reg_host_list_prices,  \\\n",
    "     how='inner', left_on=['neighbourhood_group_cleansed', 'bedrooms', 'bathrooms', 'guests_included'], \\\n",
    "                right_on = ['neighbourhood_group_cleansed', 'bedrooms', 'bathrooms', 'guests_included'])"
   ]
  },
  {
   "cell_type": "code",
   "execution_count": 50,
   "metadata": {
    "ExecuteTime": {
     "end_time": "2024-06-01T01:26:58.037033Z",
     "start_time": "2024-06-01T01:26:58.032437Z"
    }
   },
   "outputs": [],
   "source": [
    "# remove rows where either average price is zero\n",
    "joined_host_listings = joined_host_listings[(joined_host_listings.sh_price > 0) & (joined_host_listings.rh_price > 0)]"
   ]
  },
  {
   "cell_type": "code",
   "execution_count": 51,
   "metadata": {
    "ExecuteTime": {
     "end_time": "2024-06-01T01:26:58.546797Z",
     "start_time": "2024-06-01T01:26:58.535229Z"
    }
   },
   "outputs": [
    {
     "data": {
      "text/html": [
       "<div>\n",
       "<style scoped>\n",
       "    .dataframe tbody tr th:only-of-type {\n",
       "        vertical-align: middle;\n",
       "    }\n",
       "\n",
       "    .dataframe tbody tr th {\n",
       "        vertical-align: top;\n",
       "    }\n",
       "\n",
       "    .dataframe thead th {\n",
       "        text-align: right;\n",
       "    }\n",
       "</style>\n",
       "<table border=\"1\" class=\"dataframe\">\n",
       "  <thead>\n",
       "    <tr style=\"text-align: right;\">\n",
       "      <th></th>\n",
       "      <th>neighbourhood_group_cleansed</th>\n",
       "      <th>bedrooms</th>\n",
       "      <th>bathrooms</th>\n",
       "      <th>guests_included</th>\n",
       "      <th>sh_price</th>\n",
       "      <th>sh_listing_count</th>\n",
       "      <th>rh_price</th>\n",
       "      <th>rh_listing_count</th>\n",
       "    </tr>\n",
       "  </thead>\n",
       "  <tbody>\n",
       "    <tr>\n",
       "      <th>135</th>\n",
       "      <td>Rainier Valley</td>\n",
       "      <td>2.0</td>\n",
       "      <td>1.0</td>\n",
       "      <td>1</td>\n",
       "      <td>78.013699</td>\n",
       "      <td>2</td>\n",
       "      <td>154.457534</td>\n",
       "      <td>3</td>\n",
       "    </tr>\n",
       "    <tr>\n",
       "      <th>136</th>\n",
       "      <td>Rainier Valley</td>\n",
       "      <td>3.0</td>\n",
       "      <td>1.0</td>\n",
       "      <td>4</td>\n",
       "      <td>25.397260</td>\n",
       "      <td>1</td>\n",
       "      <td>50.523288</td>\n",
       "      <td>1</td>\n",
       "    </tr>\n",
       "    <tr>\n",
       "      <th>137</th>\n",
       "      <td>Seward Park</td>\n",
       "      <td>1.0</td>\n",
       "      <td>1.0</td>\n",
       "      <td>1</td>\n",
       "      <td>46.453425</td>\n",
       "      <td>2</td>\n",
       "      <td>44.819406</td>\n",
       "      <td>12</td>\n",
       "    </tr>\n",
       "    <tr>\n",
       "      <th>138</th>\n",
       "      <td>Seward Park</td>\n",
       "      <td>1.0</td>\n",
       "      <td>1.0</td>\n",
       "      <td>2</td>\n",
       "      <td>37.151370</td>\n",
       "      <td>4</td>\n",
       "      <td>62.165297</td>\n",
       "      <td>6</td>\n",
       "    </tr>\n",
       "    <tr>\n",
       "      <th>139</th>\n",
       "      <td>Seward Park</td>\n",
       "      <td>2.0</td>\n",
       "      <td>1.0</td>\n",
       "      <td>1</td>\n",
       "      <td>73.643836</td>\n",
       "      <td>1</td>\n",
       "      <td>81.373516</td>\n",
       "      <td>3</td>\n",
       "    </tr>\n",
       "    <tr>\n",
       "      <th>141</th>\n",
       "      <td>University District</td>\n",
       "      <td>1.0</td>\n",
       "      <td>1.0</td>\n",
       "      <td>1</td>\n",
       "      <td>32.276712</td>\n",
       "      <td>2</td>\n",
       "      <td>57.708985</td>\n",
       "      <td>59</td>\n",
       "    </tr>\n",
       "    <tr>\n",
       "      <th>142</th>\n",
       "      <td>University District</td>\n",
       "      <td>1.0</td>\n",
       "      <td>1.0</td>\n",
       "      <td>2</td>\n",
       "      <td>61.008219</td>\n",
       "      <td>3</td>\n",
       "      <td>71.883562</td>\n",
       "      <td>8</td>\n",
       "    </tr>\n",
       "    <tr>\n",
       "      <th>144</th>\n",
       "      <td>West Seattle</td>\n",
       "      <td>0.0</td>\n",
       "      <td>1.0</td>\n",
       "      <td>0</td>\n",
       "      <td>22.172603</td>\n",
       "      <td>1</td>\n",
       "      <td>153.493151</td>\n",
       "      <td>1</td>\n",
       "    </tr>\n",
       "    <tr>\n",
       "      <th>145</th>\n",
       "      <td>West Seattle</td>\n",
       "      <td>0.0</td>\n",
       "      <td>1.0</td>\n",
       "      <td>1</td>\n",
       "      <td>56.646575</td>\n",
       "      <td>2</td>\n",
       "      <td>38.070320</td>\n",
       "      <td>3</td>\n",
       "    </tr>\n",
       "    <tr>\n",
       "      <th>146</th>\n",
       "      <td>West Seattle</td>\n",
       "      <td>0.0</td>\n",
       "      <td>1.0</td>\n",
       "      <td>2</td>\n",
       "      <td>27.095890</td>\n",
       "      <td>4</td>\n",
       "      <td>68.527397</td>\n",
       "      <td>2</td>\n",
       "    </tr>\n",
       "    <tr>\n",
       "      <th>147</th>\n",
       "      <td>West Seattle</td>\n",
       "      <td>1.0</td>\n",
       "      <td>1.0</td>\n",
       "      <td>1</td>\n",
       "      <td>79.122374</td>\n",
       "      <td>12</td>\n",
       "      <td>73.044069</td>\n",
       "      <td>47</td>\n",
       "    </tr>\n",
       "    <tr>\n",
       "      <th>148</th>\n",
       "      <td>West Seattle</td>\n",
       "      <td>1.0</td>\n",
       "      <td>1.0</td>\n",
       "      <td>2</td>\n",
       "      <td>65.785274</td>\n",
       "      <td>8</td>\n",
       "      <td>54.483481</td>\n",
       "      <td>17</td>\n",
       "    </tr>\n",
       "    <tr>\n",
       "      <th>149</th>\n",
       "      <td>West Seattle</td>\n",
       "      <td>1.0</td>\n",
       "      <td>1.5</td>\n",
       "      <td>1</td>\n",
       "      <td>70.138356</td>\n",
       "      <td>2</td>\n",
       "      <td>49.838356</td>\n",
       "      <td>3</td>\n",
       "    </tr>\n",
       "    <tr>\n",
       "      <th>150</th>\n",
       "      <td>West Seattle</td>\n",
       "      <td>1.0</td>\n",
       "      <td>1.5</td>\n",
       "      <td>2</td>\n",
       "      <td>160.478539</td>\n",
       "      <td>3</td>\n",
       "      <td>138.712329</td>\n",
       "      <td>1</td>\n",
       "    </tr>\n",
       "    <tr>\n",
       "      <th>151</th>\n",
       "      <td>West Seattle</td>\n",
       "      <td>1.0</td>\n",
       "      <td>2.5</td>\n",
       "      <td>2</td>\n",
       "      <td>134.698630</td>\n",
       "      <td>1</td>\n",
       "      <td>225.000000</td>\n",
       "      <td>1</td>\n",
       "    </tr>\n",
       "    <tr>\n",
       "      <th>152</th>\n",
       "      <td>West Seattle</td>\n",
       "      <td>2.0</td>\n",
       "      <td>1.0</td>\n",
       "      <td>1</td>\n",
       "      <td>129.363014</td>\n",
       "      <td>2</td>\n",
       "      <td>124.107347</td>\n",
       "      <td>11</td>\n",
       "    </tr>\n",
       "    <tr>\n",
       "      <th>153</th>\n",
       "      <td>West Seattle</td>\n",
       "      <td>2.0</td>\n",
       "      <td>1.0</td>\n",
       "      <td>2</td>\n",
       "      <td>61.933333</td>\n",
       "      <td>3</td>\n",
       "      <td>146.376712</td>\n",
       "      <td>4</td>\n",
       "    </tr>\n",
       "    <tr>\n",
       "      <th>154</th>\n",
       "      <td>West Seattle</td>\n",
       "      <td>2.0</td>\n",
       "      <td>1.0</td>\n",
       "      <td>4</td>\n",
       "      <td>126.410959</td>\n",
       "      <td>1</td>\n",
       "      <td>160.961644</td>\n",
       "      <td>3</td>\n",
       "    </tr>\n",
       "    <tr>\n",
       "      <th>155</th>\n",
       "      <td>West Seattle</td>\n",
       "      <td>2.0</td>\n",
       "      <td>1.5</td>\n",
       "      <td>1</td>\n",
       "      <td>163.191781</td>\n",
       "      <td>1</td>\n",
       "      <td>117.100457</td>\n",
       "      <td>3</td>\n",
       "    </tr>\n",
       "    <tr>\n",
       "      <th>156</th>\n",
       "      <td>West Seattle</td>\n",
       "      <td>2.0</td>\n",
       "      <td>2.0</td>\n",
       "      <td>1</td>\n",
       "      <td>159.624658</td>\n",
       "      <td>1</td>\n",
       "      <td>148.945205</td>\n",
       "      <td>3</td>\n",
       "    </tr>\n",
       "  </tbody>\n",
       "</table>\n",
       "</div>"
      ],
      "text/plain": [
       "    neighbourhood_group_cleansed  bedrooms  bathrooms  guests_included  \\\n",
       "135               Rainier Valley       2.0        1.0                1   \n",
       "136               Rainier Valley       3.0        1.0                4   \n",
       "137                  Seward Park       1.0        1.0                1   \n",
       "138                  Seward Park       1.0        1.0                2   \n",
       "139                  Seward Park       2.0        1.0                1   \n",
       "141          University District       1.0        1.0                1   \n",
       "142          University District       1.0        1.0                2   \n",
       "144                 West Seattle       0.0        1.0                0   \n",
       "145                 West Seattle       0.0        1.0                1   \n",
       "146                 West Seattle       0.0        1.0                2   \n",
       "147                 West Seattle       1.0        1.0                1   \n",
       "148                 West Seattle       1.0        1.0                2   \n",
       "149                 West Seattle       1.0        1.5                1   \n",
       "150                 West Seattle       1.0        1.5                2   \n",
       "151                 West Seattle       1.0        2.5                2   \n",
       "152                 West Seattle       2.0        1.0                1   \n",
       "153                 West Seattle       2.0        1.0                2   \n",
       "154                 West Seattle       2.0        1.0                4   \n",
       "155                 West Seattle       2.0        1.5                1   \n",
       "156                 West Seattle       2.0        2.0                1   \n",
       "\n",
       "       sh_price  sh_listing_count    rh_price  rh_listing_count  \n",
       "135   78.013699                 2  154.457534                 3  \n",
       "136   25.397260                 1   50.523288                 1  \n",
       "137   46.453425                 2   44.819406                12  \n",
       "138   37.151370                 4   62.165297                 6  \n",
       "139   73.643836                 1   81.373516                 3  \n",
       "141   32.276712                 2   57.708985                59  \n",
       "142   61.008219                 3   71.883562                 8  \n",
       "144   22.172603                 1  153.493151                 1  \n",
       "145   56.646575                 2   38.070320                 3  \n",
       "146   27.095890                 4   68.527397                 2  \n",
       "147   79.122374                12   73.044069                47  \n",
       "148   65.785274                 8   54.483481                17  \n",
       "149   70.138356                 2   49.838356                 3  \n",
       "150  160.478539                 3  138.712329                 1  \n",
       "151  134.698630                 1  225.000000                 1  \n",
       "152  129.363014                 2  124.107347                11  \n",
       "153   61.933333                 3  146.376712                 4  \n",
       "154  126.410959                 1  160.961644                 3  \n",
       "155  163.191781                 1  117.100457                 3  \n",
       "156  159.624658                 1  148.945205                 3  "
      ]
     },
     "execution_count": 51,
     "metadata": {},
     "output_type": "execute_result"
    }
   ],
   "source": [
    "joined_host_listings.tail(20)"
   ]
  },
  {
   "cell_type": "code",
   "execution_count": 52,
   "metadata": {
    "ExecuteTime": {
     "end_time": "2024-06-01T01:26:59.030279Z",
     "start_time": "2024-06-01T01:26:59.026394Z"
    }
   },
   "outputs": [
    {
     "data": {
      "text/plain": [
       "(153, 8)"
      ]
     },
     "execution_count": 52,
     "metadata": {},
     "output_type": "execute_result"
    }
   ],
   "source": [
    "joined_host_listings.shape"
   ]
  },
  {
   "cell_type": "code",
   "execution_count": 53,
   "metadata": {
    "ExecuteTime": {
     "end_time": "2024-06-01T01:27:20.703994Z",
     "start_time": "2024-06-01T01:27:20.698999Z"
    }
   },
   "outputs": [],
   "source": [
    "# percentage difference between the superhost price and the regular host price\n",
    "# how much more or less on average is a superhost airbnb listed for compared to a listing by a regular host?\n",
    "joined_host_listings['percentage_diff'] = ((joined_host_listings.sh_price - joined_host_listings.rh_price)/joined_host_listings.rh_price)*100"
   ]
  },
  {
   "cell_type": "code",
   "execution_count": 54,
   "metadata": {
    "ExecuteTime": {
     "end_time": "2024-06-01T01:27:20.973485Z",
     "start_time": "2024-06-01T01:27:20.970747Z"
    }
   },
   "outputs": [],
   "source": [
    "pd.options.display.float_format = '{:.0f}'.format"
   ]
  },
  {
   "cell_type": "code",
   "execution_count": 55,
   "metadata": {
    "ExecuteTime": {
     "end_time": "2024-06-01T01:27:21.559584Z",
     "start_time": "2024-06-01T01:27:21.274481Z"
    }
   },
   "outputs": [
    {
     "data": {
      "image/png": "[encoded data removed]",
      "text/plain": [
       "<Figure size 432x288 with 1 Axes>"
      ]
     },
     "metadata": {
      "needs_background": "light"
     },
     "output_type": "display_data"
    }
   ],
   "source": [
    "# average differenc in prices of superhost listings and regular host listings\n",
    "joined_host_listings.groupby('neighbourhood_group_cleansed')['percentage_diff'].mean().plot(kind = 'bar');"
   ]
  },
  {
   "cell_type": "code",
   "execution_count": 56,
   "metadata": {
    "ExecuteTime": {
     "end_time": "2024-06-01T01:27:21.942169Z",
     "start_time": "2024-06-01T01:27:21.934924Z"
    }
   },
   "outputs": [],
   "source": [
    "# separate the most common unit types - 1 bed and 1 bath with 1 or 2 guests\n",
    "units_1b1b2g = joined_host_listings[(joined_host_listings.bedrooms == 1) & (joined_host_listings.bathrooms == 1) & (joined_host_listings.guests_included == 2)]\n",
    "units_1b1b1g = joined_host_listings[(joined_host_listings.bedrooms == 1) & (joined_host_listings.bathrooms == 1) & (joined_host_listings.guests_included == 1)]"
   ]
  },
  {
   "cell_type": "code",
   "execution_count": 57,
   "metadata": {
    "ExecuteTime": {
     "end_time": "2024-06-01T01:27:22.798782Z",
     "start_time": "2024-06-01T01:27:22.185895Z"
    }
   },
   "outputs": [
    {
     "data": {
      "image/png": "[encoded data removed]",
      "text/plain": [
       "<Figure size 1296x432 with 1 Axes>"
      ]
     },
     "metadata": {
      "needs_background": "light"
     },
     "output_type": "display_data"
    }
   ],
   "source": [
    "# plot 1 bed, 1 bath, 2 guest unit price comparison\n",
    "fig, ax = plt.subplots(nrows = 1, ncols = 1, figsize = (18, 6), sharex = True, sharey = True)\n",
    "plt.title(\n",
    "    \"Average prices of 1 bed, 1 bath and 2 guest listings across neighbourhood groups\",\n",
    "    fontsize=14,\n",
    "    color=\"black\",\n",
    "    x=0.51,\n",
    "    y=1.01, \n",
    ");\n",
    "plot_compound_bar(units_1b1b2g[['neighbourhood_group_cleansed','sh_price', 'rh_price' ]], 'neighbourhood_group_cleansed', 'host_type', 'avg_price', ax = ax)\n",
    "plt.xticks(rotation=90, fontsize = 12);\n",
    "plt.ylabel(\"Average list price\", fontsize = 14);\n",
    "plt.xlabel(\"Neighbourhood group\", fontsize = 14);"
   ]
  },
  {
   "cell_type": "code",
   "execution_count": 58,
   "metadata": {},
   "outputs": [
    {
     "data": {
      "image/png": "[encoded data removed]",
      "text/plain": [
       "<Figure size 1296x432 with 1 Axes>"
      ]
     },
     "metadata": {
      "needs_background": "light"
     },
     "output_type": "display_data"
    }
   ],
   "source": [
    "# plot 1 bed, 1 bath and 1 gues unit prices\n",
    "fig, ax = plt.subplots(nrows = 1, ncols = 1, figsize = (18, 6), sharex = True, sharey = True)\n",
    "plt.title(\n",
    "    \"Average prices of 1 bed, 1 bath and 1 guest listings across neighbourhood groups\",\n",
    "    fontsize=14,\n",
    "    color=\"black\",\n",
    "    x=0.51,\n",
    "    y=1.01, \n",
    ");\n",
    "plot_compound_bar(units_1b1b1g[['neighbourhood_group_cleansed','sh_price', 'rh_price' ]], 'neighbourhood_group_cleansed', 'host_type', 'avg_price', ax = ax)\n",
    "plt.xticks(rotation=90, fontsize = 12);\n",
    "plt.ylabel(\"Average list price\", fontsize = 14);\n",
    "plt.xlabel(\"Neighbourhood group\", fontsize = 14);"
   ]
  },
  {
   "cell_type": "markdown",
   "metadata": {},
   "source": [
    "## 1.3 Are airbnbs hosted by superhosts booked more?"
   ]
  },
  {
   "cell_type": "code",
   "execution_count": 59,
   "metadata": {
    "ExecuteTime": {
     "end_time": "2024-06-01T01:28:33.245016Z",
     "start_time": "2024-06-01T01:28:32.195448Z"
    }
   },
   "outputs": [
    {
     "data": {
      "text/html": [
       "<div>\n",
       "<style scoped>\n",
       "    .dataframe tbody tr th:only-of-type {\n",
       "        vertical-align: middle;\n",
       "    }\n",
       "\n",
       "    .dataframe tbody tr th {\n",
       "        vertical-align: top;\n",
       "    }\n",
       "\n",
       "    .dataframe thead th {\n",
       "        text-align: right;\n",
       "    }\n",
       "</style>\n",
       "<table border=\"1\" class=\"dataframe\">\n",
       "  <thead>\n",
       "    <tr style=\"text-align: right;\">\n",
       "      <th></th>\n",
       "      <th>date</th>\n",
       "    </tr>\n",
       "  </thead>\n",
       "  <tbody>\n",
       "    <tr>\n",
       "      <th>1393569</th>\n",
       "      <td>2017-01-02</td>\n",
       "    </tr>\n",
       "  </tbody>\n",
       "</table>\n",
       "</div>"
      ],
      "text/plain": [
       "               date\n",
       "1393569  2017-01-02"
      ]
     },
     "execution_count": 59,
     "metadata": {},
     "output_type": "execute_result"
    }
   ],
   "source": [
    "# max date in calendar df\n",
    "calendar_df[['date']].sort_values('date', ascending = False).head(1)"
   ]
  },
  {
   "cell_type": "code",
   "execution_count": 60,
   "metadata": {
    "ExecuteTime": {
     "end_time": "2024-06-01T01:28:34.304214Z",
     "start_time": "2024-06-01T01:28:33.247113Z"
    }
   },
   "outputs": [
    {
     "data": {
      "text/html": [
       "<div>\n",
       "<style scoped>\n",
       "    .dataframe tbody tr th:only-of-type {\n",
       "        vertical-align: middle;\n",
       "    }\n",
       "\n",
       "    .dataframe tbody tr th {\n",
       "        vertical-align: top;\n",
       "    }\n",
       "\n",
       "    .dataframe thead th {\n",
       "        text-align: right;\n",
       "    }\n",
       "</style>\n",
       "<table border=\"1\" class=\"dataframe\">\n",
       "  <thead>\n",
       "    <tr style=\"text-align: right;\">\n",
       "      <th></th>\n",
       "      <th>date</th>\n",
       "    </tr>\n",
       "  </thead>\n",
       "  <tbody>\n",
       "    <tr>\n",
       "      <th>696785</th>\n",
       "      <td>2016-01-04</td>\n",
       "    </tr>\n",
       "  </tbody>\n",
       "</table>\n",
       "</div>"
      ],
      "text/plain": [
       "              date\n",
       "696785  2016-01-04"
      ]
     },
     "execution_count": 60,
     "metadata": {},
     "output_type": "execute_result"
    }
   ],
   "source": [
    "# min date in calendar df\n",
    "calendar_df[['date']].sort_values('date', ascending = False).tail(1)"
   ]
  },
  {
   "cell_type": "code",
   "execution_count": 61,
   "metadata": {
    "ExecuteTime": {
     "end_time": "2024-06-01T01:28:34.395968Z",
     "start_time": "2024-06-01T01:28:34.306180Z"
    }
   },
   "outputs": [
    {
     "data": {
      "text/plain": [
       "f    1108870\n",
       "t     283970\n",
       "Name: host_is_superhost, dtype: int64"
      ]
     },
     "execution_count": 61,
     "metadata": {},
     "output_type": "execute_result"
    }
   ],
   "source": [
    "bookings['host_is_superhost'].value_counts()"
   ]
  },
  {
   "cell_type": "code",
   "execution_count": 62,
   "metadata": {
    "ExecuteTime": {
     "end_time": "2024-06-01T01:28:34.494768Z",
     "start_time": "2024-06-01T01:28:34.397913Z"
    }
   },
   "outputs": [
    {
     "data": {
      "text/plain": [
       "t    934542\n",
       "f    459028\n",
       "Name: available, dtype: int64"
      ]
     },
     "execution_count": 62,
     "metadata": {},
     "output_type": "execute_result"
    }
   ],
   "source": [
    "bookings['available'].value_counts()"
   ]
  },
  {
   "cell_type": "code",
   "execution_count": 63,
   "metadata": {
    "ExecuteTime": {
     "end_time": "2024-06-01T01:28:34.667794Z",
     "start_time": "2024-06-01T01:28:34.496454Z"
    }
   },
   "outputs": [],
   "source": [
    "# superhost bookings\n",
    "sh_bookings = bookings[bookings.host_is_superhost=='t'].groupby(['id', 'available'], as_index = False)['date'].count()"
   ]
  },
  {
   "cell_type": "code",
   "execution_count": 64,
   "metadata": {
    "ExecuteTime": {
     "end_time": "2024-06-01T01:28:35.124485Z",
     "start_time": "2024-06-01T01:28:34.669734Z"
    }
   },
   "outputs": [],
   "source": [
    "# regular host bookings\n",
    "rh_bookings = bookings[bookings.host_is_superhost=='f'].groupby(['id', 'available'], as_index = False)['date'].count()"
   ]
  },
  {
   "cell_type": "code",
   "execution_count": 65,
   "metadata": {
    "ExecuteTime": {
     "end_time": "2024-06-01T01:28:35.135539Z",
     "start_time": "2024-06-01T01:28:35.126341Z"
    }
   },
   "outputs": [
    {
     "data": {
      "text/plain": [
       "365    778\n",
       "Name: date, dtype: int64"
      ]
     },
     "execution_count": 65,
     "metadata": {},
     "output_type": "execute_result"
    }
   ],
   "source": [
    "# are there records for each day in the period?\n",
    "sh_total_bookings = sh_bookings.groupby('id', as_index = False)['date'].sum()\n",
    "sh_total_bookings['date'].value_counts()"
   ]
  },
  {
   "cell_type": "code",
   "execution_count": 66,
   "metadata": {
    "ExecuteTime": {
     "end_time": "2024-06-01T01:28:35.145910Z",
     "start_time": "2024-06-01T01:28:35.137490Z"
    }
   },
   "outputs": [
    {
     "data": {
      "text/plain": [
       "365    3038\n",
       "Name: date, dtype: int64"
      ]
     },
     "execution_count": 66,
     "metadata": {},
     "output_type": "execute_result"
    }
   ],
   "source": [
    "rh_total_bookings = rh_bookings.groupby('id', as_index = False)['date'].sum()\n",
    "rh_total_bookings['date'].value_counts()"
   ]
  },
  {
   "cell_type": "code",
   "execution_count": 67,
   "metadata": {
    "ExecuteTime": {
     "end_time": "2024-06-01T01:28:35.233919Z",
     "start_time": "2024-06-01T01:28:35.147344Z"
    }
   },
   "outputs": [],
   "source": [
    "# spot checks\n",
    "assert calendar_df[(calendar_df.listing_id == 9460) & (calendar_df.available == 't')].shape[0] == 57"
   ]
  },
  {
   "cell_type": "code",
   "execution_count": 68,
   "metadata": {
    "ExecuteTime": {
     "end_time": "2024-06-01T01:28:35.450563Z",
     "start_time": "2024-06-01T01:28:35.444554Z"
    }
   },
   "outputs": [],
   "source": [
    "# percentage of total period that the unit was booked and not booked\n",
    "sh_bookings['pct_of_total_time'] = (sh_bookings.date/365)*100\n",
    "rh_bookings['pct_of_total_time'] = (rh_bookings.date/365)*100"
   ]
  },
  {
   "cell_type": "code",
   "execution_count": 69,
   "metadata": {
    "ExecuteTime": {
     "end_time": "2024-06-01T01:28:36.034706Z",
     "start_time": "2024-06-01T01:28:36.026308Z"
    }
   },
   "outputs": [
    {
     "data": {
      "text/html": [
       "<div>\n",
       "<style scoped>\n",
       "    .dataframe tbody tr th:only-of-type {\n",
       "        vertical-align: middle;\n",
       "    }\n",
       "\n",
       "    .dataframe tbody tr th {\n",
       "        vertical-align: top;\n",
       "    }\n",
       "\n",
       "    .dataframe thead th {\n",
       "        text-align: right;\n",
       "    }\n",
       "</style>\n",
       "<table border=\"1\" class=\"dataframe\">\n",
       "  <thead>\n",
       "    <tr style=\"text-align: right;\">\n",
       "      <th></th>\n",
       "      <th>id</th>\n",
       "      <th>available</th>\n",
       "      <th>date</th>\n",
       "      <th>pct_of_total_time</th>\n",
       "    </tr>\n",
       "  </thead>\n",
       "  <tbody>\n",
       "    <tr>\n",
       "      <th>0</th>\n",
       "      <td>9460</td>\n",
       "      <td>f</td>\n",
       "      <td>308</td>\n",
       "      <td>84</td>\n",
       "    </tr>\n",
       "    <tr>\n",
       "      <th>1</th>\n",
       "      <td>9460</td>\n",
       "      <td>t</td>\n",
       "      <td>57</td>\n",
       "      <td>16</td>\n",
       "    </tr>\n",
       "    <tr>\n",
       "      <th>2</th>\n",
       "      <td>9531</td>\n",
       "      <td>f</td>\n",
       "      <td>185</td>\n",
       "      <td>51</td>\n",
       "    </tr>\n",
       "    <tr>\n",
       "      <th>3</th>\n",
       "      <td>9531</td>\n",
       "      <td>t</td>\n",
       "      <td>180</td>\n",
       "      <td>49</td>\n",
       "    </tr>\n",
       "    <tr>\n",
       "      <th>4</th>\n",
       "      <td>9534</td>\n",
       "      <td>f</td>\n",
       "      <td>103</td>\n",
       "      <td>28</td>\n",
       "    </tr>\n",
       "  </tbody>\n",
       "</table>\n",
       "</div>"
      ],
      "text/plain": [
       "     id available  date  pct_of_total_time\n",
       "0  9460         f   308                 84\n",
       "1  9460         t    57                 16\n",
       "2  9531         f   185                 51\n",
       "3  9531         t   180                 49\n",
       "4  9534         f   103                 28"
      ]
     },
     "execution_count": 69,
     "metadata": {},
     "output_type": "execute_result"
    }
   ],
   "source": [
    "sh_bookings.head()"
   ]
  },
  {
   "cell_type": "code",
   "execution_count": 70,
   "metadata": {
    "ExecuteTime": {
     "end_time": "2024-06-01T01:28:37.040852Z",
     "start_time": "2024-06-01T01:28:37.034619Z"
    }
   },
   "outputs": [
    {
     "data": {
      "text/plain": [
       "38.20391332791464"
      ]
     },
     "execution_count": 70,
     "metadata": {},
     "output_type": "execute_result"
    }
   ],
   "source": [
    "# avg percentage of time listings by superhosts are booked\n",
    "sh_bookings[sh_bookings.available == 'f']['pct_of_total_time'].mean()"
   ]
  },
  {
   "cell_type": "code",
   "execution_count": 71,
   "metadata": {
    "ExecuteTime": {
     "end_time": "2024-06-01T01:28:37.942321Z",
     "start_time": "2024-06-01T01:28:37.935638Z"
    }
   },
   "outputs": [
    {
     "data": {
      "text/plain": [
       "67.45550641786213"
      ]
     },
     "execution_count": 71,
     "metadata": {},
     "output_type": "execute_result"
    }
   ],
   "source": [
    "# avg percentage of time listings by superhosts are not booked\n",
    "sh_bookings[sh_bookings.available == 't']['pct_of_total_time'].mean()"
   ]
  },
  {
   "cell_type": "code",
   "execution_count": 72,
   "metadata": {
    "ExecuteTime": {
     "end_time": "2024-06-01T01:28:38.421478Z",
     "start_time": "2024-06-01T01:28:38.414685Z"
    }
   },
   "outputs": [
    {
     "data": {
      "text/plain": [
       "40.53428576226979"
      ]
     },
     "execution_count": 72,
     "metadata": {},
     "output_type": "execute_result"
    }
   ],
   "source": [
    "# avg percentage of time listings by superhosts are booked\n",
    "rh_bookings[rh_bookings.available == 'f']['pct_of_total_time'].mean()"
   ]
  },
  {
   "cell_type": "code",
   "execution_count": 73,
   "metadata": {
    "ExecuteTime": {
     "end_time": "2024-06-01T01:28:38.792927Z",
     "start_time": "2024-06-01T01:28:38.786479Z"
    }
   },
   "outputs": [
    {
     "data": {
      "text/plain": [
       "69.14924053387162"
      ]
     },
     "execution_count": 73,
     "metadata": {},
     "output_type": "execute_result"
    }
   ],
   "source": [
    "# avg percentage of time listings by superhosts are booked\n",
    "rh_bookings[rh_bookings.available == 't']['pct_of_total_time'].mean()"
   ]
  },
  {
   "cell_type": "markdown",
   "metadata": {
    "ExecuteTime": {
     "end_time": "2024-06-01T01:28:39.450688Z",
     "start_time": "2024-06-01T01:28:39.446050Z"
    }
   },
   "source": [
    "### using the availability columns"
   ]
  },
  {
   "cell_type": "code",
   "execution_count": 74,
   "metadata": {
    "ExecuteTime": {
     "end_time": "2024-06-01T01:28:40.898843Z",
     "start_time": "2024-06-01T01:28:40.894218Z"
    }
   },
   "outputs": [],
   "source": [
    "availability = listings_df[['id', 'host_is_superhost', 'neighbourhood_group_cleansed', 'property_type', 'has_availability', 'availability_30',  'availability_60', 'availability_90', 'availability_365']]"
   ]
  },
  {
   "cell_type": "code",
   "execution_count": 75,
   "metadata": {
    "ExecuteTime": {
     "end_time": "2024-06-01T01:28:43.012806Z",
     "start_time": "2024-06-01T01:28:43.006392Z"
    }
   },
   "outputs": [
    {
     "data": {
      "text/plain": [
       "16.703752468729427"
      ]
     },
     "execution_count": 75,
     "metadata": {},
     "output_type": "execute_result"
    }
   ],
   "source": [
    "availability[availability.host_is_superhost == 'f']['availability_30'].mean()"
   ]
  },
  {
   "cell_type": "code",
   "execution_count": 76,
   "metadata": {
    "ExecuteTime": {
     "end_time": "2024-06-01T01:28:44.005219Z",
     "start_time": "2024-06-01T01:28:43.994881Z"
    }
   },
   "outputs": [],
   "source": [
    "# average availability for superhosts vs non superhosts\n",
    "availability_agg = availability.groupby('host_is_superhost', as_index = False).agg({\n",
    "'availability_30': 'mean',\n",
    "'availability_60': 'mean',\n",
    "'availability_90': 'mean',\n",
    "'availability_365': 'mean',\n",
    "})"
   ]
  },
  {
   "cell_type": "code",
   "execution_count": 77,
   "metadata": {
    "ExecuteTime": {
     "end_time": "2024-06-01T01:28:47.823376Z",
     "start_time": "2024-06-01T01:28:47.814582Z"
    }
   },
   "outputs": [
    {
     "data": {
      "text/html": [
       "<div>\n",
       "<style scoped>\n",
       "    .dataframe tbody tr th:only-of-type {\n",
       "        vertical-align: middle;\n",
       "    }\n",
       "\n",
       "    .dataframe tbody tr th {\n",
       "        vertical-align: top;\n",
       "    }\n",
       "\n",
       "    .dataframe thead th {\n",
       "        text-align: right;\n",
       "    }\n",
       "</style>\n",
       "<table border=\"1\" class=\"dataframe\">\n",
       "  <thead>\n",
       "    <tr style=\"text-align: right;\">\n",
       "      <th></th>\n",
       "      <th>host_is_superhost</th>\n",
       "      <th>availability_30</th>\n",
       "      <th>availability_60</th>\n",
       "      <th>availability_90</th>\n",
       "      <th>availability_365</th>\n",
       "    </tr>\n",
       "  </thead>\n",
       "  <tbody>\n",
       "    <tr>\n",
       "      <th>0</th>\n",
       "      <td>f</td>\n",
       "      <td>17</td>\n",
       "      <td>36</td>\n",
       "      <td>57</td>\n",
       "      <td>246</td>\n",
       "    </tr>\n",
       "    <tr>\n",
       "      <th>1</th>\n",
       "      <td>t</td>\n",
       "      <td>17</td>\n",
       "      <td>38</td>\n",
       "      <td>61</td>\n",
       "      <td>241</td>\n",
       "    </tr>\n",
       "  </tbody>\n",
       "</table>\n",
       "</div>"
      ],
      "text/plain": [
       "  host_is_superhost  availability_30  availability_60  availability_90  \\\n",
       "0                 f               17               36               57   \n",
       "1                 t               17               38               61   \n",
       "\n",
       "   availability_365  \n",
       "0               246  \n",
       "1               241  "
      ]
     },
     "execution_count": 77,
     "metadata": {},
     "output_type": "execute_result"
    }
   ],
   "source": [
    "availability_agg"
   ]
  },
  {
   "cell_type": "code",
   "execution_count": 78,
   "metadata": {},
   "outputs": [],
   "source": [
    "availability_agg = availability_agg.rename(columns = {\n",
    "    'availability_30':'30d',\n",
    "    'availability_60':'60d',\n",
    "    'availability_90':'90d',\n",
    "    'availability_365':'365d',\n",
    "})"
   ]
  },
  {
   "cell_type": "code",
   "execution_count": 79,
   "metadata": {
    "ExecuteTime": {
     "end_time": "2024-06-01T01:28:48.085059Z",
     "start_time": "2024-06-01T01:28:48.074439Z"
    }
   },
   "outputs": [
    {
     "data": {
      "text/html": [
       "<div>\n",
       "<style scoped>\n",
       "    .dataframe tbody tr th:only-of-type {\n",
       "        vertical-align: middle;\n",
       "    }\n",
       "\n",
       "    .dataframe tbody tr th {\n",
       "        vertical-align: top;\n",
       "    }\n",
       "\n",
       "    .dataframe thead th {\n",
       "        text-align: right;\n",
       "    }\n",
       "</style>\n",
       "<table border=\"1\" class=\"dataframe\">\n",
       "  <thead>\n",
       "    <tr style=\"text-align: right;\">\n",
       "      <th></th>\n",
       "      <th>index</th>\n",
       "      <th>0</th>\n",
       "    </tr>\n",
       "  </thead>\n",
       "  <tbody>\n",
       "    <tr>\n",
       "      <th>0</th>\n",
       "      <td>30d</td>\n",
       "      <td>17</td>\n",
       "    </tr>\n",
       "    <tr>\n",
       "      <th>1</th>\n",
       "      <td>60d</td>\n",
       "      <td>36</td>\n",
       "    </tr>\n",
       "    <tr>\n",
       "      <th>2</th>\n",
       "      <td>90d</td>\n",
       "      <td>57</td>\n",
       "    </tr>\n",
       "    <tr>\n",
       "      <th>3</th>\n",
       "      <td>365d</td>\n",
       "      <td>246</td>\n",
       "    </tr>\n",
       "  </tbody>\n",
       "</table>\n",
       "</div>"
      ],
      "text/plain": [
       "  index   0\n",
       "0   30d  17\n",
       "1   60d  36\n",
       "2   90d  57\n",
       "3  365d 246"
      ]
     },
     "execution_count": 79,
     "metadata": {},
     "output_type": "execute_result"
    }
   ],
   "source": [
    "availability_agg[availability_agg.host_is_superhost == 'f' ].drop(columns = ['host_is_superhost']).T.reset_index()"
   ]
  },
  {
   "cell_type": "code",
   "execution_count": 80,
   "metadata": {
    "ExecuteTime": {
     "end_time": "2024-06-01T01:28:48.910237Z",
     "start_time": "2024-06-01T01:28:48.714455Z"
    }
   },
   "outputs": [
    {
     "data": {
      "image/png": "[encoded data removed]",
      "text/plain": [
       "<Figure size 576x576 with 1 Axes>"
      ]
     },
     "metadata": {
      "needs_background": "light"
     },
     "output_type": "display_data"
    }
   ],
   "source": [
    "# plot the comparison between availability of superhost and regular host listings \n",
    "fig, ax = plt.subplots(nrows = 1, ncols = 1, figsize = (8, 8))\n",
    "availability_agg[availability_agg.host_is_superhost == 't' ].drop(columns = ['host_is_superhost']).T.reset_index().\\\n",
    "    plot(kind = 'scatter', x = 'index', y=1, ax = ax, color = 'blue', label = 'superhost')\n",
    "availability_agg[availability_agg.host_is_superhost == 'f' ].drop(columns = ['host_is_superhost']).T.reset_index().\\\n",
    "    plot(kind = 'scatter', x = 'index', y=0, ax = ax, color = 'red', label = 'regular_host')\n",
    "ax.legend()\n",
    "plt.title(\n",
    "    \"Availability of the Airbnb over 30, 60, 90 and 365 days\",\n",
    "    fontsize=14,\n",
    "    color=\"black\",\n",
    "    x=0.51,\n",
    "    y=1.01, \n",
    ");\n",
    "plt.xticks(fontsize = 12);\n",
    "plt.ylabel(\"Days available in period\", fontsize = 14);\n",
    "plt.xlabel(\"Availability period\", fontsize = 14);"
   ]
  },
  {
   "cell_type": "markdown",
   "metadata": {
    "heading_collapsed": true
   },
   "source": [
    "### Drilling down to property type and area"
   ]
  },
  {
   "cell_type": "code",
   "execution_count": 81,
   "metadata": {
    "ExecuteTime": {
     "end_time": "2024-06-01T01:28:41.692670Z",
     "start_time": "2024-06-01T01:28:41.669571Z"
    },
    "hidden": true
   },
   "outputs": [
    {
     "data": {
      "text/html": [
       "<div>\n",
       "<style scoped>\n",
       "    .dataframe tbody tr th:only-of-type {\n",
       "        vertical-align: middle;\n",
       "    }\n",
       "\n",
       "    .dataframe tbody tr th {\n",
       "        vertical-align: top;\n",
       "    }\n",
       "\n",
       "    .dataframe thead th {\n",
       "        text-align: right;\n",
       "    }\n",
       "</style>\n",
       "<table border=\"1\" class=\"dataframe\">\n",
       "  <thead>\n",
       "    <tr style=\"text-align: right;\">\n",
       "      <th></th>\n",
       "      <th>host_is_superhost</th>\n",
       "      <th>property_type</th>\n",
       "      <th>availability_30</th>\n",
       "      <th>availability_60</th>\n",
       "      <th>availability_90</th>\n",
       "      <th>availability_365</th>\n",
       "    </tr>\n",
       "  </thead>\n",
       "  <tbody>\n",
       "    <tr>\n",
       "      <th>0</th>\n",
       "      <td>f</td>\n",
       "      <td>Apartment</td>\n",
       "      <td>16</td>\n",
       "      <td>35</td>\n",
       "      <td>56</td>\n",
       "      <td>241</td>\n",
       "    </tr>\n",
       "    <tr>\n",
       "      <th>1</th>\n",
       "      <td>f</td>\n",
       "      <td>Bed &amp; Breakfast</td>\n",
       "      <td>23</td>\n",
       "      <td>45</td>\n",
       "      <td>69</td>\n",
       "      <td>267</td>\n",
       "    </tr>\n",
       "    <tr>\n",
       "      <th>2</th>\n",
       "      <td>f</td>\n",
       "      <td>Boat</td>\n",
       "      <td>22</td>\n",
       "      <td>48</td>\n",
       "      <td>74</td>\n",
       "      <td>284</td>\n",
       "    </tr>\n",
       "    <tr>\n",
       "      <th>3</th>\n",
       "      <td>f</td>\n",
       "      <td>Bungalow</td>\n",
       "      <td>24</td>\n",
       "      <td>48</td>\n",
       "      <td>74</td>\n",
       "      <td>262</td>\n",
       "    </tr>\n",
       "    <tr>\n",
       "      <th>4</th>\n",
       "      <td>f</td>\n",
       "      <td>Cabin</td>\n",
       "      <td>12</td>\n",
       "      <td>33</td>\n",
       "      <td>56</td>\n",
       "      <td>256</td>\n",
       "    </tr>\n",
       "    <tr>\n",
       "      <th>5</th>\n",
       "      <td>f</td>\n",
       "      <td>Camper/RV</td>\n",
       "      <td>21</td>\n",
       "      <td>44</td>\n",
       "      <td>65</td>\n",
       "      <td>289</td>\n",
       "    </tr>\n",
       "    <tr>\n",
       "      <th>6</th>\n",
       "      <td>f</td>\n",
       "      <td>Chalet</td>\n",
       "      <td>15</td>\n",
       "      <td>30</td>\n",
       "      <td>58</td>\n",
       "      <td>333</td>\n",
       "    </tr>\n",
       "    <tr>\n",
       "      <th>7</th>\n",
       "      <td>f</td>\n",
       "      <td>Condominium</td>\n",
       "      <td>15</td>\n",
       "      <td>32</td>\n",
       "      <td>50</td>\n",
       "      <td>203</td>\n",
       "    </tr>\n",
       "    <tr>\n",
       "      <th>8</th>\n",
       "      <td>f</td>\n",
       "      <td>Dorm</td>\n",
       "      <td>10</td>\n",
       "      <td>25</td>\n",
       "      <td>38</td>\n",
       "      <td>213</td>\n",
       "    </tr>\n",
       "    <tr>\n",
       "      <th>9</th>\n",
       "      <td>f</td>\n",
       "      <td>House</td>\n",
       "      <td>17</td>\n",
       "      <td>37</td>\n",
       "      <td>59</td>\n",
       "      <td>253</td>\n",
       "    </tr>\n",
       "    <tr>\n",
       "      <th>10</th>\n",
       "      <td>f</td>\n",
       "      <td>Loft</td>\n",
       "      <td>18</td>\n",
       "      <td>40</td>\n",
       "      <td>64</td>\n",
       "      <td>239</td>\n",
       "    </tr>\n",
       "    <tr>\n",
       "      <th>11</th>\n",
       "      <td>f</td>\n",
       "      <td>Other</td>\n",
       "      <td>21</td>\n",
       "      <td>42</td>\n",
       "      <td>69</td>\n",
       "      <td>314</td>\n",
       "    </tr>\n",
       "    <tr>\n",
       "      <th>12</th>\n",
       "      <td>f</td>\n",
       "      <td>Tent</td>\n",
       "      <td>6</td>\n",
       "      <td>12</td>\n",
       "      <td>18</td>\n",
       "      <td>175</td>\n",
       "    </tr>\n",
       "    <tr>\n",
       "      <th>13</th>\n",
       "      <td>f</td>\n",
       "      <td>Townhouse</td>\n",
       "      <td>16</td>\n",
       "      <td>36</td>\n",
       "      <td>56</td>\n",
       "      <td>220</td>\n",
       "    </tr>\n",
       "    <tr>\n",
       "      <th>14</th>\n",
       "      <td>f</td>\n",
       "      <td>Treehouse</td>\n",
       "      <td>15</td>\n",
       "      <td>30</td>\n",
       "      <td>45</td>\n",
       "      <td>306</td>\n",
       "    </tr>\n",
       "    <tr>\n",
       "      <th>15</th>\n",
       "      <td>t</td>\n",
       "      <td>Apartment</td>\n",
       "      <td>17</td>\n",
       "      <td>38</td>\n",
       "      <td>61</td>\n",
       "      <td>229</td>\n",
       "    </tr>\n",
       "    <tr>\n",
       "      <th>16</th>\n",
       "      <td>t</td>\n",
       "      <td>Bed &amp; Breakfast</td>\n",
       "      <td>21</td>\n",
       "      <td>39</td>\n",
       "      <td>58</td>\n",
       "      <td>265</td>\n",
       "    </tr>\n",
       "    <tr>\n",
       "      <th>17</th>\n",
       "      <td>t</td>\n",
       "      <td>Bungalow</td>\n",
       "      <td>19</td>\n",
       "      <td>49</td>\n",
       "      <td>79</td>\n",
       "      <td>168</td>\n",
       "    </tr>\n",
       "    <tr>\n",
       "      <th>18</th>\n",
       "      <td>t</td>\n",
       "      <td>Cabin</td>\n",
       "      <td>18</td>\n",
       "      <td>38</td>\n",
       "      <td>57</td>\n",
       "      <td>235</td>\n",
       "    </tr>\n",
       "    <tr>\n",
       "      <th>19</th>\n",
       "      <td>t</td>\n",
       "      <td>Camper/RV</td>\n",
       "      <td>10</td>\n",
       "      <td>24</td>\n",
       "      <td>38</td>\n",
       "      <td>205</td>\n",
       "    </tr>\n",
       "    <tr>\n",
       "      <th>20</th>\n",
       "      <td>t</td>\n",
       "      <td>Condominium</td>\n",
       "      <td>23</td>\n",
       "      <td>51</td>\n",
       "      <td>79</td>\n",
       "      <td>255</td>\n",
       "    </tr>\n",
       "    <tr>\n",
       "      <th>21</th>\n",
       "      <td>t</td>\n",
       "      <td>House</td>\n",
       "      <td>17</td>\n",
       "      <td>37</td>\n",
       "      <td>60</td>\n",
       "      <td>249</td>\n",
       "    </tr>\n",
       "    <tr>\n",
       "      <th>22</th>\n",
       "      <td>t</td>\n",
       "      <td>Loft</td>\n",
       "      <td>14</td>\n",
       "      <td>35</td>\n",
       "      <td>57</td>\n",
       "      <td>270</td>\n",
       "    </tr>\n",
       "    <tr>\n",
       "      <th>23</th>\n",
       "      <td>t</td>\n",
       "      <td>Other</td>\n",
       "      <td>20</td>\n",
       "      <td>38</td>\n",
       "      <td>68</td>\n",
       "      <td>335</td>\n",
       "    </tr>\n",
       "    <tr>\n",
       "      <th>24</th>\n",
       "      <td>t</td>\n",
       "      <td>Townhouse</td>\n",
       "      <td>22</td>\n",
       "      <td>47</td>\n",
       "      <td>73</td>\n",
       "      <td>273</td>\n",
       "    </tr>\n",
       "    <tr>\n",
       "      <th>25</th>\n",
       "      <td>t</td>\n",
       "      <td>Treehouse</td>\n",
       "      <td>0</td>\n",
       "      <td>0</td>\n",
       "      <td>0</td>\n",
       "      <td>61</td>\n",
       "    </tr>\n",
       "    <tr>\n",
       "      <th>26</th>\n",
       "      <td>t</td>\n",
       "      <td>Yurt</td>\n",
       "      <td>28</td>\n",
       "      <td>58</td>\n",
       "      <td>88</td>\n",
       "      <td>177</td>\n",
       "    </tr>\n",
       "  </tbody>\n",
       "</table>\n",
       "</div>"
      ],
      "text/plain": [
       "   host_is_superhost    property_type  availability_30  availability_60  \\\n",
       "0                  f        Apartment               16               35   \n",
       "1                  f  Bed & Breakfast               23               45   \n",
       "2                  f             Boat               22               48   \n",
       "3                  f         Bungalow               24               48   \n",
       "4                  f            Cabin               12               33   \n",
       "5                  f        Camper/RV               21               44   \n",
       "6                  f           Chalet               15               30   \n",
       "7                  f      Condominium               15               32   \n",
       "8                  f             Dorm               10               25   \n",
       "9                  f            House               17               37   \n",
       "10                 f             Loft               18               40   \n",
       "11                 f            Other               21               42   \n",
       "12                 f             Tent                6               12   \n",
       "13                 f        Townhouse               16               36   \n",
       "14                 f        Treehouse               15               30   \n",
       "15                 t        Apartment               17               38   \n",
       "16                 t  Bed & Breakfast               21               39   \n",
       "17                 t         Bungalow               19               49   \n",
       "18                 t            Cabin               18               38   \n",
       "19                 t        Camper/RV               10               24   \n",
       "20                 t      Condominium               23               51   \n",
       "21                 t            House               17               37   \n",
       "22                 t             Loft               14               35   \n",
       "23                 t            Other               20               38   \n",
       "24                 t        Townhouse               22               47   \n",
       "25                 t        Treehouse                0                0   \n",
       "26                 t             Yurt               28               58   \n",
       "\n",
       "    availability_90  availability_365  \n",
       "0                56               241  \n",
       "1                69               267  \n",
       "2                74               284  \n",
       "3                74               262  \n",
       "4                56               256  \n",
       "5                65               289  \n",
       "6                58               333  \n",
       "7                50               203  \n",
       "8                38               213  \n",
       "9                59               253  \n",
       "10               64               239  \n",
       "11               69               314  \n",
       "12               18               175  \n",
       "13               56               220  \n",
       "14               45               306  \n",
       "15               61               229  \n",
       "16               58               265  \n",
       "17               79               168  \n",
       "18               57               235  \n",
       "19               38               205  \n",
       "20               79               255  \n",
       "21               60               249  \n",
       "22               57               270  \n",
       "23               68               335  \n",
       "24               73               273  \n",
       "25                0                61  \n",
       "26               88               177  "
      ]
     },
     "execution_count": 81,
     "metadata": {},
     "output_type": "execute_result"
    }
   ],
   "source": [
    "availability.groupby(['host_is_superhost', 'property_type'], as_index = False).\\\n",
    "    agg({\n",
    "'availability_30': 'mean',\n",
    "'availability_60': 'mean',\n",
    "'availability_90': 'mean',\n",
    "'availability_365': 'mean',\n",
    "})"
   ]
  },
  {
   "cell_type": "code",
   "execution_count": 82,
   "metadata": {
    "ExecuteTime": {
     "end_time": "2024-06-01T01:28:42.428741Z",
     "start_time": "2024-06-01T01:28:42.406865Z"
    },
    "hidden": true
   },
   "outputs": [
    {
     "data": {
      "text/html": [
       "<div>\n",
       "<style scoped>\n",
       "    .dataframe tbody tr th:only-of-type {\n",
       "        vertical-align: middle;\n",
       "    }\n",
       "\n",
       "    .dataframe tbody tr th {\n",
       "        vertical-align: top;\n",
       "    }\n",
       "\n",
       "    .dataframe thead th {\n",
       "        text-align: right;\n",
       "    }\n",
       "</style>\n",
       "<table border=\"1\" class=\"dataframe\">\n",
       "  <thead>\n",
       "    <tr style=\"text-align: right;\">\n",
       "      <th></th>\n",
       "      <th>host_is_superhost</th>\n",
       "      <th>neighbourhood_group_cleansed</th>\n",
       "      <th>availability_30</th>\n",
       "      <th>availability_60</th>\n",
       "      <th>availability_90</th>\n",
       "      <th>availability_365</th>\n",
       "    </tr>\n",
       "  </thead>\n",
       "  <tbody>\n",
       "    <tr>\n",
       "      <th>0</th>\n",
       "      <td>f</td>\n",
       "      <td>Ballard</td>\n",
       "      <td>15</td>\n",
       "      <td>33</td>\n",
       "      <td>52</td>\n",
       "      <td>246</td>\n",
       "    </tr>\n",
       "    <tr>\n",
       "      <th>1</th>\n",
       "      <td>f</td>\n",
       "      <td>Beacon Hill</td>\n",
       "      <td>19</td>\n",
       "      <td>41</td>\n",
       "      <td>64</td>\n",
       "      <td>263</td>\n",
       "    </tr>\n",
       "    <tr>\n",
       "      <th>2</th>\n",
       "      <td>f</td>\n",
       "      <td>Capitol Hill</td>\n",
       "      <td>16</td>\n",
       "      <td>35</td>\n",
       "      <td>55</td>\n",
       "      <td>243</td>\n",
       "    </tr>\n",
       "    <tr>\n",
       "      <th>3</th>\n",
       "      <td>f</td>\n",
       "      <td>Cascade</td>\n",
       "      <td>13</td>\n",
       "      <td>29</td>\n",
       "      <td>47</td>\n",
       "      <td>202</td>\n",
       "    </tr>\n",
       "    <tr>\n",
       "      <th>4</th>\n",
       "      <td>f</td>\n",
       "      <td>Central Area</td>\n",
       "      <td>15</td>\n",
       "      <td>34</td>\n",
       "      <td>54</td>\n",
       "      <td>240</td>\n",
       "    </tr>\n",
       "    <tr>\n",
       "      <th>5</th>\n",
       "      <td>f</td>\n",
       "      <td>Delridge</td>\n",
       "      <td>18</td>\n",
       "      <td>41</td>\n",
       "      <td>65</td>\n",
       "      <td>280</td>\n",
       "    </tr>\n",
       "    <tr>\n",
       "      <th>6</th>\n",
       "      <td>f</td>\n",
       "      <td>Downtown</td>\n",
       "      <td>17</td>\n",
       "      <td>38</td>\n",
       "      <td>59</td>\n",
       "      <td>242</td>\n",
       "    </tr>\n",
       "    <tr>\n",
       "      <th>7</th>\n",
       "      <td>f</td>\n",
       "      <td>Interbay</td>\n",
       "      <td>28</td>\n",
       "      <td>55</td>\n",
       "      <td>85</td>\n",
       "      <td>328</td>\n",
       "    </tr>\n",
       "    <tr>\n",
       "      <th>8</th>\n",
       "      <td>f</td>\n",
       "      <td>Lake City</td>\n",
       "      <td>20</td>\n",
       "      <td>42</td>\n",
       "      <td>66</td>\n",
       "      <td>273</td>\n",
       "    </tr>\n",
       "    <tr>\n",
       "      <th>9</th>\n",
       "      <td>f</td>\n",
       "      <td>Magnolia</td>\n",
       "      <td>22</td>\n",
       "      <td>45</td>\n",
       "      <td>67</td>\n",
       "      <td>270</td>\n",
       "    </tr>\n",
       "    <tr>\n",
       "      <th>10</th>\n",
       "      <td>f</td>\n",
       "      <td>Northgate</td>\n",
       "      <td>17</td>\n",
       "      <td>38</td>\n",
       "      <td>63</td>\n",
       "      <td>265</td>\n",
       "    </tr>\n",
       "    <tr>\n",
       "      <th>11</th>\n",
       "      <td>f</td>\n",
       "      <td>Other neighborhoods</td>\n",
       "      <td>17</td>\n",
       "      <td>36</td>\n",
       "      <td>56</td>\n",
       "      <td>246</td>\n",
       "    </tr>\n",
       "    <tr>\n",
       "      <th>12</th>\n",
       "      <td>f</td>\n",
       "      <td>Queen Anne</td>\n",
       "      <td>14</td>\n",
       "      <td>32</td>\n",
       "      <td>51</td>\n",
       "      <td>221</td>\n",
       "    </tr>\n",
       "    <tr>\n",
       "      <th>13</th>\n",
       "      <td>f</td>\n",
       "      <td>Rainier Valley</td>\n",
       "      <td>17</td>\n",
       "      <td>38</td>\n",
       "      <td>60</td>\n",
       "      <td>243</td>\n",
       "    </tr>\n",
       "    <tr>\n",
       "      <th>14</th>\n",
       "      <td>f</td>\n",
       "      <td>Seward Park</td>\n",
       "      <td>20</td>\n",
       "      <td>44</td>\n",
       "      <td>69</td>\n",
       "      <td>258</td>\n",
       "    </tr>\n",
       "    <tr>\n",
       "      <th>15</th>\n",
       "      <td>f</td>\n",
       "      <td>University District</td>\n",
       "      <td>21</td>\n",
       "      <td>44</td>\n",
       "      <td>68</td>\n",
       "      <td>275</td>\n",
       "    </tr>\n",
       "    <tr>\n",
       "      <th>16</th>\n",
       "      <td>f</td>\n",
       "      <td>West Seattle</td>\n",
       "      <td>18</td>\n",
       "      <td>39</td>\n",
       "      <td>61</td>\n",
       "      <td>256</td>\n",
       "    </tr>\n",
       "    <tr>\n",
       "      <th>17</th>\n",
       "      <td>t</td>\n",
       "      <td>Ballard</td>\n",
       "      <td>16</td>\n",
       "      <td>38</td>\n",
       "      <td>61</td>\n",
       "      <td>270</td>\n",
       "    </tr>\n",
       "    <tr>\n",
       "      <th>18</th>\n",
       "      <td>t</td>\n",
       "      <td>Beacon Hill</td>\n",
       "      <td>13</td>\n",
       "      <td>28</td>\n",
       "      <td>47</td>\n",
       "      <td>221</td>\n",
       "    </tr>\n",
       "    <tr>\n",
       "      <th>19</th>\n",
       "      <td>t</td>\n",
       "      <td>Capitol Hill</td>\n",
       "      <td>16</td>\n",
       "      <td>35</td>\n",
       "      <td>54</td>\n",
       "      <td>185</td>\n",
       "    </tr>\n",
       "    <tr>\n",
       "      <th>20</th>\n",
       "      <td>t</td>\n",
       "      <td>Cascade</td>\n",
       "      <td>16</td>\n",
       "      <td>36</td>\n",
       "      <td>60</td>\n",
       "      <td>247</td>\n",
       "    </tr>\n",
       "    <tr>\n",
       "      <th>21</th>\n",
       "      <td>t</td>\n",
       "      <td>Central Area</td>\n",
       "      <td>18</td>\n",
       "      <td>39</td>\n",
       "      <td>61</td>\n",
       "      <td>261</td>\n",
       "    </tr>\n",
       "    <tr>\n",
       "      <th>22</th>\n",
       "      <td>t</td>\n",
       "      <td>Delridge</td>\n",
       "      <td>18</td>\n",
       "      <td>39</td>\n",
       "      <td>61</td>\n",
       "      <td>251</td>\n",
       "    </tr>\n",
       "    <tr>\n",
       "      <th>23</th>\n",
       "      <td>t</td>\n",
       "      <td>Downtown</td>\n",
       "      <td>21</td>\n",
       "      <td>46</td>\n",
       "      <td>73</td>\n",
       "      <td>220</td>\n",
       "    </tr>\n",
       "    <tr>\n",
       "      <th>24</th>\n",
       "      <td>t</td>\n",
       "      <td>Interbay</td>\n",
       "      <td>10</td>\n",
       "      <td>39</td>\n",
       "      <td>54</td>\n",
       "      <td>220</td>\n",
       "    </tr>\n",
       "    <tr>\n",
       "      <th>25</th>\n",
       "      <td>t</td>\n",
       "      <td>Lake City</td>\n",
       "      <td>20</td>\n",
       "      <td>45</td>\n",
       "      <td>69</td>\n",
       "      <td>314</td>\n",
       "    </tr>\n",
       "    <tr>\n",
       "      <th>26</th>\n",
       "      <td>t</td>\n",
       "      <td>Magnolia</td>\n",
       "      <td>24</td>\n",
       "      <td>54</td>\n",
       "      <td>84</td>\n",
       "      <td>327</td>\n",
       "    </tr>\n",
       "    <tr>\n",
       "      <th>27</th>\n",
       "      <td>t</td>\n",
       "      <td>Northgate</td>\n",
       "      <td>13</td>\n",
       "      <td>32</td>\n",
       "      <td>52</td>\n",
       "      <td>261</td>\n",
       "    </tr>\n",
       "    <tr>\n",
       "      <th>28</th>\n",
       "      <td>t</td>\n",
       "      <td>Other neighborhoods</td>\n",
       "      <td>16</td>\n",
       "      <td>35</td>\n",
       "      <td>57</td>\n",
       "      <td>241</td>\n",
       "    </tr>\n",
       "    <tr>\n",
       "      <th>29</th>\n",
       "      <td>t</td>\n",
       "      <td>Queen Anne</td>\n",
       "      <td>17</td>\n",
       "      <td>38</td>\n",
       "      <td>57</td>\n",
       "      <td>248</td>\n",
       "    </tr>\n",
       "    <tr>\n",
       "      <th>30</th>\n",
       "      <td>t</td>\n",
       "      <td>Rainier Valley</td>\n",
       "      <td>15</td>\n",
       "      <td>38</td>\n",
       "      <td>63</td>\n",
       "      <td>249</td>\n",
       "    </tr>\n",
       "    <tr>\n",
       "      <th>31</th>\n",
       "      <td>t</td>\n",
       "      <td>Seward Park</td>\n",
       "      <td>18</td>\n",
       "      <td>38</td>\n",
       "      <td>61</td>\n",
       "      <td>215</td>\n",
       "    </tr>\n",
       "    <tr>\n",
       "      <th>32</th>\n",
       "      <td>t</td>\n",
       "      <td>University District</td>\n",
       "      <td>17</td>\n",
       "      <td>41</td>\n",
       "      <td>63</td>\n",
       "      <td>212</td>\n",
       "    </tr>\n",
       "    <tr>\n",
       "      <th>33</th>\n",
       "      <td>t</td>\n",
       "      <td>West Seattle</td>\n",
       "      <td>18</td>\n",
       "      <td>39</td>\n",
       "      <td>64</td>\n",
       "      <td>256</td>\n",
       "    </tr>\n",
       "  </tbody>\n",
       "</table>\n",
       "</div>"
      ],
      "text/plain": [
       "   host_is_superhost neighbourhood_group_cleansed  availability_30  \\\n",
       "0                  f                      Ballard               15   \n",
       "1                  f                  Beacon Hill               19   \n",
       "2                  f                 Capitol Hill               16   \n",
       "3                  f                      Cascade               13   \n",
       "4                  f                 Central Area               15   \n",
       "5                  f                     Delridge               18   \n",
       "6                  f                     Downtown               17   \n",
       "7                  f                     Interbay               28   \n",
       "8                  f                    Lake City               20   \n",
       "9                  f                     Magnolia               22   \n",
       "10                 f                    Northgate               17   \n",
       "11                 f          Other neighborhoods               17   \n",
       "12                 f                   Queen Anne               14   \n",
       "13                 f               Rainier Valley               17   \n",
       "14                 f                  Seward Park               20   \n",
       "15                 f          University District               21   \n",
       "16                 f                 West Seattle               18   \n",
       "17                 t                      Ballard               16   \n",
       "18                 t                  Beacon Hill               13   \n",
       "19                 t                 Capitol Hill               16   \n",
       "20                 t                      Cascade               16   \n",
       "21                 t                 Central Area               18   \n",
       "22                 t                     Delridge               18   \n",
       "23                 t                     Downtown               21   \n",
       "24                 t                     Interbay               10   \n",
       "25                 t                    Lake City               20   \n",
       "26                 t                     Magnolia               24   \n",
       "27                 t                    Northgate               13   \n",
       "28                 t          Other neighborhoods               16   \n",
       "29                 t                   Queen Anne               17   \n",
       "30                 t               Rainier Valley               15   \n",
       "31                 t                  Seward Park               18   \n",
       "32                 t          University District               17   \n",
       "33                 t                 West Seattle               18   \n",
       "\n",
       "    availability_60  availability_90  availability_365  \n",
       "0                33               52               246  \n",
       "1                41               64               263  \n",
       "2                35               55               243  \n",
       "3                29               47               202  \n",
       "4                34               54               240  \n",
       "5                41               65               280  \n",
       "6                38               59               242  \n",
       "7                55               85               328  \n",
       "8                42               66               273  \n",
       "9                45               67               270  \n",
       "10               38               63               265  \n",
       "11               36               56               246  \n",
       "12               32               51               221  \n",
       "13               38               60               243  \n",
       "14               44               69               258  \n",
       "15               44               68               275  \n",
       "16               39               61               256  \n",
       "17               38               61               270  \n",
       "18               28               47               221  \n",
       "19               35               54               185  \n",
       "20               36               60               247  \n",
       "21               39               61               261  \n",
       "22               39               61               251  \n",
       "23               46               73               220  \n",
       "24               39               54               220  \n",
       "25               45               69               314  \n",
       "26               54               84               327  \n",
       "27               32               52               261  \n",
       "28               35               57               241  \n",
       "29               38               57               248  \n",
       "30               38               63               249  \n",
       "31               38               61               215  \n",
       "32               41               63               212  \n",
       "33               39               64               256  "
      ]
     },
     "execution_count": 82,
     "metadata": {},
     "output_type": "execute_result"
    }
   ],
   "source": [
    "availability.groupby(['host_is_superhost', 'neighbourhood_group_cleansed'], as_index = False).\\\n",
    "    agg({\n",
    "'availability_30': 'mean',\n",
    "'availability_60': 'mean',\n",
    "'availability_90': 'mean',\n",
    "'availability_365': 'mean',\n",
    "})"
   ]
  },
  {
   "cell_type": "code",
   "execution_count": 83,
   "metadata": {
    "ExecuteTime": {
     "end_time": "2024-05-31T22:39:38.702236Z",
     "start_time": "2024-05-31T22:39:38.361767Z"
    },
    "hidden": true
   },
   "outputs": [
    {
     "data": {
      "text/plain": [
       "<matplotlib.axes._subplots.AxesSubplot at 0x1a03c7ded08>"
      ]
     },
     "execution_count": 83,
     "metadata": {},
     "output_type": "execute_result"
    },
    {
     "data": {
      "image/png": "[encoded data removed]",
      "text/plain": [
       "<Figure size 1296x720 with 1 Axes>"
      ]
     },
     "metadata": {
      "needs_background": "light"
     },
     "output_type": "display_data"
    }
   ],
   "source": [
    "# availability 30d\n",
    "fig, ax = plt.subplots(nrows = 1, ncols = 1, figsize = (18, 10))\n",
    "sns.histplot(data = availability, x = 'availability_30', hue = 'host_is_superhost', bins = range(1, 30, 1))"
   ]
  },
  {
   "cell_type": "markdown",
   "metadata": {},
   "source": [
    "# 2 Amenity Analysis"
   ]
  },
  {
   "cell_type": "code",
   "execution_count": 84,
   "metadata": {
    "ExecuteTime": {
     "end_time": "2024-06-01T02:01:07.354631Z",
     "start_time": "2024-06-01T02:01:07.335545Z"
    }
   },
   "outputs": [
    {
     "data": {
      "text/html": [
       "<div>\n",
       "<style scoped>\n",
       "    .dataframe tbody tr th:only-of-type {\n",
       "        vertical-align: middle;\n",
       "    }\n",
       "\n",
       "    .dataframe tbody tr th {\n",
       "        vertical-align: top;\n",
       "    }\n",
       "\n",
       "    .dataframe thead th {\n",
       "        text-align: right;\n",
       "    }\n",
       "</style>\n",
       "<table border=\"1\" class=\"dataframe\">\n",
       "  <thead>\n",
       "    <tr style=\"text-align: right;\">\n",
       "      <th></th>\n",
       "      <th>id</th>\n",
       "      <th>amenities</th>\n",
       "      <th>host_since</th>\n",
       "      <th>host_is_superhost</th>\n",
       "      <th>number_of_reviews</th>\n",
       "      <th>first_review</th>\n",
       "      <th>last_review</th>\n",
       "      <th>review_scores_rating</th>\n",
       "      <th>review_scores_accuracy</th>\n",
       "      <th>review_scores_cleanliness</th>\n",
       "      <th>review_scores_checkin</th>\n",
       "      <th>review_scores_communication</th>\n",
       "      <th>review_scores_location</th>\n",
       "      <th>review_scores_value</th>\n",
       "      <th>reviews_per_month</th>\n",
       "    </tr>\n",
       "  </thead>\n",
       "  <tbody>\n",
       "    <tr>\n",
       "      <th>0</th>\n",
       "      <td>241032</td>\n",
       "      <td>{TV,\"Cable TV\",Internet,\"Wireless Internet\",\"Air Conditioning\",Kitchen,Heating,\"Family/Kid Friendly\",Washer,Dryer}</td>\n",
       "      <td>2011-08-11</td>\n",
       "      <td>f</td>\n",
       "      <td>207</td>\n",
       "      <td>2011-11-01</td>\n",
       "      <td>2016-01-02</td>\n",
       "      <td>95</td>\n",
       "      <td>10</td>\n",
       "      <td>10</td>\n",
       "      <td>10</td>\n",
       "      <td>10</td>\n",
       "      <td>9</td>\n",
       "      <td>10</td>\n",
       "      <td>4</td>\n",
       "    </tr>\n",
       "    <tr>\n",
       "      <th>1</th>\n",
       "      <td>953595</td>\n",
       "      <td>{TV,Internet,\"Wireless Internet\",Kitchen,\"Free Parking on Premises\",\"Buzzer/Wireless Intercom\",Heating,\"Family/Kid Friendly\",Washer,Dryer,\"Smoke Detector\",\"Carbon Monoxide Detector\",\"First Aid Kit\",\"Safety Card\",\"Fire Extinguisher\",Essentials}</td>\n",
       "      <td>2013-02-21</td>\n",
       "      <td>t</td>\n",
       "      <td>43</td>\n",
       "      <td>2013-08-19</td>\n",
       "      <td>2015-12-29</td>\n",
       "      <td>96</td>\n",
       "      <td>10</td>\n",
       "      <td>10</td>\n",
       "      <td>10</td>\n",
       "      <td>10</td>\n",
       "      <td>10</td>\n",
       "      <td>10</td>\n",
       "      <td>1</td>\n",
       "    </tr>\n",
       "    <tr>\n",
       "      <th>2</th>\n",
       "      <td>3308979</td>\n",
       "      <td>{TV,\"Cable TV\",Internet,\"Wireless Internet\",\"Air Conditioning\",Kitchen,\"Free Parking on Premises\",\"Pets Allowed\",\"Pets live on this property\",Dog(s),Cat(s),\"Hot Tub\",\"Indoor Fireplace\",Heating,\"Family/Kid Friendly\",Washer,Dryer,\"Smoke Detector\",\"Carbon Monoxide Detector\",Essentials,Shampoo}</td>\n",
       "      <td>2014-06-12</td>\n",
       "      <td>f</td>\n",
       "      <td>20</td>\n",
       "      <td>2014-07-30</td>\n",
       "      <td>2015-09-03</td>\n",
       "      <td>97</td>\n",
       "      <td>10</td>\n",
       "      <td>10</td>\n",
       "      <td>10</td>\n",
       "      <td>10</td>\n",
       "      <td>10</td>\n",
       "      <td>10</td>\n",
       "      <td>1</td>\n",
       "    </tr>\n",
       "    <tr>\n",
       "      <th>3</th>\n",
       "      <td>7421966</td>\n",
       "      <td>{Internet,\"Wireless Internet\",Kitchen,\"Indoor Fireplace\",Heating,\"Family/Kid Friendly\",Washer,Dryer,\"Smoke Detector\",\"Carbon Monoxide Detector\",\"Safety Card\",\"Fire Extinguisher\",Essentials,Shampoo}</td>\n",
       "      <td>2013-11-06</td>\n",
       "      <td>f</td>\n",
       "      <td>0</td>\n",
       "      <td>NaN</td>\n",
       "      <td>NaN</td>\n",
       "      <td>nan</td>\n",
       "      <td>nan</td>\n",
       "      <td>nan</td>\n",
       "      <td>nan</td>\n",
       "      <td>nan</td>\n",
       "      <td>nan</td>\n",
       "      <td>nan</td>\n",
       "      <td>nan</td>\n",
       "    </tr>\n",
       "    <tr>\n",
       "      <th>4</th>\n",
       "      <td>278830</td>\n",
       "      <td>{TV,\"Cable TV\",Internet,\"Wireless Internet\",Kitchen,Heating,\"Family/Kid Friendly\",\"Smoke Detector\",\"Carbon Monoxide Detector\",\"First Aid Kit\",\"Fire Extinguisher\",Essentials,Shampoo}</td>\n",
       "      <td>2011-11-29</td>\n",
       "      <td>f</td>\n",
       "      <td>38</td>\n",
       "      <td>2012-07-10</td>\n",
       "      <td>2015-10-24</td>\n",
       "      <td>92</td>\n",
       "      <td>9</td>\n",
       "      <td>9</td>\n",
       "      <td>10</td>\n",
       "      <td>10</td>\n",
       "      <td>9</td>\n",
       "      <td>9</td>\n",
       "      <td>1</td>\n",
       "    </tr>\n",
       "  </tbody>\n",
       "</table>\n",
       "</div>"
      ],
      "text/plain": [
       "        id  \\\n",
       "0   241032   \n",
       "1   953595   \n",
       "2  3308979   \n",
       "3  7421966   \n",
       "4   278830   \n",
       "\n",
       "                                                                                                                                                                                                                                                                                             amenities  \\\n",
       "0                                                                                                                                                                                   {TV,\"Cable TV\",Internet,\"Wireless Internet\",\"Air Conditioning\",Kitchen,Heating,\"Family/Kid Friendly\",Washer,Dryer}   \n",
       "1                                                  {TV,Internet,\"Wireless Internet\",Kitchen,\"Free Parking on Premises\",\"Buzzer/Wireless Intercom\",Heating,\"Family/Kid Friendly\",Washer,Dryer,\"Smoke Detector\",\"Carbon Monoxide Detector\",\"First Aid Kit\",\"Safety Card\",\"Fire Extinguisher\",Essentials}   \n",
       "2  {TV,\"Cable TV\",Internet,\"Wireless Internet\",\"Air Conditioning\",Kitchen,\"Free Parking on Premises\",\"Pets Allowed\",\"Pets live on this property\",Dog(s),Cat(s),\"Hot Tub\",\"Indoor Fireplace\",Heating,\"Family/Kid Friendly\",Washer,Dryer,\"Smoke Detector\",\"Carbon Monoxide Detector\",Essentials,Shampoo}   \n",
       "3                                                                                                {Internet,\"Wireless Internet\",Kitchen,\"Indoor Fireplace\",Heating,\"Family/Kid Friendly\",Washer,Dryer,\"Smoke Detector\",\"Carbon Monoxide Detector\",\"Safety Card\",\"Fire Extinguisher\",Essentials,Shampoo}   \n",
       "4                                                                                                                {TV,\"Cable TV\",Internet,\"Wireless Internet\",Kitchen,Heating,\"Family/Kid Friendly\",\"Smoke Detector\",\"Carbon Monoxide Detector\",\"First Aid Kit\",\"Fire Extinguisher\",Essentials,Shampoo}   \n",
       "\n",
       "   host_since host_is_superhost  number_of_reviews first_review last_review  \\\n",
       "0  2011-08-11                 f                207   2011-11-01  2016-01-02   \n",
       "1  2013-02-21                 t                 43   2013-08-19  2015-12-29   \n",
       "2  2014-06-12                 f                 20   2014-07-30  2015-09-03   \n",
       "3  2013-11-06                 f                  0          NaN         NaN   \n",
       "4  2011-11-29                 f                 38   2012-07-10  2015-10-24   \n",
       "\n",
       "   review_scores_rating  review_scores_accuracy  review_scores_cleanliness  \\\n",
       "0                    95                      10                         10   \n",
       "1                    96                      10                         10   \n",
       "2                    97                      10                         10   \n",
       "3                   nan                     nan                        nan   \n",
       "4                    92                       9                          9   \n",
       "\n",
       "   review_scores_checkin  review_scores_communication  review_scores_location  \\\n",
       "0                     10                           10                       9   \n",
       "1                     10                           10                      10   \n",
       "2                     10                           10                      10   \n",
       "3                    nan                          nan                     nan   \n",
       "4                     10                           10                       9   \n",
       "\n",
       "   review_scores_value  reviews_per_month  \n",
       "0                   10                  4  \n",
       "1                   10                  1  \n",
       "2                   10                  1  \n",
       "3                  nan                nan  \n",
       "4                    9                  1  "
      ]
     },
     "execution_count": 84,
     "metadata": {},
     "output_type": "execute_result"
    }
   ],
   "source": [
    "# extracting information from the amenities column\n",
    "listings_temp = listings_df[['id', 'amenities',  'host_since', 'host_is_superhost', \n",
    "'number_of_reviews',\n",
    "       'first_review', 'last_review', 'review_scores_rating',\n",
    "       'review_scores_accuracy', 'review_scores_cleanliness',\n",
    "       'review_scores_checkin', 'review_scores_communication',\n",
    "       'review_scores_location', 'review_scores_value', 'reviews_per_month' ]]\n",
    "listings_temp.head()"
   ]
  },
  {
   "cell_type": "markdown",
   "metadata": {},
   "source": [
    "## Separate amenities into separate columns"
   ]
  },
  {
   "cell_type": "code",
   "execution_count": 85,
   "metadata": {
    "ExecuteTime": {
     "end_time": "2024-06-01T02:01:13.630064Z",
     "start_time": "2024-06-01T02:01:13.587400Z"
    }
   },
   "outputs": [
    {
     "name": "stderr",
     "output_type": "stream",
     "text": [
      "C:\\Users\\arjunanl\\Anaconda3\\lib\\site-packages\\ipykernel_launcher.py:2: SettingWithCopyWarning: \n",
      "A value is trying to be set on a copy of a slice from a DataFrame.\n",
      "Try using .loc[row_indexer,col_indexer] = value instead\n",
      "\n",
      "See the caveats in the documentation: https://pandas.pydata.org/pandas-docs/stable/user_guide/indexing.html#returning-a-view-versus-a-copy\n",
      "  \n"
     ]
    }
   ],
   "source": [
    "# remove curly braces and double inverted commas\n",
    "listings_temp['amenities'] = listings_temp.amenities.replace({'{':'', '}':'', '\"':''}, regex=True)"
   ]
  },
  {
   "cell_type": "code",
   "execution_count": 86,
   "metadata": {
    "ExecuteTime": {
     "end_time": "2024-06-01T02:01:15.262151Z",
     "start_time": "2024-06-01T02:01:15.246956Z"
    }
   },
   "outputs": [
    {
     "data": {
      "text/html": [
       "<div>\n",
       "<style scoped>\n",
       "    .dataframe tbody tr th:only-of-type {\n",
       "        vertical-align: middle;\n",
       "    }\n",
       "\n",
       "    .dataframe tbody tr th {\n",
       "        vertical-align: top;\n",
       "    }\n",
       "\n",
       "    .dataframe thead th {\n",
       "        text-align: right;\n",
       "    }\n",
       "</style>\n",
       "<table border=\"1\" class=\"dataframe\">\n",
       "  <thead>\n",
       "    <tr style=\"text-align: right;\">\n",
       "      <th></th>\n",
       "      <th>id</th>\n",
       "      <th>amenities</th>\n",
       "      <th>host_since</th>\n",
       "      <th>host_is_superhost</th>\n",
       "      <th>number_of_reviews</th>\n",
       "      <th>first_review</th>\n",
       "      <th>last_review</th>\n",
       "      <th>review_scores_rating</th>\n",
       "      <th>review_scores_accuracy</th>\n",
       "      <th>review_scores_cleanliness</th>\n",
       "      <th>review_scores_checkin</th>\n",
       "      <th>review_scores_communication</th>\n",
       "      <th>review_scores_location</th>\n",
       "      <th>review_scores_value</th>\n",
       "      <th>reviews_per_month</th>\n",
       "    </tr>\n",
       "  </thead>\n",
       "  <tbody>\n",
       "    <tr>\n",
       "      <th>0</th>\n",
       "      <td>241032</td>\n",
       "      <td>TV,Cable TV,Internet,Wireless Internet,Air Conditioning,Kitchen,Heating,Family/Kid Friendly,Washer,Dryer</td>\n",
       "      <td>2011-08-11</td>\n",
       "      <td>f</td>\n",
       "      <td>207</td>\n",
       "      <td>2011-11-01</td>\n",
       "      <td>2016-01-02</td>\n",
       "      <td>95</td>\n",
       "      <td>10</td>\n",
       "      <td>10</td>\n",
       "      <td>10</td>\n",
       "      <td>10</td>\n",
       "      <td>9</td>\n",
       "      <td>10</td>\n",
       "      <td>4</td>\n",
       "    </tr>\n",
       "    <tr>\n",
       "      <th>1</th>\n",
       "      <td>953595</td>\n",
       "      <td>TV,Internet,Wireless Internet,Kitchen,Free Parking on Premises,Buzzer/Wireless Intercom,Heating,Family/Kid Friendly,Washer,Dryer,Smoke Detector,Carbon Monoxide Detector,First Aid Kit,Safety Card,Fire Extinguisher,Essentials</td>\n",
       "      <td>2013-02-21</td>\n",
       "      <td>t</td>\n",
       "      <td>43</td>\n",
       "      <td>2013-08-19</td>\n",
       "      <td>2015-12-29</td>\n",
       "      <td>96</td>\n",
       "      <td>10</td>\n",
       "      <td>10</td>\n",
       "      <td>10</td>\n",
       "      <td>10</td>\n",
       "      <td>10</td>\n",
       "      <td>10</td>\n",
       "      <td>1</td>\n",
       "    </tr>\n",
       "    <tr>\n",
       "      <th>2</th>\n",
       "      <td>3308979</td>\n",
       "      <td>TV,Cable TV,Internet,Wireless Internet,Air Conditioning,Kitchen,Free Parking on Premises,Pets Allowed,Pets live on this property,Dog(s),Cat(s),Hot Tub,Indoor Fireplace,Heating,Family/Kid Friendly,Washer,Dryer,Smoke Detector,Carbon Monoxide Detector,Essentials,Shampoo</td>\n",
       "      <td>2014-06-12</td>\n",
       "      <td>f</td>\n",
       "      <td>20</td>\n",
       "      <td>2014-07-30</td>\n",
       "      <td>2015-09-03</td>\n",
       "      <td>97</td>\n",
       "      <td>10</td>\n",
       "      <td>10</td>\n",
       "      <td>10</td>\n",
       "      <td>10</td>\n",
       "      <td>10</td>\n",
       "      <td>10</td>\n",
       "      <td>1</td>\n",
       "    </tr>\n",
       "    <tr>\n",
       "      <th>3</th>\n",
       "      <td>7421966</td>\n",
       "      <td>Internet,Wireless Internet,Kitchen,Indoor Fireplace,Heating,Family/Kid Friendly,Washer,Dryer,Smoke Detector,Carbon Monoxide Detector,Safety Card,Fire Extinguisher,Essentials,Shampoo</td>\n",
       "      <td>2013-11-06</td>\n",
       "      <td>f</td>\n",
       "      <td>0</td>\n",
       "      <td>NaN</td>\n",
       "      <td>NaN</td>\n",
       "      <td>nan</td>\n",
       "      <td>nan</td>\n",
       "      <td>nan</td>\n",
       "      <td>nan</td>\n",
       "      <td>nan</td>\n",
       "      <td>nan</td>\n",
       "      <td>nan</td>\n",
       "      <td>nan</td>\n",
       "    </tr>\n",
       "    <tr>\n",
       "      <th>4</th>\n",
       "      <td>278830</td>\n",
       "      <td>TV,Cable TV,Internet,Wireless Internet,Kitchen,Heating,Family/Kid Friendly,Smoke Detector,Carbon Monoxide Detector,First Aid Kit,Fire Extinguisher,Essentials,Shampoo</td>\n",
       "      <td>2011-11-29</td>\n",
       "      <td>f</td>\n",
       "      <td>38</td>\n",
       "      <td>2012-07-10</td>\n",
       "      <td>2015-10-24</td>\n",
       "      <td>92</td>\n",
       "      <td>9</td>\n",
       "      <td>9</td>\n",
       "      <td>10</td>\n",
       "      <td>10</td>\n",
       "      <td>9</td>\n",
       "      <td>9</td>\n",
       "      <td>1</td>\n",
       "    </tr>\n",
       "  </tbody>\n",
       "</table>\n",
       "</div>"
      ],
      "text/plain": [
       "        id  \\\n",
       "0   241032   \n",
       "1   953595   \n",
       "2  3308979   \n",
       "3  7421966   \n",
       "4   278830   \n",
       "\n",
       "                                                                                                                                                                                                                                                                     amenities  \\\n",
       "0                                                                                                                                                                     TV,Cable TV,Internet,Wireless Internet,Air Conditioning,Kitchen,Heating,Family/Kid Friendly,Washer,Dryer   \n",
       "1                                              TV,Internet,Wireless Internet,Kitchen,Free Parking on Premises,Buzzer/Wireless Intercom,Heating,Family/Kid Friendly,Washer,Dryer,Smoke Detector,Carbon Monoxide Detector,First Aid Kit,Safety Card,Fire Extinguisher,Essentials   \n",
       "2  TV,Cable TV,Internet,Wireless Internet,Air Conditioning,Kitchen,Free Parking on Premises,Pets Allowed,Pets live on this property,Dog(s),Cat(s),Hot Tub,Indoor Fireplace,Heating,Family/Kid Friendly,Washer,Dryer,Smoke Detector,Carbon Monoxide Detector,Essentials,Shampoo   \n",
       "3                                                                                        Internet,Wireless Internet,Kitchen,Indoor Fireplace,Heating,Family/Kid Friendly,Washer,Dryer,Smoke Detector,Carbon Monoxide Detector,Safety Card,Fire Extinguisher,Essentials,Shampoo   \n",
       "4                                                                                                        TV,Cable TV,Internet,Wireless Internet,Kitchen,Heating,Family/Kid Friendly,Smoke Detector,Carbon Monoxide Detector,First Aid Kit,Fire Extinguisher,Essentials,Shampoo   \n",
       "\n",
       "   host_since host_is_superhost  number_of_reviews first_review last_review  \\\n",
       "0  2011-08-11                 f                207   2011-11-01  2016-01-02   \n",
       "1  2013-02-21                 t                 43   2013-08-19  2015-12-29   \n",
       "2  2014-06-12                 f                 20   2014-07-30  2015-09-03   \n",
       "3  2013-11-06                 f                  0          NaN         NaN   \n",
       "4  2011-11-29                 f                 38   2012-07-10  2015-10-24   \n",
       "\n",
       "   review_scores_rating  review_scores_accuracy  review_scores_cleanliness  \\\n",
       "0                    95                      10                         10   \n",
       "1                    96                      10                         10   \n",
       "2                    97                      10                         10   \n",
       "3                   nan                     nan                        nan   \n",
       "4                    92                       9                          9   \n",
       "\n",
       "   review_scores_checkin  review_scores_communication  review_scores_location  \\\n",
       "0                     10                           10                       9   \n",
       "1                     10                           10                      10   \n",
       "2                     10                           10                      10   \n",
       "3                    nan                          nan                     nan   \n",
       "4                     10                           10                       9   \n",
       "\n",
       "   review_scores_value  reviews_per_month  \n",
       "0                   10                  4  \n",
       "1                   10                  1  \n",
       "2                   10                  1  \n",
       "3                  nan                nan  \n",
       "4                    9                  1  "
      ]
     },
     "execution_count": 86,
     "metadata": {},
     "output_type": "execute_result"
    }
   ],
   "source": [
    "listings_temp.head()"
   ]
  },
  {
   "cell_type": "code",
   "execution_count": 87,
   "metadata": {
    "ExecuteTime": {
     "end_time": "2024-06-01T02:01:15.585650Z",
     "start_time": "2024-06-01T02:01:15.574093Z"
    },
    "scrolled": true
   },
   "outputs": [
    {
     "name": "stderr",
     "output_type": "stream",
     "text": [
      "C:\\Users\\arjunanl\\Anaconda3\\lib\\site-packages\\ipykernel_launcher.py:2: SettingWithCopyWarning: \n",
      "A value is trying to be set on a copy of a slice from a DataFrame.\n",
      "Try using .loc[row_indexer,col_indexer] = value instead\n",
      "\n",
      "See the caveats in the documentation: https://pandas.pydata.org/pandas-docs/stable/user_guide/indexing.html#returning-a-view-versus-a-copy\n",
      "  \n"
     ]
    }
   ],
   "source": [
    "# split the amenities column into individual amenities\n",
    "listings_temp['amenities_list'] = listings_temp['amenities'].apply(lambda x: x.split(','))"
   ]
  },
  {
   "cell_type": "code",
   "execution_count": 88,
   "metadata": {
    "ExecuteTime": {
     "end_time": "2024-06-01T02:01:16.458491Z",
     "start_time": "2024-06-01T02:01:16.449434Z"
    },
    "scrolled": true
   },
   "outputs": [
    {
     "data": {
      "text/html": [
       "<div>\n",
       "<style scoped>\n",
       "    .dataframe tbody tr th:only-of-type {\n",
       "        vertical-align: middle;\n",
       "    }\n",
       "\n",
       "    .dataframe tbody tr th {\n",
       "        vertical-align: top;\n",
       "    }\n",
       "\n",
       "    .dataframe thead th {\n",
       "        text-align: right;\n",
       "    }\n",
       "</style>\n",
       "<table border=\"1\" class=\"dataframe\">\n",
       "  <thead>\n",
       "    <tr style=\"text-align: right;\">\n",
       "      <th></th>\n",
       "      <th>amenities_list</th>\n",
       "    </tr>\n",
       "  </thead>\n",
       "  <tbody>\n",
       "    <tr>\n",
       "      <th>0</th>\n",
       "      <td>[TV, Cable TV, Internet, Wireless Internet, Air Conditioning, Kitchen, Heating, Family/Kid Friendly, Washer, Dryer]</td>\n",
       "    </tr>\n",
       "    <tr>\n",
       "      <th>1</th>\n",
       "      <td>[TV, Internet, Wireless Internet, Kitchen, Free Parking on Premises, Buzzer/Wireless Intercom, Heating, Family/Kid Friendly, Washer, Dryer, Smoke Detector, Carbon Monoxide Detector, First Aid Kit, Safety Card, Fire Extinguisher, Essentials]</td>\n",
       "    </tr>\n",
       "    <tr>\n",
       "      <th>2</th>\n",
       "      <td>[TV, Cable TV, Internet, Wireless Internet, Air Conditioning, Kitchen, Free Parking on Premises, Pets Allowed, Pets live on this property, Dog(s), Cat(s), Hot Tub, Indoor Fireplace, Heating, Family/Kid Friendly, Washer, Dryer, Smoke Detector, Carbon Monoxide Detector, Essentials, Shampoo]</td>\n",
       "    </tr>\n",
       "    <tr>\n",
       "      <th>3</th>\n",
       "      <td>[Internet, Wireless Internet, Kitchen, Indoor Fireplace, Heating, Family/Kid Friendly, Washer, Dryer, Smoke Detector, Carbon Monoxide Detector, Safety Card, Fire Extinguisher, Essentials, Shampoo]</td>\n",
       "    </tr>\n",
       "    <tr>\n",
       "      <th>4</th>\n",
       "      <td>[TV, Cable TV, Internet, Wireless Internet, Kitchen, Heating, Family/Kid Friendly, Smoke Detector, Carbon Monoxide Detector, First Aid Kit, Fire Extinguisher, Essentials, Shampoo]</td>\n",
       "    </tr>\n",
       "  </tbody>\n",
       "</table>\n",
       "</div>"
      ],
      "text/plain": [
       "                                                                                                                                                                                                                                                                                      amenities_list\n",
       "0                                                                                                                                                                                [TV, Cable TV, Internet, Wireless Internet, Air Conditioning, Kitchen, Heating, Family/Kid Friendly, Washer, Dryer]\n",
       "1                                                   [TV, Internet, Wireless Internet, Kitchen, Free Parking on Premises, Buzzer/Wireless Intercom, Heating, Family/Kid Friendly, Washer, Dryer, Smoke Detector, Carbon Monoxide Detector, First Aid Kit, Safety Card, Fire Extinguisher, Essentials]\n",
       "2  [TV, Cable TV, Internet, Wireless Internet, Air Conditioning, Kitchen, Free Parking on Premises, Pets Allowed, Pets live on this property, Dog(s), Cat(s), Hot Tub, Indoor Fireplace, Heating, Family/Kid Friendly, Washer, Dryer, Smoke Detector, Carbon Monoxide Detector, Essentials, Shampoo]\n",
       "3                                                                                               [Internet, Wireless Internet, Kitchen, Indoor Fireplace, Heating, Family/Kid Friendly, Washer, Dryer, Smoke Detector, Carbon Monoxide Detector, Safety Card, Fire Extinguisher, Essentials, Shampoo]\n",
       "4                                                                                                                [TV, Cable TV, Internet, Wireless Internet, Kitchen, Heating, Family/Kid Friendly, Smoke Detector, Carbon Monoxide Detector, First Aid Kit, Fire Extinguisher, Essentials, Shampoo]"
      ]
     },
     "execution_count": 88,
     "metadata": {},
     "output_type": "execute_result"
    }
   ],
   "source": [
    "listings_temp[['amenities_list']].head(5)"
   ]
  },
  {
   "cell_type": "code",
   "execution_count": 89,
   "metadata": {
    "ExecuteTime": {
     "end_time": "2024-06-01T02:01:17.217878Z",
     "start_time": "2024-06-01T02:01:17.214900Z"
    },
    "scrolled": true
   },
   "outputs": [],
   "source": [
    "# convert amenities column into a list of lists\n",
    "am_list = listings_temp['amenities'].to_list()"
   ]
  },
  {
   "cell_type": "code",
   "execution_count": 90,
   "metadata": {
    "ExecuteTime": {
     "end_time": "2024-06-01T02:01:18.485583Z",
     "start_time": "2024-06-01T02:01:17.794414Z"
    }
   },
   "outputs": [],
   "source": [
    "# get a distinct list of amenities from the list of lists\n",
    "amenities_distinct = []\n",
    "for item in am_list:\n",
    "    temp_list = item.split(',')\n",
    "    amenities_distinct = amenities_distinct + temp_list\n",
    "amenities_distinct = sorted(set(amenities_distinct))\n",
    "amenities_distinct = list(filter(None, amenities_distinct))"
   ]
  },
  {
   "cell_type": "code",
   "execution_count": 91,
   "metadata": {
    "ExecuteTime": {
     "end_time": "2024-06-01T02:01:18.491213Z",
     "start_time": "2024-06-01T02:01:18.487527Z"
    },
    "scrolled": true
   },
   "outputs": [
    {
     "data": {
      "text/plain": [
       "['24-Hour Check-in',\n",
       " 'Air Conditioning',\n",
       " 'Breakfast',\n",
       " 'Buzzer/Wireless Intercom',\n",
       " 'Cable TV',\n",
       " 'Carbon Monoxide Detector',\n",
       " 'Cat(s)',\n",
       " 'Dog(s)',\n",
       " 'Doorman',\n",
       " 'Dryer',\n",
       " 'Elevator in Building',\n",
       " 'Essentials',\n",
       " 'Family/Kid Friendly',\n",
       " 'Fire Extinguisher',\n",
       " 'First Aid Kit',\n",
       " 'Free Parking on Premises',\n",
       " 'Gym',\n",
       " 'Hair Dryer',\n",
       " 'Hangers',\n",
       " 'Heating',\n",
       " 'Hot Tub',\n",
       " 'Indoor Fireplace',\n",
       " 'Internet',\n",
       " 'Iron',\n",
       " 'Kitchen',\n",
       " 'Laptop Friendly Workspace',\n",
       " 'Lock on Bedroom Door',\n",
       " 'Other pet(s)',\n",
       " 'Pets Allowed',\n",
       " 'Pets live on this property',\n",
       " 'Pool',\n",
       " 'Safety Card',\n",
       " 'Shampoo',\n",
       " 'Smoke Detector',\n",
       " 'Smoking Allowed',\n",
       " 'Suitable for Events',\n",
       " 'TV',\n",
       " 'Washer',\n",
       " 'Washer / Dryer',\n",
       " 'Wheelchair Accessible',\n",
       " 'Wireless Internet']"
      ]
     },
     "execution_count": 91,
     "metadata": {},
     "output_type": "execute_result"
    }
   ],
   "source": [
    "amenities_distinct"
   ]
  },
  {
   "cell_type": "code",
   "execution_count": 92,
   "metadata": {
    "ExecuteTime": {
     "end_time": "2024-06-01T02:01:19.191106Z",
     "start_time": "2024-06-01T02:01:19.154362Z"
    }
   },
   "outputs": [],
   "source": [
    "# determine whether the listing offers any amenities in the list of distinct amenities\n",
    "amenity_ind_list =[[am in row for row in listings_temp.amenities_list ] for am in amenities_distinct]"
   ]
  },
  {
   "cell_type": "code",
   "execution_count": 93,
   "metadata": {
    "ExecuteTime": {
     "end_time": "2024-06-01T02:01:20.823376Z",
     "start_time": "2024-06-01T02:01:20.646216Z"
    }
   },
   "outputs": [],
   "source": [
    "amenity_ind_df = pd.DataFrame(amenity_ind_list,index=amenities_distinct).T"
   ]
  },
  {
   "cell_type": "code",
   "execution_count": 94,
   "metadata": {
    "ExecuteTime": {
     "end_time": "2024-06-01T02:01:21.128500Z",
     "start_time": "2024-06-01T02:01:21.085996Z"
    },
    "scrolled": true
   },
   "outputs": [
    {
     "data": {
      "text/html": [
       "<div>\n",
       "<style scoped>\n",
       "    .dataframe tbody tr th:only-of-type {\n",
       "        vertical-align: middle;\n",
       "    }\n",
       "\n",
       "    .dataframe tbody tr th {\n",
       "        vertical-align: top;\n",
       "    }\n",
       "\n",
       "    .dataframe thead th {\n",
       "        text-align: right;\n",
       "    }\n",
       "</style>\n",
       "<table border=\"1\" class=\"dataframe\">\n",
       "  <thead>\n",
       "    <tr style=\"text-align: right;\">\n",
       "      <th></th>\n",
       "      <th>24-Hour Check-in</th>\n",
       "      <th>Air Conditioning</th>\n",
       "      <th>Breakfast</th>\n",
       "      <th>Buzzer/Wireless Intercom</th>\n",
       "      <th>Cable TV</th>\n",
       "      <th>Carbon Monoxide Detector</th>\n",
       "      <th>Cat(s)</th>\n",
       "      <th>Dog(s)</th>\n",
       "      <th>Doorman</th>\n",
       "      <th>Dryer</th>\n",
       "      <th>Elevator in Building</th>\n",
       "      <th>Essentials</th>\n",
       "      <th>Family/Kid Friendly</th>\n",
       "      <th>Fire Extinguisher</th>\n",
       "      <th>First Aid Kit</th>\n",
       "      <th>Free Parking on Premises</th>\n",
       "      <th>Gym</th>\n",
       "      <th>Hair Dryer</th>\n",
       "      <th>Hangers</th>\n",
       "      <th>Heating</th>\n",
       "      <th>Hot Tub</th>\n",
       "      <th>Indoor Fireplace</th>\n",
       "      <th>Internet</th>\n",
       "      <th>Iron</th>\n",
       "      <th>Kitchen</th>\n",
       "      <th>Laptop Friendly Workspace</th>\n",
       "      <th>Lock on Bedroom Door</th>\n",
       "      <th>Other pet(s)</th>\n",
       "      <th>Pets Allowed</th>\n",
       "      <th>Pets live on this property</th>\n",
       "      <th>Pool</th>\n",
       "      <th>Safety Card</th>\n",
       "      <th>Shampoo</th>\n",
       "      <th>Smoke Detector</th>\n",
       "      <th>Smoking Allowed</th>\n",
       "      <th>Suitable for Events</th>\n",
       "      <th>TV</th>\n",
       "      <th>Washer</th>\n",
       "      <th>Washer / Dryer</th>\n",
       "      <th>Wheelchair Accessible</th>\n",
       "      <th>Wireless Internet</th>\n",
       "    </tr>\n",
       "  </thead>\n",
       "  <tbody>\n",
       "    <tr>\n",
       "      <th>0</th>\n",
       "      <td>False</td>\n",
       "      <td>True</td>\n",
       "      <td>False</td>\n",
       "      <td>False</td>\n",
       "      <td>True</td>\n",
       "      <td>False</td>\n",
       "      <td>False</td>\n",
       "      <td>False</td>\n",
       "      <td>False</td>\n",
       "      <td>True</td>\n",
       "      <td>False</td>\n",
       "      <td>False</td>\n",
       "      <td>True</td>\n",
       "      <td>False</td>\n",
       "      <td>False</td>\n",
       "      <td>False</td>\n",
       "      <td>False</td>\n",
       "      <td>False</td>\n",
       "      <td>False</td>\n",
       "      <td>True</td>\n",
       "      <td>False</td>\n",
       "      <td>False</td>\n",
       "      <td>True</td>\n",
       "      <td>False</td>\n",
       "      <td>True</td>\n",
       "      <td>False</td>\n",
       "      <td>False</td>\n",
       "      <td>False</td>\n",
       "      <td>False</td>\n",
       "      <td>False</td>\n",
       "      <td>False</td>\n",
       "      <td>False</td>\n",
       "      <td>False</td>\n",
       "      <td>False</td>\n",
       "      <td>False</td>\n",
       "      <td>False</td>\n",
       "      <td>True</td>\n",
       "      <td>True</td>\n",
       "      <td>False</td>\n",
       "      <td>False</td>\n",
       "      <td>True</td>\n",
       "    </tr>\n",
       "    <tr>\n",
       "      <th>1</th>\n",
       "      <td>False</td>\n",
       "      <td>False</td>\n",
       "      <td>False</td>\n",
       "      <td>True</td>\n",
       "      <td>False</td>\n",
       "      <td>True</td>\n",
       "      <td>False</td>\n",
       "      <td>False</td>\n",
       "      <td>False</td>\n",
       "      <td>True</td>\n",
       "      <td>False</td>\n",
       "      <td>True</td>\n",
       "      <td>True</td>\n",
       "      <td>True</td>\n",
       "      <td>True</td>\n",
       "      <td>True</td>\n",
       "      <td>False</td>\n",
       "      <td>False</td>\n",
       "      <td>False</td>\n",
       "      <td>True</td>\n",
       "      <td>False</td>\n",
       "      <td>False</td>\n",
       "      <td>True</td>\n",
       "      <td>False</td>\n",
       "      <td>True</td>\n",
       "      <td>False</td>\n",
       "      <td>False</td>\n",
       "      <td>False</td>\n",
       "      <td>False</td>\n",
       "      <td>False</td>\n",
       "      <td>False</td>\n",
       "      <td>True</td>\n",
       "      <td>False</td>\n",
       "      <td>True</td>\n",
       "      <td>False</td>\n",
       "      <td>False</td>\n",
       "      <td>True</td>\n",
       "      <td>True</td>\n",
       "      <td>False</td>\n",
       "      <td>False</td>\n",
       "      <td>True</td>\n",
       "    </tr>\n",
       "    <tr>\n",
       "      <th>2</th>\n",
       "      <td>False</td>\n",
       "      <td>True</td>\n",
       "      <td>False</td>\n",
       "      <td>False</td>\n",
       "      <td>True</td>\n",
       "      <td>True</td>\n",
       "      <td>True</td>\n",
       "      <td>True</td>\n",
       "      <td>False</td>\n",
       "      <td>True</td>\n",
       "      <td>False</td>\n",
       "      <td>True</td>\n",
       "      <td>True</td>\n",
       "      <td>False</td>\n",
       "      <td>False</td>\n",
       "      <td>True</td>\n",
       "      <td>False</td>\n",
       "      <td>False</td>\n",
       "      <td>False</td>\n",
       "      <td>True</td>\n",
       "      <td>True</td>\n",
       "      <td>True</td>\n",
       "      <td>True</td>\n",
       "      <td>False</td>\n",
       "      <td>True</td>\n",
       "      <td>False</td>\n",
       "      <td>False</td>\n",
       "      <td>False</td>\n",
       "      <td>True</td>\n",
       "      <td>True</td>\n",
       "      <td>False</td>\n",
       "      <td>False</td>\n",
       "      <td>True</td>\n",
       "      <td>True</td>\n",
       "      <td>False</td>\n",
       "      <td>False</td>\n",
       "      <td>True</td>\n",
       "      <td>True</td>\n",
       "      <td>False</td>\n",
       "      <td>False</td>\n",
       "      <td>True</td>\n",
       "    </tr>\n",
       "    <tr>\n",
       "      <th>3</th>\n",
       "      <td>False</td>\n",
       "      <td>False</td>\n",
       "      <td>False</td>\n",
       "      <td>False</td>\n",
       "      <td>False</td>\n",
       "      <td>True</td>\n",
       "      <td>False</td>\n",
       "      <td>False</td>\n",
       "      <td>False</td>\n",
       "      <td>True</td>\n",
       "      <td>False</td>\n",
       "      <td>True</td>\n",
       "      <td>True</td>\n",
       "      <td>True</td>\n",
       "      <td>False</td>\n",
       "      <td>False</td>\n",
       "      <td>False</td>\n",
       "      <td>False</td>\n",
       "      <td>False</td>\n",
       "      <td>True</td>\n",
       "      <td>False</td>\n",
       "      <td>True</td>\n",
       "      <td>True</td>\n",
       "      <td>False</td>\n",
       "      <td>True</td>\n",
       "      <td>False</td>\n",
       "      <td>False</td>\n",
       "      <td>False</td>\n",
       "      <td>False</td>\n",
       "      <td>False</td>\n",
       "      <td>False</td>\n",
       "      <td>True</td>\n",
       "      <td>True</td>\n",
       "      <td>True</td>\n",
       "      <td>False</td>\n",
       "      <td>False</td>\n",
       "      <td>False</td>\n",
       "      <td>True</td>\n",
       "      <td>False</td>\n",
       "      <td>False</td>\n",
       "      <td>True</td>\n",
       "    </tr>\n",
       "    <tr>\n",
       "      <th>4</th>\n",
       "      <td>False</td>\n",
       "      <td>False</td>\n",
       "      <td>False</td>\n",
       "      <td>False</td>\n",
       "      <td>True</td>\n",
       "      <td>True</td>\n",
       "      <td>False</td>\n",
       "      <td>False</td>\n",
       "      <td>False</td>\n",
       "      <td>False</td>\n",
       "      <td>False</td>\n",
       "      <td>True</td>\n",
       "      <td>True</td>\n",
       "      <td>True</td>\n",
       "      <td>True</td>\n",
       "      <td>False</td>\n",
       "      <td>False</td>\n",
       "      <td>False</td>\n",
       "      <td>False</td>\n",
       "      <td>True</td>\n",
       "      <td>False</td>\n",
       "      <td>False</td>\n",
       "      <td>True</td>\n",
       "      <td>False</td>\n",
       "      <td>True</td>\n",
       "      <td>False</td>\n",
       "      <td>False</td>\n",
       "      <td>False</td>\n",
       "      <td>False</td>\n",
       "      <td>False</td>\n",
       "      <td>False</td>\n",
       "      <td>False</td>\n",
       "      <td>True</td>\n",
       "      <td>True</td>\n",
       "      <td>False</td>\n",
       "      <td>False</td>\n",
       "      <td>True</td>\n",
       "      <td>False</td>\n",
       "      <td>False</td>\n",
       "      <td>False</td>\n",
       "      <td>True</td>\n",
       "    </tr>\n",
       "  </tbody>\n",
       "</table>\n",
       "</div>"
      ],
      "text/plain": [
       "   24-Hour Check-in  Air Conditioning  Breakfast  Buzzer/Wireless Intercom  \\\n",
       "0             False              True      False                     False   \n",
       "1             False             False      False                      True   \n",
       "2             False              True      False                     False   \n",
       "3             False             False      False                     False   \n",
       "4             False             False      False                     False   \n",
       "\n",
       "   Cable TV  Carbon Monoxide Detector  Cat(s)  Dog(s)  Doorman  Dryer  \\\n",
       "0      True                     False   False   False    False   True   \n",
       "1     False                      True   False   False    False   True   \n",
       "2      True                      True    True    True    False   True   \n",
       "3     False                      True   False   False    False   True   \n",
       "4      True                      True   False   False    False  False   \n",
       "\n",
       "   Elevator in Building  Essentials  Family/Kid Friendly  Fire Extinguisher  \\\n",
       "0                 False       False                 True              False   \n",
       "1                 False        True                 True               True   \n",
       "2                 False        True                 True              False   \n",
       "3                 False        True                 True               True   \n",
       "4                 False        True                 True               True   \n",
       "\n",
       "   First Aid Kit  Free Parking on Premises    Gym  Hair Dryer  Hangers  \\\n",
       "0          False                     False  False       False    False   \n",
       "1           True                      True  False       False    False   \n",
       "2          False                      True  False       False    False   \n",
       "3          False                     False  False       False    False   \n",
       "4           True                     False  False       False    False   \n",
       "\n",
       "   Heating  Hot Tub  Indoor Fireplace  Internet   Iron  Kitchen  \\\n",
       "0     True    False             False      True  False     True   \n",
       "1     True    False             False      True  False     True   \n",
       "2     True     True              True      True  False     True   \n",
       "3     True    False              True      True  False     True   \n",
       "4     True    False             False      True  False     True   \n",
       "\n",
       "   Laptop Friendly Workspace  Lock on Bedroom Door  Other pet(s)  \\\n",
       "0                      False                 False         False   \n",
       "1                      False                 False         False   \n",
       "2                      False                 False         False   \n",
       "3                      False                 False         False   \n",
       "4                      False                 False         False   \n",
       "\n",
       "   Pets Allowed  Pets live on this property   Pool  Safety Card  Shampoo  \\\n",
       "0         False                       False  False        False    False   \n",
       "1         False                       False  False         True    False   \n",
       "2          True                        True  False        False     True   \n",
       "3         False                       False  False         True     True   \n",
       "4         False                       False  False        False     True   \n",
       "\n",
       "   Smoke Detector  Smoking Allowed  Suitable for Events     TV  Washer  \\\n",
       "0           False            False                False   True    True   \n",
       "1            True            False                False   True    True   \n",
       "2            True            False                False   True    True   \n",
       "3            True            False                False  False    True   \n",
       "4            True            False                False   True   False   \n",
       "\n",
       "   Washer / Dryer  Wheelchair Accessible  Wireless Internet  \n",
       "0           False                  False               True  \n",
       "1           False                  False               True  \n",
       "2           False                  False               True  \n",
       "3           False                  False               True  \n",
       "4           False                  False               True  "
      ]
     },
     "execution_count": 94,
     "metadata": {},
     "output_type": "execute_result"
    }
   ],
   "source": [
    "amenity_ind_df.head()"
   ]
  },
  {
   "cell_type": "code",
   "execution_count": 95,
   "metadata": {
    "ExecuteTime": {
     "end_time": "2024-06-01T02:01:22.222113Z",
     "start_time": "2024-06-01T02:01:22.215329Z"
    }
   },
   "outputs": [],
   "source": [
    "# join to original dataframe\n",
    "listings_temp = pd.concat([listings_temp,amenity_ind_df],axis=1)"
   ]
  },
  {
   "cell_type": "code",
   "execution_count": 96,
   "metadata": {
    "ExecuteTime": {
     "end_time": "2024-06-01T02:01:22.590196Z",
     "start_time": "2024-06-01T02:01:22.586302Z"
    }
   },
   "outputs": [
    {
     "data": {
      "text/plain": [
       "(3818, 57)"
      ]
     },
     "execution_count": 96,
     "metadata": {},
     "output_type": "execute_result"
    }
   ],
   "source": [
    "listings_temp.shape"
   ]
  },
  {
   "cell_type": "code",
   "execution_count": 97,
   "metadata": {
    "ExecuteTime": {
     "end_time": "2024-06-01T02:01:22.962664Z",
     "start_time": "2024-06-01T02:01:22.954273Z"
    }
   },
   "outputs": [],
   "source": [
    "# count the number of amenities offered per listing\n",
    "listings_temp['count_amenities'] = listings_temp[['24-Hour Check-in', 'Air Conditioning', 'Breakfast',\n",
    "       'Buzzer/Wireless Intercom', 'Cable TV', 'Carbon Monoxide Detector',\n",
    "       'Cat(s)', 'Dog(s)', 'Doorman', 'Dryer', 'Elevator in Building',\n",
    "       'Essentials', 'Family/Kid Friendly', 'Fire Extinguisher',\n",
    "       'First Aid Kit', 'Free Parking on Premises', 'Gym', 'Hair Dryer',\n",
    "       'Hangers', 'Heating', 'Hot Tub', 'Indoor Fireplace', 'Internet', 'Iron',\n",
    "       'Kitchen', 'Laptop Friendly Workspace', 'Lock on Bedroom Door',\n",
    "       'Other pet(s)', 'Pets Allowed', 'Pets live on this property', 'Pool',\n",
    "       'Safety Card', 'Shampoo', 'Smoke Detector', 'Smoking Allowed',\n",
    "       'Suitable for Events', 'TV', 'Washer', 'Washer / Dryer',\n",
    "       'Wheelchair Accessible', 'Wireless Internet']].sum(axis=1)"
   ]
  },
  {
   "cell_type": "code",
   "execution_count": 98,
   "metadata": {},
   "outputs": [
    {
     "data": {
      "text/plain": [
       "count   3171\n",
       "mean      95\n",
       "std        7\n",
       "min       20\n",
       "25%       93\n",
       "50%       96\n",
       "75%       99\n",
       "max      100\n",
       "Name: review_scores_rating, dtype: float64"
      ]
     },
     "execution_count": 98,
     "metadata": {},
     "output_type": "execute_result"
    }
   ],
   "source": [
    "listings_temp['review_scores_rating'].describe()"
   ]
  },
  {
   "cell_type": "code",
   "execution_count": 99,
   "metadata": {},
   "outputs": [
    {
     "data": {
      "text/plain": [
       "15.029126213592233"
      ]
     },
     "execution_count": 99,
     "metadata": {},
     "output_type": "execute_result"
    }
   ],
   "source": [
    "# for highly rated Airbnbs\n",
    "listings_temp[listings_temp.review_scores_rating >= 99]['count_amenities'].mean()"
   ]
  },
  {
   "cell_type": "code",
   "execution_count": 100,
   "metadata": {},
   "outputs": [
    {
     "data": {
      "text/plain": [
       "13.391644908616188"
      ]
     },
     "execution_count": 100,
     "metadata": {},
     "output_type": "execute_result"
    }
   ],
   "source": [
    "# for lower rated airbnbs\n",
    "listings_temp[listings_temp.review_scores_rating < 93]['count_amenities'].mean()"
   ]
  },
  {
   "cell_type": "code",
   "execution_count": 101,
   "metadata": {
    "ExecuteTime": {
     "end_time": "2024-06-01T02:01:23.794614Z",
     "start_time": "2024-06-01T02:01:23.786318Z"
    }
   },
   "outputs": [
    {
     "data": {
      "text/html": [
       "<div>\n",
       "<style scoped>\n",
       "    .dataframe tbody tr th:only-of-type {\n",
       "        vertical-align: middle;\n",
       "    }\n",
       "\n",
       "    .dataframe tbody tr th {\n",
       "        vertical-align: top;\n",
       "    }\n",
       "\n",
       "    .dataframe thead th {\n",
       "        text-align: right;\n",
       "    }\n",
       "</style>\n",
       "<table border=\"1\" class=\"dataframe\">\n",
       "  <thead>\n",
       "    <tr style=\"text-align: right;\">\n",
       "      <th></th>\n",
       "      <th>id</th>\n",
       "      <th>count_amenities</th>\n",
       "      <th>review_scores_rating</th>\n",
       "    </tr>\n",
       "  </thead>\n",
       "  <tbody>\n",
       "    <tr>\n",
       "      <th>0</th>\n",
       "      <td>241032</td>\n",
       "      <td>10</td>\n",
       "      <td>95</td>\n",
       "    </tr>\n",
       "    <tr>\n",
       "      <th>1</th>\n",
       "      <td>953595</td>\n",
       "      <td>16</td>\n",
       "      <td>96</td>\n",
       "    </tr>\n",
       "    <tr>\n",
       "      <th>2</th>\n",
       "      <td>3308979</td>\n",
       "      <td>21</td>\n",
       "      <td>97</td>\n",
       "    </tr>\n",
       "    <tr>\n",
       "      <th>3</th>\n",
       "      <td>7421966</td>\n",
       "      <td>14</td>\n",
       "      <td>nan</td>\n",
       "    </tr>\n",
       "    <tr>\n",
       "      <th>4</th>\n",
       "      <td>278830</td>\n",
       "      <td>13</td>\n",
       "      <td>92</td>\n",
       "    </tr>\n",
       "  </tbody>\n",
       "</table>\n",
       "</div>"
      ],
      "text/plain": [
       "        id  count_amenities  review_scores_rating\n",
       "0   241032               10                    95\n",
       "1   953595               16                    96\n",
       "2  3308979               21                    97\n",
       "3  7421966               14                   nan\n",
       "4   278830               13                    92"
      ]
     },
     "execution_count": 101,
     "metadata": {},
     "output_type": "execute_result"
    }
   ],
   "source": [
    "listings_temp[['id', 'count_amenities', 'review_scores_rating' ]].head()"
   ]
  },
  {
   "cell_type": "markdown",
   "metadata": {},
   "source": [
    "## 2.1 Amenities vs. ratings"
   ]
  },
  {
   "cell_type": "code",
   "execution_count": 102,
   "metadata": {
    "ExecuteTime": {
     "end_time": "2024-06-01T02:01:24.495213Z",
     "start_time": "2024-06-01T02:01:24.332269Z"
    },
    "scrolled": true
   },
   "outputs": [
    {
     "data": {
      "text/plain": [
       "<matplotlib.axes._subplots.AxesSubplot at 0x1a03c756188>"
      ]
     },
     "execution_count": 102,
     "metadata": {},
     "output_type": "execute_result"
    },
    {
     "data": {
      "image/png": "[encoded data removed]",
      "text/plain": [
       "<Figure size 432x288 with 1 Axes>"
      ]
     },
     "metadata": {
      "needs_background": "light"
     },
     "output_type": "display_data"
    }
   ],
   "source": [
    "# plot a scatter plot of number of amenities versus ratings\n",
    "listings_temp[['count_amenities', 'review_scores_rating' ]].plot(kind = 'scatter', x = 'count_amenities', y = 'review_scores_rating')"
   ]
  },
  {
   "cell_type": "markdown",
   "metadata": {},
   "source": [
    "## 2.1 Analysis of amenity availability"
   ]
  },
  {
   "cell_type": "code",
   "execution_count": 103,
   "metadata": {
    "ExecuteTime": {
     "end_time": "2024-06-01T02:02:02.792362Z",
     "start_time": "2024-06-01T02:02:02.746408Z"
    }
   },
   "outputs": [],
   "source": [
    "# Amenities in all listings\n",
    "amenities_all = listings_temp[amenities_distinct].apply(pd.Series.value_counts).T"
   ]
  },
  {
   "cell_type": "code",
   "execution_count": 104,
   "metadata": {
    "ExecuteTime": {
     "end_time": "2024-06-01T02:02:03.591220Z",
     "start_time": "2024-06-01T02:02:03.586428Z"
    },
    "scrolled": true
   },
   "outputs": [
    {
     "data": {
      "text/plain": [
       "24-Hour Check-in               616\n",
       "Air Conditioning               677\n",
       "Breakfast                      291\n",
       "Buzzer/Wireless Intercom       538\n",
       "Cable TV                      1446\n",
       "Carbon Monoxide Detector      2485\n",
       "Cat(s)                         382\n",
       "Dog(s)                         509\n",
       "Doorman                         85\n",
       "Dryer                         2997\n",
       "Elevator in Building           785\n",
       "Essentials                    3237\n",
       "Family/Kid Friendly           1963\n",
       "Fire Extinguisher             2196\n",
       "First Aid Kit                 1680\n",
       "Free Parking on Premises      2167\n",
       "Gym                            442\n",
       "Hair Dryer                     774\n",
       "Hangers                        846\n",
       "Heating                       3627\n",
       "Hot Tub                        303\n",
       "Indoor Fireplace               886\n",
       "Internet                      2811\n",
       "Iron                           742\n",
       "Kitchen                       3423\n",
       "Laptop Friendly Workspace      745\n",
       "Lock on Bedroom Door           100\n",
       "Other pet(s)                    51\n",
       "Pets Allowed                   472\n",
       "Pets live on this property     883\n",
       "Pool                           159\n",
       "Safety Card                    727\n",
       "Shampoo                       2670\n",
       "Smoke Detector                3281\n",
       "Smoking Allowed                 82\n",
       "Suitable for Events            209\n",
       "TV                            2574\n",
       "Washer                        2992\n",
       "Washer / Dryer                   2\n",
       "Wheelchair Accessible          300\n",
       "Wireless Internet             3667\n",
       "Name: True, dtype: int64"
      ]
     },
     "execution_count": 104,
     "metadata": {},
     "output_type": "execute_result"
    }
   ],
   "source": [
    "amenities_all[True]"
   ]
  },
  {
   "cell_type": "code",
   "execution_count": 105,
   "metadata": {
    "ExecuteTime": {
     "end_time": "2024-06-01T02:02:03.788368Z",
     "start_time": "2024-06-01T02:02:03.784294Z"
    }
   },
   "outputs": [],
   "source": [
    "# calculate percentage of listings that offer each amenity\n",
    "amenities_all['pct_listings'] = (amenities_all[True] / (amenities_all[True] + amenities_all[False]))*100"
   ]
  },
  {
   "cell_type": "code",
   "execution_count": 106,
   "metadata": {
    "ExecuteTime": {
     "end_time": "2024-06-01T02:02:04.373676Z",
     "start_time": "2024-06-01T02:02:04.366262Z"
    }
   },
   "outputs": [
    {
     "data": {
      "text/html": [
       "<div>\n",
       "<style scoped>\n",
       "    .dataframe tbody tr th:only-of-type {\n",
       "        vertical-align: middle;\n",
       "    }\n",
       "\n",
       "    .dataframe tbody tr th {\n",
       "        vertical-align: top;\n",
       "    }\n",
       "\n",
       "    .dataframe thead th {\n",
       "        text-align: right;\n",
       "    }\n",
       "</style>\n",
       "<table border=\"1\" class=\"dataframe\">\n",
       "  <thead>\n",
       "    <tr style=\"text-align: right;\">\n",
       "      <th></th>\n",
       "      <th>False</th>\n",
       "      <th>True</th>\n",
       "      <th>pct_listings</th>\n",
       "    </tr>\n",
       "  </thead>\n",
       "  <tbody>\n",
       "    <tr>\n",
       "      <th>24-Hour Check-in</th>\n",
       "      <td>3202</td>\n",
       "      <td>616</td>\n",
       "      <td>16</td>\n",
       "    </tr>\n",
       "    <tr>\n",
       "      <th>Air Conditioning</th>\n",
       "      <td>3141</td>\n",
       "      <td>677</td>\n",
       "      <td>18</td>\n",
       "    </tr>\n",
       "    <tr>\n",
       "      <th>Breakfast</th>\n",
       "      <td>3527</td>\n",
       "      <td>291</td>\n",
       "      <td>8</td>\n",
       "    </tr>\n",
       "    <tr>\n",
       "      <th>Buzzer/Wireless Intercom</th>\n",
       "      <td>3280</td>\n",
       "      <td>538</td>\n",
       "      <td>14</td>\n",
       "    </tr>\n",
       "    <tr>\n",
       "      <th>Cable TV</th>\n",
       "      <td>2372</td>\n",
       "      <td>1446</td>\n",
       "      <td>38</td>\n",
       "    </tr>\n",
       "  </tbody>\n",
       "</table>\n",
       "</div>"
      ],
      "text/plain": [
       "                          False  True  pct_listings\n",
       "24-Hour Check-in           3202   616            16\n",
       "Air Conditioning           3141   677            18\n",
       "Breakfast                  3527   291             8\n",
       "Buzzer/Wireless Intercom   3280   538            14\n",
       "Cable TV                   2372  1446            38"
      ]
     },
     "execution_count": 106,
     "metadata": {},
     "output_type": "execute_result"
    }
   ],
   "source": [
    "amenities_all.head()"
   ]
  },
  {
   "cell_type": "code",
   "execution_count": 107,
   "metadata": {
    "ExecuteTime": {
     "end_time": "2024-06-01T02:02:05.001238Z",
     "start_time": "2024-06-01T02:02:04.954003Z"
    }
   },
   "outputs": [
    {
     "data": {
      "text/html": [
       "<div>\n",
       "<style scoped>\n",
       "    .dataframe tbody tr th:only-of-type {\n",
       "        vertical-align: middle;\n",
       "    }\n",
       "\n",
       "    .dataframe tbody tr th {\n",
       "        vertical-align: top;\n",
       "    }\n",
       "\n",
       "    .dataframe thead th {\n",
       "        text-align: right;\n",
       "    }\n",
       "</style>\n",
       "<table border=\"1\" class=\"dataframe\">\n",
       "  <thead>\n",
       "    <tr style=\"text-align: right;\">\n",
       "      <th></th>\n",
       "      <th>False</th>\n",
       "      <th>True</th>\n",
       "      <th>pct_listings</th>\n",
       "    </tr>\n",
       "  </thead>\n",
       "  <tbody>\n",
       "    <tr>\n",
       "      <th>24-Hour Check-in</th>\n",
       "      <td>620</td>\n",
       "      <td>158</td>\n",
       "      <td>20</td>\n",
       "    </tr>\n",
       "    <tr>\n",
       "      <th>Air Conditioning</th>\n",
       "      <td>623</td>\n",
       "      <td>155</td>\n",
       "      <td>20</td>\n",
       "    </tr>\n",
       "    <tr>\n",
       "      <th>Breakfast</th>\n",
       "      <td>708</td>\n",
       "      <td>70</td>\n",
       "      <td>9</td>\n",
       "    </tr>\n",
       "    <tr>\n",
       "      <th>Buzzer/Wireless Intercom</th>\n",
       "      <td>668</td>\n",
       "      <td>110</td>\n",
       "      <td>14</td>\n",
       "    </tr>\n",
       "    <tr>\n",
       "      <th>Cable TV</th>\n",
       "      <td>500</td>\n",
       "      <td>278</td>\n",
       "      <td>36</td>\n",
       "    </tr>\n",
       "  </tbody>\n",
       "</table>\n",
       "</div>"
      ],
      "text/plain": [
       "                          False  True  pct_listings\n",
       "24-Hour Check-in            620   158            20\n",
       "Air Conditioning            623   155            20\n",
       "Breakfast                   708    70             9\n",
       "Buzzer/Wireless Intercom    668   110            14\n",
       "Cable TV                    500   278            36"
      ]
     },
     "execution_count": 107,
     "metadata": {},
     "output_type": "execute_result"
    }
   ],
   "source": [
    "# Calculate the percentage of superhost listings that offer each amenity \n",
    "amenities_sh = listings_temp[listings_temp.host_is_superhost == 't'][amenities_distinct].\\\n",
    "    apply(pd.Series.value_counts).T\n",
    "amenities_sh['pct_listings'] = (amenities_sh[True] / (amenities_sh[True] + amenities_sh[False]))*100\n",
    "amenities_sh.head()"
   ]
  },
  {
   "cell_type": "code",
   "execution_count": 108,
   "metadata": {
    "ExecuteTime": {
     "end_time": "2024-06-01T02:02:08.425514Z",
     "start_time": "2024-06-01T02:02:08.374471Z"
    }
   },
   "outputs": [
    {
     "data": {
      "text/html": [
       "<div>\n",
       "<style scoped>\n",
       "    .dataframe tbody tr th:only-of-type {\n",
       "        vertical-align: middle;\n",
       "    }\n",
       "\n",
       "    .dataframe tbody tr th {\n",
       "        vertical-align: top;\n",
       "    }\n",
       "\n",
       "    .dataframe thead th {\n",
       "        text-align: right;\n",
       "    }\n",
       "</style>\n",
       "<table border=\"1\" class=\"dataframe\">\n",
       "  <thead>\n",
       "    <tr style=\"text-align: right;\">\n",
       "      <th></th>\n",
       "      <th>False</th>\n",
       "      <th>True</th>\n",
       "      <th>pct_listings</th>\n",
       "    </tr>\n",
       "  </thead>\n",
       "  <tbody>\n",
       "    <tr>\n",
       "      <th>24-Hour Check-in</th>\n",
       "      <td>779</td>\n",
       "      <td>148</td>\n",
       "      <td>16</td>\n",
       "    </tr>\n",
       "    <tr>\n",
       "      <th>Air Conditioning</th>\n",
       "      <td>756</td>\n",
       "      <td>171</td>\n",
       "      <td>18</td>\n",
       "    </tr>\n",
       "    <tr>\n",
       "      <th>Breakfast</th>\n",
       "      <td>858</td>\n",
       "      <td>69</td>\n",
       "      <td>7</td>\n",
       "    </tr>\n",
       "    <tr>\n",
       "      <th>Buzzer/Wireless Intercom</th>\n",
       "      <td>789</td>\n",
       "      <td>138</td>\n",
       "      <td>15</td>\n",
       "    </tr>\n",
       "    <tr>\n",
       "      <th>Cable TV</th>\n",
       "      <td>546</td>\n",
       "      <td>381</td>\n",
       "      <td>41</td>\n",
       "    </tr>\n",
       "  </tbody>\n",
       "</table>\n",
       "</div>"
      ],
      "text/plain": [
       "                          False  True  pct_listings\n",
       "24-Hour Check-in            779   148            16\n",
       "Air Conditioning            756   171            18\n",
       "Breakfast                   858    69             7\n",
       "Buzzer/Wireless Intercom    789   138            15\n",
       "Cable TV                    546   381            41"
      ]
     },
     "execution_count": 108,
     "metadata": {},
     "output_type": "execute_result"
    }
   ],
   "source": [
    "# Calculate the percentage of highly rated listings that offer each amenity \n",
    "amenities_hr = listings_temp[listings_temp.review_scores_rating >= 99][amenities_distinct].apply(pd.Series.value_counts).T\n",
    "amenities_hr['pct_listings'] = (amenities_hr[True] / (amenities_hr[True] + amenities_hr[False]))*100\n",
    "amenities_hr.head()"
   ]
  },
  {
   "cell_type": "code",
   "execution_count": 109,
   "metadata": {
    "ExecuteTime": {
     "end_time": "2024-06-01T02:02:09.117946Z",
     "start_time": "2024-06-01T02:02:09.066672Z"
    }
   },
   "outputs": [
    {
     "data": {
      "text/html": [
       "<div>\n",
       "<style scoped>\n",
       "    .dataframe tbody tr th:only-of-type {\n",
       "        vertical-align: middle;\n",
       "    }\n",
       "\n",
       "    .dataframe tbody tr th {\n",
       "        vertical-align: top;\n",
       "    }\n",
       "\n",
       "    .dataframe thead th {\n",
       "        text-align: right;\n",
       "    }\n",
       "</style>\n",
       "<table border=\"1\" class=\"dataframe\">\n",
       "  <thead>\n",
       "    <tr style=\"text-align: right;\">\n",
       "      <th></th>\n",
       "      <th>False</th>\n",
       "      <th>True</th>\n",
       "      <th>pct_listings</th>\n",
       "    </tr>\n",
       "  </thead>\n",
       "  <tbody>\n",
       "    <tr>\n",
       "      <th>24-Hour Check-in</th>\n",
       "      <td>843</td>\n",
       "      <td>107</td>\n",
       "      <td>11</td>\n",
       "    </tr>\n",
       "    <tr>\n",
       "      <th>Air Conditioning</th>\n",
       "      <td>813</td>\n",
       "      <td>137</td>\n",
       "      <td>14</td>\n",
       "    </tr>\n",
       "    <tr>\n",
       "      <th>Breakfast</th>\n",
       "      <td>889</td>\n",
       "      <td>61</td>\n",
       "      <td>6</td>\n",
       "    </tr>\n",
       "    <tr>\n",
       "      <th>Buzzer/Wireless Intercom</th>\n",
       "      <td>804</td>\n",
       "      <td>146</td>\n",
       "      <td>15</td>\n",
       "    </tr>\n",
       "    <tr>\n",
       "      <th>Cable TV</th>\n",
       "      <td>610</td>\n",
       "      <td>340</td>\n",
       "      <td>36</td>\n",
       "    </tr>\n",
       "  </tbody>\n",
       "</table>\n",
       "</div>"
      ],
      "text/plain": [
       "                          False  True  pct_listings\n",
       "24-Hour Check-in            843   107            11\n",
       "Air Conditioning            813   137            14\n",
       "Breakfast                   889    61             6\n",
       "Buzzer/Wireless Intercom    804   146            15\n",
       "Cable TV                    610   340            36"
      ]
     },
     "execution_count": 109,
     "metadata": {},
     "output_type": "execute_result"
    }
   ],
   "source": [
    "# Calculate the percentage of low rated listings that offer each amenity \n",
    "amenities_lr = listings_temp[listings_temp.review_scores_rating <=93 ][amenities_distinct].apply(pd.Series.value_counts).T\n",
    "amenities_lr['pct_listings'] = (amenities_lr[True] / (amenities_lr[True] + amenities_lr[False]))*100\n",
    "amenities_lr.head()"
   ]
  },
  {
   "cell_type": "code",
   "execution_count": 110,
   "metadata": {},
   "outputs": [],
   "source": [
    "# combine\n",
    "amenities_all['pct_sh'] =amenities_sh['pct_listings']\n",
    "amenities_all['pct_hr'] =amenities_hr['pct_listings']\n",
    "amenities_all['pct_lr'] =amenities_lr['pct_listings']\n"
   ]
  },
  {
   "cell_type": "code",
   "execution_count": 111,
   "metadata": {
    "scrolled": true
   },
   "outputs": [
    {
     "data": {
      "text/html": [
       "<div>\n",
       "<style scoped>\n",
       "    .dataframe tbody tr th:only-of-type {\n",
       "        vertical-align: middle;\n",
       "    }\n",
       "\n",
       "    .dataframe tbody tr th {\n",
       "        vertical-align: top;\n",
       "    }\n",
       "\n",
       "    .dataframe thead th {\n",
       "        text-align: right;\n",
       "    }\n",
       "</style>\n",
       "<table border=\"1\" class=\"dataframe\">\n",
       "  <thead>\n",
       "    <tr style=\"text-align: right;\">\n",
       "      <th></th>\n",
       "      <th>False</th>\n",
       "      <th>True</th>\n",
       "      <th>pct_listings</th>\n",
       "      <th>pct_sh</th>\n",
       "      <th>pct_hr</th>\n",
       "      <th>pct_lr</th>\n",
       "    </tr>\n",
       "  </thead>\n",
       "  <tbody>\n",
       "    <tr>\n",
       "      <th>24-Hour Check-in</th>\n",
       "      <td>3202</td>\n",
       "      <td>616</td>\n",
       "      <td>16</td>\n",
       "      <td>20</td>\n",
       "      <td>16</td>\n",
       "      <td>11</td>\n",
       "    </tr>\n",
       "    <tr>\n",
       "      <th>Air Conditioning</th>\n",
       "      <td>3141</td>\n",
       "      <td>677</td>\n",
       "      <td>18</td>\n",
       "      <td>20</td>\n",
       "      <td>18</td>\n",
       "      <td>14</td>\n",
       "    </tr>\n",
       "    <tr>\n",
       "      <th>Breakfast</th>\n",
       "      <td>3527</td>\n",
       "      <td>291</td>\n",
       "      <td>8</td>\n",
       "      <td>9</td>\n",
       "      <td>7</td>\n",
       "      <td>6</td>\n",
       "    </tr>\n",
       "    <tr>\n",
       "      <th>Buzzer/Wireless Intercom</th>\n",
       "      <td>3280</td>\n",
       "      <td>538</td>\n",
       "      <td>14</td>\n",
       "      <td>14</td>\n",
       "      <td>15</td>\n",
       "      <td>15</td>\n",
       "    </tr>\n",
       "    <tr>\n",
       "      <th>Cable TV</th>\n",
       "      <td>2372</td>\n",
       "      <td>1446</td>\n",
       "      <td>38</td>\n",
       "      <td>36</td>\n",
       "      <td>41</td>\n",
       "      <td>36</td>\n",
       "    </tr>\n",
       "    <tr>\n",
       "      <th>Carbon Monoxide Detector</th>\n",
       "      <td>1333</td>\n",
       "      <td>2485</td>\n",
       "      <td>65</td>\n",
       "      <td>74</td>\n",
       "      <td>71</td>\n",
       "      <td>61</td>\n",
       "    </tr>\n",
       "    <tr>\n",
       "      <th>Cat(s)</th>\n",
       "      <td>3436</td>\n",
       "      <td>382</td>\n",
       "      <td>10</td>\n",
       "      <td>13</td>\n",
       "      <td>11</td>\n",
       "      <td>7</td>\n",
       "    </tr>\n",
       "    <tr>\n",
       "      <th>Dog(s)</th>\n",
       "      <td>3309</td>\n",
       "      <td>509</td>\n",
       "      <td>13</td>\n",
       "      <td>19</td>\n",
       "      <td>14</td>\n",
       "      <td>10</td>\n",
       "    </tr>\n",
       "    <tr>\n",
       "      <th>Doorman</th>\n",
       "      <td>3733</td>\n",
       "      <td>85</td>\n",
       "      <td>2</td>\n",
       "      <td>4</td>\n",
       "      <td>3</td>\n",
       "      <td>1</td>\n",
       "    </tr>\n",
       "    <tr>\n",
       "      <th>Dryer</th>\n",
       "      <td>821</td>\n",
       "      <td>2997</td>\n",
       "      <td>78</td>\n",
       "      <td>76</td>\n",
       "      <td>82</td>\n",
       "      <td>79</td>\n",
       "    </tr>\n",
       "    <tr>\n",
       "      <th>Elevator in Building</th>\n",
       "      <td>3033</td>\n",
       "      <td>785</td>\n",
       "      <td>21</td>\n",
       "      <td>17</td>\n",
       "      <td>20</td>\n",
       "      <td>22</td>\n",
       "    </tr>\n",
       "    <tr>\n",
       "      <th>Essentials</th>\n",
       "      <td>581</td>\n",
       "      <td>3237</td>\n",
       "      <td>85</td>\n",
       "      <td>91</td>\n",
       "      <td>87</td>\n",
       "      <td>83</td>\n",
       "    </tr>\n",
       "    <tr>\n",
       "      <th>Family/Kid Friendly</th>\n",
       "      <td>1855</td>\n",
       "      <td>1963</td>\n",
       "      <td>51</td>\n",
       "      <td>52</td>\n",
       "      <td>52</td>\n",
       "      <td>53</td>\n",
       "    </tr>\n",
       "    <tr>\n",
       "      <th>Fire Extinguisher</th>\n",
       "      <td>1622</td>\n",
       "      <td>2196</td>\n",
       "      <td>58</td>\n",
       "      <td>67</td>\n",
       "      <td>63</td>\n",
       "      <td>52</td>\n",
       "    </tr>\n",
       "    <tr>\n",
       "      <th>First Aid Kit</th>\n",
       "      <td>2138</td>\n",
       "      <td>1680</td>\n",
       "      <td>44</td>\n",
       "      <td>56</td>\n",
       "      <td>50</td>\n",
       "      <td>39</td>\n",
       "    </tr>\n",
       "    <tr>\n",
       "      <th>Free Parking on Premises</th>\n",
       "      <td>1651</td>\n",
       "      <td>2167</td>\n",
       "      <td>57</td>\n",
       "      <td>59</td>\n",
       "      <td>61</td>\n",
       "      <td>55</td>\n",
       "    </tr>\n",
       "    <tr>\n",
       "      <th>Gym</th>\n",
       "      <td>3376</td>\n",
       "      <td>442</td>\n",
       "      <td>12</td>\n",
       "      <td>11</td>\n",
       "      <td>12</td>\n",
       "      <td>12</td>\n",
       "    </tr>\n",
       "    <tr>\n",
       "      <th>Hair Dryer</th>\n",
       "      <td>3044</td>\n",
       "      <td>774</td>\n",
       "      <td>20</td>\n",
       "      <td>26</td>\n",
       "      <td>20</td>\n",
       "      <td>15</td>\n",
       "    </tr>\n",
       "    <tr>\n",
       "      <th>Hangers</th>\n",
       "      <td>2972</td>\n",
       "      <td>846</td>\n",
       "      <td>22</td>\n",
       "      <td>25</td>\n",
       "      <td>23</td>\n",
       "      <td>16</td>\n",
       "    </tr>\n",
       "    <tr>\n",
       "      <th>Heating</th>\n",
       "      <td>191</td>\n",
       "      <td>3627</td>\n",
       "      <td>95</td>\n",
       "      <td>97</td>\n",
       "      <td>96</td>\n",
       "      <td>95</td>\n",
       "    </tr>\n",
       "    <tr>\n",
       "      <th>Hot Tub</th>\n",
       "      <td>3515</td>\n",
       "      <td>303</td>\n",
       "      <td>8</td>\n",
       "      <td>6</td>\n",
       "      <td>7</td>\n",
       "      <td>9</td>\n",
       "    </tr>\n",
       "    <tr>\n",
       "      <th>Indoor Fireplace</th>\n",
       "      <td>2932</td>\n",
       "      <td>886</td>\n",
       "      <td>23</td>\n",
       "      <td>21</td>\n",
       "      <td>27</td>\n",
       "      <td>21</td>\n",
       "    </tr>\n",
       "    <tr>\n",
       "      <th>Internet</th>\n",
       "      <td>1007</td>\n",
       "      <td>2811</td>\n",
       "      <td>74</td>\n",
       "      <td>76</td>\n",
       "      <td>73</td>\n",
       "      <td>74</td>\n",
       "    </tr>\n",
       "    <tr>\n",
       "      <th>Iron</th>\n",
       "      <td>3076</td>\n",
       "      <td>742</td>\n",
       "      <td>19</td>\n",
       "      <td>24</td>\n",
       "      <td>20</td>\n",
       "      <td>15</td>\n",
       "    </tr>\n",
       "    <tr>\n",
       "      <th>Kitchen</th>\n",
       "      <td>395</td>\n",
       "      <td>3423</td>\n",
       "      <td>90</td>\n",
       "      <td>87</td>\n",
       "      <td>92</td>\n",
       "      <td>91</td>\n",
       "    </tr>\n",
       "    <tr>\n",
       "      <th>Laptop Friendly Workspace</th>\n",
       "      <td>3073</td>\n",
       "      <td>745</td>\n",
       "      <td>20</td>\n",
       "      <td>24</td>\n",
       "      <td>21</td>\n",
       "      <td>13</td>\n",
       "    </tr>\n",
       "    <tr>\n",
       "      <th>Lock on Bedroom Door</th>\n",
       "      <td>3718</td>\n",
       "      <td>100</td>\n",
       "      <td>3</td>\n",
       "      <td>1</td>\n",
       "      <td>2</td>\n",
       "      <td>1</td>\n",
       "    </tr>\n",
       "    <tr>\n",
       "      <th>Other pet(s)</th>\n",
       "      <td>3767</td>\n",
       "      <td>51</td>\n",
       "      <td>1</td>\n",
       "      <td>1</td>\n",
       "      <td>1</td>\n",
       "      <td>1</td>\n",
       "    </tr>\n",
       "    <tr>\n",
       "      <th>Pets Allowed</th>\n",
       "      <td>3346</td>\n",
       "      <td>472</td>\n",
       "      <td>12</td>\n",
       "      <td>10</td>\n",
       "      <td>13</td>\n",
       "      <td>14</td>\n",
       "    </tr>\n",
       "    <tr>\n",
       "      <th>Pets live on this property</th>\n",
       "      <td>2935</td>\n",
       "      <td>883</td>\n",
       "      <td>23</td>\n",
       "      <td>31</td>\n",
       "      <td>26</td>\n",
       "      <td>17</td>\n",
       "    </tr>\n",
       "    <tr>\n",
       "      <th>Pool</th>\n",
       "      <td>3659</td>\n",
       "      <td>159</td>\n",
       "      <td>4</td>\n",
       "      <td>3</td>\n",
       "      <td>4</td>\n",
       "      <td>5</td>\n",
       "    </tr>\n",
       "    <tr>\n",
       "      <th>Safety Card</th>\n",
       "      <td>3091</td>\n",
       "      <td>727</td>\n",
       "      <td>19</td>\n",
       "      <td>27</td>\n",
       "      <td>25</td>\n",
       "      <td>14</td>\n",
       "    </tr>\n",
       "    <tr>\n",
       "      <th>Shampoo</th>\n",
       "      <td>1148</td>\n",
       "      <td>2670</td>\n",
       "      <td>70</td>\n",
       "      <td>84</td>\n",
       "      <td>75</td>\n",
       "      <td>63</td>\n",
       "    </tr>\n",
       "    <tr>\n",
       "      <th>Smoke Detector</th>\n",
       "      <td>537</td>\n",
       "      <td>3281</td>\n",
       "      <td>86</td>\n",
       "      <td>93</td>\n",
       "      <td>90</td>\n",
       "      <td>84</td>\n",
       "    </tr>\n",
       "    <tr>\n",
       "      <th>Smoking Allowed</th>\n",
       "      <td>3736</td>\n",
       "      <td>82</td>\n",
       "      <td>2</td>\n",
       "      <td>2</td>\n",
       "      <td>2</td>\n",
       "      <td>2</td>\n",
       "    </tr>\n",
       "    <tr>\n",
       "      <th>Suitable for Events</th>\n",
       "      <td>3609</td>\n",
       "      <td>209</td>\n",
       "      <td>5</td>\n",
       "      <td>4</td>\n",
       "      <td>6</td>\n",
       "      <td>7</td>\n",
       "    </tr>\n",
       "    <tr>\n",
       "      <th>TV</th>\n",
       "      <td>1244</td>\n",
       "      <td>2574</td>\n",
       "      <td>67</td>\n",
       "      <td>72</td>\n",
       "      <td>71</td>\n",
       "      <td>63</td>\n",
       "    </tr>\n",
       "    <tr>\n",
       "      <th>Washer</th>\n",
       "      <td>826</td>\n",
       "      <td>2992</td>\n",
       "      <td>78</td>\n",
       "      <td>75</td>\n",
       "      <td>82</td>\n",
       "      <td>79</td>\n",
       "    </tr>\n",
       "    <tr>\n",
       "      <th>Washer / Dryer</th>\n",
       "      <td>3816</td>\n",
       "      <td>2</td>\n",
       "      <td>0</td>\n",
       "      <td>nan</td>\n",
       "      <td>nan</td>\n",
       "      <td>0</td>\n",
       "    </tr>\n",
       "    <tr>\n",
       "      <th>Wheelchair Accessible</th>\n",
       "      <td>3518</td>\n",
       "      <td>300</td>\n",
       "      <td>8</td>\n",
       "      <td>6</td>\n",
       "      <td>8</td>\n",
       "      <td>9</td>\n",
       "    </tr>\n",
       "    <tr>\n",
       "      <th>Wireless Internet</th>\n",
       "      <td>151</td>\n",
       "      <td>3667</td>\n",
       "      <td>96</td>\n",
       "      <td>99</td>\n",
       "      <td>97</td>\n",
       "      <td>96</td>\n",
       "    </tr>\n",
       "  </tbody>\n",
       "</table>\n",
       "</div>"
      ],
      "text/plain": [
       "                            False  True  pct_listings  pct_sh  pct_hr  pct_lr\n",
       "24-Hour Check-in             3202   616            16      20      16      11\n",
       "Air Conditioning             3141   677            18      20      18      14\n",
       "Breakfast                    3527   291             8       9       7       6\n",
       "Buzzer/Wireless Intercom     3280   538            14      14      15      15\n",
       "Cable TV                     2372  1446            38      36      41      36\n",
       "Carbon Monoxide Detector     1333  2485            65      74      71      61\n",
       "Cat(s)                       3436   382            10      13      11       7\n",
       "Dog(s)                       3309   509            13      19      14      10\n",
       "Doorman                      3733    85             2       4       3       1\n",
       "Dryer                         821  2997            78      76      82      79\n",
       "Elevator in Building         3033   785            21      17      20      22\n",
       "Essentials                    581  3237            85      91      87      83\n",
       "Family/Kid Friendly          1855  1963            51      52      52      53\n",
       "Fire Extinguisher            1622  2196            58      67      63      52\n",
       "First Aid Kit                2138  1680            44      56      50      39\n",
       "Free Parking on Premises     1651  2167            57      59      61      55\n",
       "Gym                          3376   442            12      11      12      12\n",
       "Hair Dryer                   3044   774            20      26      20      15\n",
       "Hangers                      2972   846            22      25      23      16\n",
       "Heating                       191  3627            95      97      96      95\n",
       "Hot Tub                      3515   303             8       6       7       9\n",
       "Indoor Fireplace             2932   886            23      21      27      21\n",
       "Internet                     1007  2811            74      76      73      74\n",
       "Iron                         3076   742            19      24      20      15\n",
       "Kitchen                       395  3423            90      87      92      91\n",
       "Laptop Friendly Workspace    3073   745            20      24      21      13\n",
       "Lock on Bedroom Door         3718   100             3       1       2       1\n",
       "Other pet(s)                 3767    51             1       1       1       1\n",
       "Pets Allowed                 3346   472            12      10      13      14\n",
       "Pets live on this property   2935   883            23      31      26      17\n",
       "Pool                         3659   159             4       3       4       5\n",
       "Safety Card                  3091   727            19      27      25      14\n",
       "Shampoo                      1148  2670            70      84      75      63\n",
       "Smoke Detector                537  3281            86      93      90      84\n",
       "Smoking Allowed              3736    82             2       2       2       2\n",
       "Suitable for Events          3609   209             5       4       6       7\n",
       "TV                           1244  2574            67      72      71      63\n",
       "Washer                        826  2992            78      75      82      79\n",
       "Washer / Dryer               3816     2             0     nan     nan       0\n",
       "Wheelchair Accessible        3518   300             8       6       8       9\n",
       "Wireless Internet             151  3667            96      99      97      96"
      ]
     },
     "execution_count": 111,
     "metadata": {},
     "output_type": "execute_result"
    }
   ],
   "source": [
    "amenities_all"
   ]
  },
  {
   "cell_type": "code",
   "execution_count": 112,
   "metadata": {
    "ExecuteTime": {
     "end_time": "2024-06-01T02:02:09.770829Z",
     "start_time": "2024-06-01T02:02:09.766491Z"
    }
   },
   "outputs": [],
   "source": [
    "amenities_all_tf = amenities_all.reset_index().rename(columns = {'index':'amenity'})"
   ]
  },
  {
   "cell_type": "code",
   "execution_count": 113,
   "metadata": {},
   "outputs": [
    {
     "data": {
      "image/png": "[encoded data removed]",
      "text/plain": [
       "<Figure size 1152x864 with 2 Axes>"
      ]
     },
     "metadata": {
      "needs_background": "light"
     },
     "output_type": "display_data"
    }
   ],
   "source": [
    "# plot the most common amenities among high and low rated listings\n",
    "fig, ax = plt.subplots(nrows = 2, ncols = 1, figsize = (16, 12), sharex = True, sharey = True)\n",
    "sns.barplot(data = amenities_all_tf.sort_values('pct_listings', ascending = False), x = 'amenity', y = 'pct_hr', ax=ax[0], color = 'b')\n",
    "ax[0].set_title(\"Percentage of listings that have a specific amenity\", fontsize=14, color=\"black\", loc='center', pad=20)\n",
    "sns.barplot(data = amenities_all_tf.sort_values('pct_listings', ascending = False), x = 'amenity', y = 'pct_lr', ax=ax[1], color = 'b')\n",
    "plt.xticks(rotation=90, fontsize = 12);\n",
    "# Adding labels\n",
    "for axis in ax:\n",
    "    for bar in axis.patches:\n",
    "        # Using bar.get_height() + 0.5 to place the label just above the bar\n",
    "        axis.annotate(f'{bar.get_height():.0f}', \n",
    "                      (bar.get_x() + bar.get_width() / 2, bar.get_height()), \n",
    "                      ha='center', va='center', \n",
    "                      xytext=(0, 5), \n",
    "                      textcoords='offset points')\n",
    "# Displaying the plot\n",
    "plt.tight_layout()\n",
    "\n",
    "ax[0].set_ylabel(\"Percent of high rated listings\", fontsize = 14);\n",
    "ax[1].set_xlabel(\"Amenity\", fontsize = 14);\n",
    "ax[1].set_ylabel(\"Percent of low rated listings\", fontsize = 14);\n",
    "ax[0].set_xlabel('') \n",
    "plt.show()"
   ]
  },
  {
   "cell_type": "code",
   "execution_count": null,
   "metadata": {},
   "outputs": [],
   "source": []
  },
  {
   "cell_type": "code",
   "execution_count": 114,
   "metadata": {
    "ExecuteTime": {
     "end_time": "2024-06-01T02:02:37.819879Z",
     "start_time": "2024-06-01T02:02:36.315868Z"
    }
   },
   "outputs": [
    {
     "data": {
      "image/png": "[encoded data removed]",
      "text/plain": [
       "<Figure size 1296x864 with 2 Axes>"
      ]
     },
     "metadata": {
      "needs_background": "light"
     },
     "output_type": "display_data"
    }
   ],
   "source": [
    "# plot the most common amenities among all listings and superhost listings\n",
    "fig, ax = plt.subplots(nrows = 2, ncols = 1, figsize = (18, 12), sharex = True, sharey = True)\n",
    "sns.barplot(data = amenities_all_tf.sort_values('pct_listings', ascending = False), x = 'amenity', y = 'pct_listings', ax=ax[0], color = 'b')\n",
    "sns.barplot(data = amenities_all_tf.sort_values('pct_listings', ascending = False), x = 'amenity', y = 'pct_sh', ax=ax[1], color = 'b')\n",
    "plt.xticks(rotation=90);\n",
    "plt.show()"
   ]
  },
  {
   "cell_type": "code",
   "execution_count": 115,
   "metadata": {},
   "outputs": [],
   "source": [
    "amenities_all_tf = amenities_all_tf.sort_values('pct_listings', ascending = False)"
   ]
  },
  {
   "cell_type": "code",
   "execution_count": 116,
   "metadata": {},
   "outputs": [
    {
     "data": {
      "image/png": "[encoded data removed]",
      "text/plain": [
       "<Figure size 1152x1296 with 1 Axes>"
      ]
     },
     "metadata": {
      "needs_background": "light"
     },
     "output_type": "display_data"
    }
   ],
   "source": [
    "import pandas as pd\n",
    "import seaborn as sns\n",
    "import matplotlib.pyplot as plt\n",
    "\n",
    "df_melted = amenities_all_tf.melt(id_vars='amenity', value_vars=['pct_hr', 'pct_lr'],\n",
    "                                  var_name='rating_type', value_name='percentage')\n",
    "fig, ax = plt.subplots(figsize=(16, 18))\n",
    "\n",
    "# Using hue for the stacked bar chart\n",
    "sns.barplot(data=df_melted, x='percentage', y='amenity', hue='rating_type', ax=ax, orient='h')\n",
    "for p in ax.patches:\n",
    "    width = p.get_width()\n",
    "    ax.annotate(f'{width:.0f}',\n",
    "                (p.get_width(), p.get_y() + p.get_height() / 2),\n",
    "                ha='center', va='center',\n",
    "                xytext=(10, 0),  # Offset of 10 points to the right\n",
    "                textcoords='offset points')\n",
    "# Set titles and labels\n",
    "ax.set_title(\"Percentage of listings with specific amenities\", fontsize=14, color=\"black\", loc='center', pad=20)\n",
    "ax.set_xlabel(\"Percentage\", fontsize=14)\n",
    "ax.set_ylabel(\"Amenity\", fontsize=14)\n",
    "plt.xticks(rotation=90, fontsize=12)\n",
    "plt.yticks( fontsize=12)\n",
    "# Displaying the plot\n",
    "plt.tight_layout()\n",
    "plt.show()\n"
   ]
  }
 ],
 "metadata": {
  "kernelspec": {
   "display_name": "Python 3",
   "language": "python",
   "name": "python3"
  },
  "language_info": {
   "codemirror_mode": {
    "name": "ipython",
    "version": 3
   },
   "file_extension": ".py",
   "mimetype": "text/x-python",
   "name": "python",
   "nbconvert_exporter": "python",
   "pygments_lexer": "ipython3",
   "version": "3.7.6"
  }
 },
 "nbformat": 4,
 "nbformat_minor": 5
}
